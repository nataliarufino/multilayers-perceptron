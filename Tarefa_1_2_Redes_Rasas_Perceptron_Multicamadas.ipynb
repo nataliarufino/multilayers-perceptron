{
  "nbformat": 4,
  "nbformat_minor": 0,
  "metadata": {
    "colab": {
      "provenance": [],
      "authorship_tag": "ABX9TyOWyAW+YKnMk5RacrNX2d3t",
      "include_colab_link": true
    },
    "kernelspec": {
      "name": "python3",
      "display_name": "Python 3"
    },
    "language_info": {
      "name": "python"
    }
  },
  "cells": [
    {
      "cell_type": "markdown",
      "metadata": {
        "id": "view-in-github",
        "colab_type": "text"
      },
      "source": [
        "<a href=\"https://colab.research.google.com/github/nataliarufino/multilayers-perceptron/blob/main/Tarefa_1_2_Redes_Rasas_Perceptron_Multicamadas.ipynb\" target=\"_parent\"><img src=\"https://colab.research.google.com/assets/colab-badge.svg\" alt=\"Open In Colab\"/></a>"
      ]
    },
    {
      "cell_type": "markdown",
      "source": [
        "## Tarefa Prática 1.2: Perceptron Multicamadas  \n",
        "\n",
        "### Modelo Perceptron:\n",
        "\n",
        "* Ler o banco de dados Mammographic Mass Dataset\n",
        "\n",
        "  • http://archive.ics.uci.edu/dataset/161/mammographic+mass\n",
        "\n",
        "* Usar as características: age, shape, margin, density\n",
        "* Fazer a classificação de severity, que pode ser benigno ou maligno\n",
        "* Dividir o banco de dados em 80/20\n",
        "* Implementar 3 arquiteturas diferentes\n",
        "* Mostrar a acurácia no conjunto de validação de todas as 3 arquiteturas\n"
      ],
      "metadata": {
        "id": "f7ewRa6EDHWB"
      }
    },
    {
      "cell_type": "markdown",
      "source": [
        "# Importing Libraries\n",
        "\n",
        "*   Numpy - read/data manipulation\n",
        "*   Pandas - read/data manipulation\n",
        "*   Sklearn - separate data, train the model\n",
        "* Tensorflow - build model, train the model\n",
        "* Matplotlib - show graphs"
      ],
      "metadata": {
        "id": "YilaWirzYh4d"
      }
    },
    {
      "cell_type": "code",
      "execution_count": null,
      "metadata": {
        "id": "yr3l8WtYCsHU"
      },
      "outputs": [],
      "source": [
        "import pandas as pd\n",
        "from sklearn.model_selection import train_test_split\n",
        "import tensorflow as tf\n",
        "from tensorflow.keras import Sequential\n",
        "from tensorflow.keras.layers import InputLayer, Dense\n",
        "import matplotlib.pyplot as plt\n",
        "import numpy as np\n",
        "from sklearn.metrics import confusion_matrix"
      ]
    },
    {
      "cell_type": "markdown",
      "source": [
        "# Preparing the data"
      ],
      "metadata": {
        "id": "mGyHSgI0ZAz0"
      }
    },
    {
      "cell_type": "markdown",
      "source": [
        "1. Read the csv data\n",
        "2. Show data\n",
        "\n",
        "\n"
      ],
      "metadata": {
        "id": "nL11POkNZGn6"
      }
    },
    {
      "cell_type": "markdown",
      "source": [
        "   Atributos:\n",
        "   \n",
        "   1. BI-RADS assessment: 1 to 5 (ordinal)  \n",
        "   2. Age: patient's age in years (integer)\n",
        "   3. Shape: mass shape: round=1 oval=2 lobular=3 irregular=4 (nominal)\n",
        "   4. Margin: mass margin: circumscribed=1 microlobulated=2 obscured=3 ill-defined=4 spiculated=5 (nominal)\n",
        "   5. Density: mass density high=1 iso=2 low=3 fat-containing=4 (ordinal)\n",
        "   6. Severity: benign=0 or malignant=1 (binominal)"
      ],
      "metadata": {
        "id": "3R2Gv-z4n9gG"
      }
    },
    {
      "cell_type": "code",
      "source": [
        "data = pd.read_csv('/content/sample_data/mammographic_masses.csv')\n",
        "data"
      ],
      "metadata": {
        "colab": {
          "base_uri": "https://localhost:8080/",
          "height": 424
        },
        "id": "LzQvJR54ZEmj",
        "outputId": "47ac7bb8-3564-4a32-f116-c0b2104d4de1"
      },
      "execution_count": null,
      "outputs": [
        {
          "output_type": "execute_result",
          "data": {
            "text/plain": [
              "     BI-RADS  Age  Shape  Margin  Density  Severity\n",
              "0          5   67      3       5        3         1\n",
              "1          5   58      4       5        3         1\n",
              "2          4   28      1       1        3         0\n",
              "3          5   57      1       5        3         1\n",
              "4          5   76      1       4        3         1\n",
              "..       ...  ...    ...     ...      ...       ...\n",
              "825        4   47      2       1        3         0\n",
              "826        4   56      4       5        3         1\n",
              "827        4   64      4       5        3         0\n",
              "828        5   66      4       5        3         1\n",
              "829        4   62      3       3        3         0\n",
              "\n",
              "[830 rows x 6 columns]"
            ],
            "text/html": [
              "\n",
              "\n",
              "  <div id=\"df-04fb606a-d32d-4bdd-b0f8-3499a9b459d3\">\n",
              "    <div class=\"colab-df-container\">\n",
              "      <div>\n",
              "<style scoped>\n",
              "    .dataframe tbody tr th:only-of-type {\n",
              "        vertical-align: middle;\n",
              "    }\n",
              "\n",
              "    .dataframe tbody tr th {\n",
              "        vertical-align: top;\n",
              "    }\n",
              "\n",
              "    .dataframe thead th {\n",
              "        text-align: right;\n",
              "    }\n",
              "</style>\n",
              "<table border=\"1\" class=\"dataframe\">\n",
              "  <thead>\n",
              "    <tr style=\"text-align: right;\">\n",
              "      <th></th>\n",
              "      <th>BI-RADS</th>\n",
              "      <th>Age</th>\n",
              "      <th>Shape</th>\n",
              "      <th>Margin</th>\n",
              "      <th>Density</th>\n",
              "      <th>Severity</th>\n",
              "    </tr>\n",
              "  </thead>\n",
              "  <tbody>\n",
              "    <tr>\n",
              "      <th>0</th>\n",
              "      <td>5</td>\n",
              "      <td>67</td>\n",
              "      <td>3</td>\n",
              "      <td>5</td>\n",
              "      <td>3</td>\n",
              "      <td>1</td>\n",
              "    </tr>\n",
              "    <tr>\n",
              "      <th>1</th>\n",
              "      <td>5</td>\n",
              "      <td>58</td>\n",
              "      <td>4</td>\n",
              "      <td>5</td>\n",
              "      <td>3</td>\n",
              "      <td>1</td>\n",
              "    </tr>\n",
              "    <tr>\n",
              "      <th>2</th>\n",
              "      <td>4</td>\n",
              "      <td>28</td>\n",
              "      <td>1</td>\n",
              "      <td>1</td>\n",
              "      <td>3</td>\n",
              "      <td>0</td>\n",
              "    </tr>\n",
              "    <tr>\n",
              "      <th>3</th>\n",
              "      <td>5</td>\n",
              "      <td>57</td>\n",
              "      <td>1</td>\n",
              "      <td>5</td>\n",
              "      <td>3</td>\n",
              "      <td>1</td>\n",
              "    </tr>\n",
              "    <tr>\n",
              "      <th>4</th>\n",
              "      <td>5</td>\n",
              "      <td>76</td>\n",
              "      <td>1</td>\n",
              "      <td>4</td>\n",
              "      <td>3</td>\n",
              "      <td>1</td>\n",
              "    </tr>\n",
              "    <tr>\n",
              "      <th>...</th>\n",
              "      <td>...</td>\n",
              "      <td>...</td>\n",
              "      <td>...</td>\n",
              "      <td>...</td>\n",
              "      <td>...</td>\n",
              "      <td>...</td>\n",
              "    </tr>\n",
              "    <tr>\n",
              "      <th>825</th>\n",
              "      <td>4</td>\n",
              "      <td>47</td>\n",
              "      <td>2</td>\n",
              "      <td>1</td>\n",
              "      <td>3</td>\n",
              "      <td>0</td>\n",
              "    </tr>\n",
              "    <tr>\n",
              "      <th>826</th>\n",
              "      <td>4</td>\n",
              "      <td>56</td>\n",
              "      <td>4</td>\n",
              "      <td>5</td>\n",
              "      <td>3</td>\n",
              "      <td>1</td>\n",
              "    </tr>\n",
              "    <tr>\n",
              "      <th>827</th>\n",
              "      <td>4</td>\n",
              "      <td>64</td>\n",
              "      <td>4</td>\n",
              "      <td>5</td>\n",
              "      <td>3</td>\n",
              "      <td>0</td>\n",
              "    </tr>\n",
              "    <tr>\n",
              "      <th>828</th>\n",
              "      <td>5</td>\n",
              "      <td>66</td>\n",
              "      <td>4</td>\n",
              "      <td>5</td>\n",
              "      <td>3</td>\n",
              "      <td>1</td>\n",
              "    </tr>\n",
              "    <tr>\n",
              "      <th>829</th>\n",
              "      <td>4</td>\n",
              "      <td>62</td>\n",
              "      <td>3</td>\n",
              "      <td>3</td>\n",
              "      <td>3</td>\n",
              "      <td>0</td>\n",
              "    </tr>\n",
              "  </tbody>\n",
              "</table>\n",
              "<p>830 rows × 6 columns</p>\n",
              "</div>\n",
              "      <button class=\"colab-df-convert\" onclick=\"convertToInteractive('df-04fb606a-d32d-4bdd-b0f8-3499a9b459d3')\"\n",
              "              title=\"Convert this dataframe to an interactive table.\"\n",
              "              style=\"display:none;\">\n",
              "\n",
              "  <svg xmlns=\"http://www.w3.org/2000/svg\" height=\"24px\"viewBox=\"0 0 24 24\"\n",
              "       width=\"24px\">\n",
              "    <path d=\"M0 0h24v24H0V0z\" fill=\"none\"/>\n",
              "    <path d=\"M18.56 5.44l.94 2.06.94-2.06 2.06-.94-2.06-.94-.94-2.06-.94 2.06-2.06.94zm-11 1L8.5 8.5l.94-2.06 2.06-.94-2.06-.94L8.5 2.5l-.94 2.06-2.06.94zm10 10l.94 2.06.94-2.06 2.06-.94-2.06-.94-.94-2.06-.94 2.06-2.06.94z\"/><path d=\"M17.41 7.96l-1.37-1.37c-.4-.4-.92-.59-1.43-.59-.52 0-1.04.2-1.43.59L10.3 9.45l-7.72 7.72c-.78.78-.78 2.05 0 2.83L4 21.41c.39.39.9.59 1.41.59.51 0 1.02-.2 1.41-.59l7.78-7.78 2.81-2.81c.8-.78.8-2.07 0-2.86zM5.41 20L4 18.59l7.72-7.72 1.47 1.35L5.41 20z\"/>\n",
              "  </svg>\n",
              "      </button>\n",
              "\n",
              "\n",
              "\n",
              "    <div id=\"df-773f6f04-b8ae-49dd-a945-86c9828fb8aa\">\n",
              "      <button class=\"colab-df-quickchart\" onclick=\"quickchart('df-773f6f04-b8ae-49dd-a945-86c9828fb8aa')\"\n",
              "              title=\"Suggest charts.\"\n",
              "              style=\"display:none;\">\n",
              "\n",
              "<svg xmlns=\"http://www.w3.org/2000/svg\" height=\"24px\"viewBox=\"0 0 24 24\"\n",
              "     width=\"24px\">\n",
              "    <g>\n",
              "        <path d=\"M19 3H5c-1.1 0-2 .9-2 2v14c0 1.1.9 2 2 2h14c1.1 0 2-.9 2-2V5c0-1.1-.9-2-2-2zM9 17H7v-7h2v7zm4 0h-2V7h2v10zm4 0h-2v-4h2v4z\"/>\n",
              "    </g>\n",
              "</svg>\n",
              "      </button>\n",
              "    </div>\n",
              "\n",
              "<style>\n",
              "  .colab-df-quickchart {\n",
              "    background-color: #E8F0FE;\n",
              "    border: none;\n",
              "    border-radius: 50%;\n",
              "    cursor: pointer;\n",
              "    display: none;\n",
              "    fill: #1967D2;\n",
              "    height: 32px;\n",
              "    padding: 0 0 0 0;\n",
              "    width: 32px;\n",
              "  }\n",
              "\n",
              "  .colab-df-quickchart:hover {\n",
              "    background-color: #E2EBFA;\n",
              "    box-shadow: 0px 1px 2px rgba(60, 64, 67, 0.3), 0px 1px 3px 1px rgba(60, 64, 67, 0.15);\n",
              "    fill: #174EA6;\n",
              "  }\n",
              "\n",
              "  [theme=dark] .colab-df-quickchart {\n",
              "    background-color: #3B4455;\n",
              "    fill: #D2E3FC;\n",
              "  }\n",
              "\n",
              "  [theme=dark] .colab-df-quickchart:hover {\n",
              "    background-color: #434B5C;\n",
              "    box-shadow: 0px 1px 3px 1px rgba(0, 0, 0, 0.15);\n",
              "    filter: drop-shadow(0px 1px 2px rgba(0, 0, 0, 0.3));\n",
              "    fill: #FFFFFF;\n",
              "  }\n",
              "</style>\n",
              "\n",
              "    <script>\n",
              "      async function quickchart(key) {\n",
              "        const containerElement = document.querySelector('#' + key);\n",
              "        const charts = await google.colab.kernel.invokeFunction(\n",
              "            'suggestCharts', [key], {});\n",
              "      }\n",
              "    </script>\n",
              "\n",
              "      <script>\n",
              "\n",
              "function displayQuickchartButton(domScope) {\n",
              "  let quickchartButtonEl =\n",
              "    domScope.querySelector('#df-773f6f04-b8ae-49dd-a945-86c9828fb8aa button.colab-df-quickchart');\n",
              "  quickchartButtonEl.style.display =\n",
              "    google.colab.kernel.accessAllowed ? 'block' : 'none';\n",
              "}\n",
              "\n",
              "        displayQuickchartButton(document);\n",
              "      </script>\n",
              "      <style>\n",
              "    .colab-df-container {\n",
              "      display:flex;\n",
              "      flex-wrap:wrap;\n",
              "      gap: 12px;\n",
              "    }\n",
              "\n",
              "    .colab-df-convert {\n",
              "      background-color: #E8F0FE;\n",
              "      border: none;\n",
              "      border-radius: 50%;\n",
              "      cursor: pointer;\n",
              "      display: none;\n",
              "      fill: #1967D2;\n",
              "      height: 32px;\n",
              "      padding: 0 0 0 0;\n",
              "      width: 32px;\n",
              "    }\n",
              "\n",
              "    .colab-df-convert:hover {\n",
              "      background-color: #E2EBFA;\n",
              "      box-shadow: 0px 1px 2px rgba(60, 64, 67, 0.3), 0px 1px 3px 1px rgba(60, 64, 67, 0.15);\n",
              "      fill: #174EA6;\n",
              "    }\n",
              "\n",
              "    [theme=dark] .colab-df-convert {\n",
              "      background-color: #3B4455;\n",
              "      fill: #D2E3FC;\n",
              "    }\n",
              "\n",
              "    [theme=dark] .colab-df-convert:hover {\n",
              "      background-color: #434B5C;\n",
              "      box-shadow: 0px 1px 3px 1px rgba(0, 0, 0, 0.15);\n",
              "      filter: drop-shadow(0px 1px 2px rgba(0, 0, 0, 0.3));\n",
              "      fill: #FFFFFF;\n",
              "    }\n",
              "  </style>\n",
              "\n",
              "      <script>\n",
              "        const buttonEl =\n",
              "          document.querySelector('#df-04fb606a-d32d-4bdd-b0f8-3499a9b459d3 button.colab-df-convert');\n",
              "        buttonEl.style.display =\n",
              "          google.colab.kernel.accessAllowed ? 'block' : 'none';\n",
              "\n",
              "        async function convertToInteractive(key) {\n",
              "          const element = document.querySelector('#df-04fb606a-d32d-4bdd-b0f8-3499a9b459d3');\n",
              "          const dataTable =\n",
              "            await google.colab.kernel.invokeFunction('convertToInteractive',\n",
              "                                                     [key], {});\n",
              "          if (!dataTable) return;\n",
              "\n",
              "          const docLinkHtml = 'Like what you see? Visit the ' +\n",
              "            '<a target=\"_blank\" href=https://colab.research.google.com/notebooks/data_table.ipynb>data table notebook</a>'\n",
              "            + ' to learn more about interactive tables.';\n",
              "          element.innerHTML = '';\n",
              "          dataTable['output_type'] = 'display_data';\n",
              "          await google.colab.output.renderOutput(dataTable, element);\n",
              "          const docLink = document.createElement('div');\n",
              "          docLink.innerHTML = docLinkHtml;\n",
              "          element.appendChild(docLink);\n",
              "        }\n",
              "      </script>\n",
              "    </div>\n",
              "  </div>\n"
            ]
          },
          "metadata": {},
          "execution_count": 547
        }
      ]
    },
    {
      "cell_type": "markdown",
      "source": [
        "3. Define the features (x):\n",
        "* Age\n",
        "* Shape\n",
        "* Margin\n",
        "* Density"
      ],
      "metadata": {
        "id": "h2_XTqr-moDO"
      }
    },
    {
      "cell_type": "code",
      "source": [
        "data.columns"
      ],
      "metadata": {
        "colab": {
          "base_uri": "https://localhost:8080/"
        },
        "id": "Vli9t_lV6gbI",
        "outputId": "de249952-03c0-43c8-d90e-921be626c373"
      },
      "execution_count": null,
      "outputs": [
        {
          "output_type": "execute_result",
          "data": {
            "text/plain": [
              "Index(['BI-RADS', 'Age', 'Shape', 'Margin', 'Density', 'Severity'], dtype='object')"
            ]
          },
          "metadata": {},
          "execution_count": 549
        }
      ]
    },
    {
      "cell_type": "code",
      "source": [
        "features = ['Age', 'Shape', 'Margin', 'Density']\n",
        "len(features)"
      ],
      "metadata": {
        "colab": {
          "base_uri": "https://localhost:8080/"
        },
        "id": "4YkBGUMmm001",
        "outputId": "d023a7f3-5ce4-4d85-9c07-ec6d9f175025"
      },
      "execution_count": null,
      "outputs": [
        {
          "output_type": "execute_result",
          "data": {
            "text/plain": [
              "4"
            ]
          },
          "metadata": {},
          "execution_count": 550
        }
      ]
    },
    {
      "cell_type": "markdown",
      "source": [
        "4. Use *loc* to modify classes into integer values\n",
        "\n",
        "Não será necessário pois neste caso todas as classes são do tipo int"
      ],
      "metadata": {
        "id": "3t5iGQTuosJg"
      }
    },
    {
      "cell_type": "code",
      "source": [
        "data.dtypes"
      ],
      "metadata": {
        "colab": {
          "base_uri": "https://localhost:8080/"
        },
        "id": "muCDYDxXo0ab",
        "outputId": "31322215-cdcb-4438-b9d1-d5f31fc930b1"
      },
      "execution_count": null,
      "outputs": [
        {
          "output_type": "execute_result",
          "data": {
            "text/plain": [
              "BI-RADS     int64\n",
              "Age         int64\n",
              "Shape       int64\n",
              "Margin      int64\n",
              "Density     int64\n",
              "Severity    int64\n",
              "dtype: object"
            ]
          },
          "metadata": {},
          "execution_count": 551
        }
      ]
    },
    {
      "cell_type": "markdown",
      "source": [
        "5. Define x as features and y as targets\n",
        "\n",
        "Dividindo as características e os targets"
      ],
      "metadata": {
        "id": "EYVsekk1m9uZ"
      }
    },
    {
      "cell_type": "code",
      "source": [
        "data_changed = data.drop('BI-RADS', axis = 1) #removendo a coluna"
      ],
      "metadata": {
        "id": "p8hpW2npZAZ_"
      },
      "execution_count": null,
      "outputs": []
    },
    {
      "cell_type": "code",
      "source": [
        "x = data_changed[features].values\n",
        "y = data_changed['Severity'].values"
      ],
      "metadata": {
        "id": "UKi4TTSi6omW"
      },
      "execution_count": null,
      "outputs": []
    },
    {
      "cell_type": "code",
      "source": [
        "x"
      ],
      "metadata": {
        "colab": {
          "base_uri": "https://localhost:8080/"
        },
        "id": "JoEnT7vGYWeO",
        "outputId": "8c10be0e-5da9-485a-8303-3f7cceec5c02"
      },
      "execution_count": null,
      "outputs": [
        {
          "output_type": "execute_result",
          "data": {
            "text/plain": [
              "array([[67,  3,  5,  3],\n",
              "       [58,  4,  5,  3],\n",
              "       [28,  1,  1,  3],\n",
              "       ...,\n",
              "       [64,  4,  5,  3],\n",
              "       [66,  4,  5,  3],\n",
              "       [62,  3,  3,  3]])"
            ]
          },
          "metadata": {},
          "execution_count": 554
        }
      ]
    },
    {
      "cell_type": "markdown",
      "source": [
        "6. Normalizaing x values"
      ],
      "metadata": {
        "id": "R91yYM4785L3"
      }
    },
    {
      "cell_type": "code",
      "source": [
        "from sklearn import preprocessing\n",
        "\n",
        "min_max_scaler = preprocessing.MinMaxScaler()\n",
        "\n",
        "x = min_max_scaler.fit_transform(x)"
      ],
      "metadata": {
        "id": "T9DIxCYJ7ILF"
      },
      "execution_count": null,
      "outputs": []
    },
    {
      "cell_type": "code",
      "source": [
        "x.shape"
      ],
      "metadata": {
        "colab": {
          "base_uri": "https://localhost:8080/"
        },
        "id": "B9eb2vgY9UWI",
        "outputId": "97d1ea28-c48a-4fa4-e05e-a0a535238eb4"
      },
      "execution_count": null,
      "outputs": [
        {
          "output_type": "execute_result",
          "data": {
            "text/plain": [
              "(830, 4)"
            ]
          },
          "metadata": {},
          "execution_count": 556
        }
      ]
    },
    {
      "cell_type": "code",
      "source": [
        "np.unique(y)"
      ],
      "metadata": {
        "colab": {
          "base_uri": "https://localhost:8080/"
        },
        "id": "eGUExSR19WVP",
        "outputId": "511eeb2b-6a1c-47c5-bc84-f79397bfdc4c"
      },
      "execution_count": null,
      "outputs": [
        {
          "output_type": "execute_result",
          "data": {
            "text/plain": [
              "array([0, 1])"
            ]
          },
          "metadata": {},
          "execution_count": 557
        }
      ]
    },
    {
      "cell_type": "code",
      "source": [
        "y"
      ],
      "metadata": {
        "colab": {
          "base_uri": "https://localhost:8080/"
        },
        "id": "gN8Qum58-EMZ",
        "outputId": "33b7abce-feb2-45e8-d64a-7b8bd23789d0"
      },
      "execution_count": null,
      "outputs": [
        {
          "output_type": "execute_result",
          "data": {
            "text/plain": [
              "array([1, 1, 0, 1, 1, 1, 0, 0, 0, 0, 1, 1, 1, 1, 1, 1, 1, 0, 0, 1, 1, 0,\n",
              "       0, 0, 1, 0, 0, 0, 1, 1, 1, 0, 1, 0, 1, 1, 0, 1, 0, 0, 0, 0, 1, 0,\n",
              "       1, 0, 1, 0, 1, 0, 0, 1, 1, 1, 1, 1, 1, 1, 1, 0, 0, 0, 0, 1, 0, 0,\n",
              "       0, 1, 0, 1, 0, 0, 0, 0, 1, 1, 1, 0, 1, 1, 1, 1, 0, 1, 1, 0, 0, 1,\n",
              "       1, 1, 0, 1, 1, 0, 0, 0, 0, 1, 0, 0, 0, 1, 1, 0, 1, 1, 0, 0, 0, 0,\n",
              "       1, 0, 0, 1, 0, 0, 0, 0, 1, 1, 1, 1, 0, 1, 0, 1, 0, 1, 0, 1, 0, 0,\n",
              "       0, 0, 1, 0, 0, 1, 0, 1, 0, 0, 1, 1, 0, 0, 0, 0, 0, 0, 1, 1, 1, 0,\n",
              "       1, 0, 0, 0, 1, 1, 0, 1, 0, 0, 1, 0, 1, 0, 0, 0, 1, 0, 0, 1, 0, 0,\n",
              "       0, 1, 0, 1, 1, 1, 1, 1, 1, 1, 0, 0, 1, 0, 1, 0, 1, 1, 1, 1, 1, 0,\n",
              "       1, 0, 1, 0, 1, 0, 0, 1, 1, 0, 0, 1, 0, 1, 0, 1, 1, 0, 1, 0, 1, 1,\n",
              "       1, 0, 0, 0, 0, 0, 0, 0, 0, 1, 1, 1, 1, 0, 0, 0, 0, 1, 1, 1, 0, 1,\n",
              "       0, 0, 0, 0, 1, 1, 1, 0, 1, 1, 0, 1, 1, 1, 1, 1, 1, 0, 0, 0, 1, 0,\n",
              "       1, 0, 0, 1, 0, 0, 1, 0, 0, 1, 1, 1, 1, 0, 1, 0, 0, 0, 1, 1, 1, 1,\n",
              "       0, 1, 0, 1, 0, 1, 0, 1, 1, 0, 0, 1, 0, 1, 1, 0, 0, 1, 1, 0, 0, 1,\n",
              "       0, 1, 0, 1, 1, 1, 1, 0, 0, 1, 0, 1, 0, 1, 1, 1, 0, 1, 1, 1, 1, 0,\n",
              "       0, 1, 0, 1, 0, 1, 1, 0, 1, 0, 1, 1, 1, 1, 1, 0, 1, 1, 1, 0, 1, 1,\n",
              "       0, 0, 1, 1, 1, 0, 0, 0, 1, 1, 1, 0, 1, 0, 0, 1, 1, 0, 1, 0, 1, 0,\n",
              "       0, 0, 0, 0, 1, 0, 1, 0, 0, 0, 0, 0, 0, 1, 1, 0, 1, 1, 1, 1, 1, 0,\n",
              "       0, 1, 0, 0, 0, 0, 0, 1, 1, 1, 1, 0, 0, 1, 1, 1, 0, 0, 1, 0, 1, 0,\n",
              "       0, 1, 1, 1, 0, 1, 0, 0, 0, 0, 1, 0, 1, 0, 0, 0, 1, 1, 0, 0, 1, 1,\n",
              "       1, 1, 0, 0, 0, 0, 0, 1, 0, 1, 1, 0, 0, 1, 1, 0, 0, 0, 0, 0, 0, 0,\n",
              "       1, 0, 0, 1, 0, 0, 0, 1, 0, 0, 0, 0, 1, 1, 0, 1, 1, 0, 0, 0, 1, 0,\n",
              "       1, 1, 0, 1, 1, 1, 0, 1, 1, 0, 0, 1, 1, 1, 0, 1, 0, 1, 0, 1, 0, 0,\n",
              "       0, 0, 1, 1, 0, 1, 0, 0, 0, 0, 0, 1, 0, 1, 0, 0, 0, 1, 1, 0, 1, 0,\n",
              "       0, 0, 1, 0, 0, 1, 0, 1, 0, 1, 0, 1, 1, 0, 0, 1, 1, 1, 0, 0, 1, 0,\n",
              "       1, 1, 1, 1, 1, 1, 1, 1, 0, 0, 0, 0, 1, 1, 1, 1, 1, 1, 0, 1, 1, 0,\n",
              "       0, 0, 1, 0, 1, 1, 1, 0, 1, 0, 1, 0, 0, 1, 0, 0, 0, 1, 1, 0, 0, 0,\n",
              "       1, 1, 0, 0, 0, 1, 1, 0, 1, 1, 0, 0, 1, 1, 0, 0, 0, 0, 0, 1, 0, 0,\n",
              "       0, 0, 0, 0, 0, 1, 0, 1, 0, 0, 0, 1, 0, 0, 1, 1, 1, 1, 0, 1, 1, 1,\n",
              "       0, 1, 1, 0, 0, 1, 0, 0, 1, 0, 1, 0, 0, 0, 0, 0, 0, 1, 1, 0, 1, 0,\n",
              "       1, 1, 0, 0, 1, 1, 0, 0, 1, 1, 1, 0, 1, 1, 1, 0, 0, 0, 1, 1, 0, 1,\n",
              "       0, 1, 1, 1, 0, 1, 0, 0, 0, 0, 1, 0, 0, 1, 0, 1, 1, 0, 1, 1, 0, 1,\n",
              "       1, 0, 1, 0, 1, 0, 0, 0, 0, 1, 0, 0, 0, 0, 0, 1, 0, 0, 1, 0, 0, 1,\n",
              "       0, 1, 0, 1, 1, 1, 1, 1, 1, 1, 0, 1, 0, 0, 0, 1, 0, 1, 1, 0, 0, 0,\n",
              "       0, 1, 0, 1, 1, 0, 1, 1, 0, 1, 1, 1, 1, 1, 1, 0, 0, 1, 0, 1, 0, 1,\n",
              "       1, 1, 0, 1, 1, 0, 0, 1, 1, 0, 1, 0, 1, 0, 1, 0, 0, 1, 0, 0, 0, 1,\n",
              "       0, 1, 0, 1, 0, 1, 0, 0, 1, 0, 0, 0, 1, 0, 0, 0, 0, 1, 0, 1, 0, 1,\n",
              "       0, 0, 0, 1, 0, 1, 1, 1, 0, 0, 1, 0, 1, 0, 1, 0])"
            ]
          },
          "metadata": {},
          "execution_count": 558
        }
      ]
    },
    {
      "cell_type": "markdown",
      "source": [
        "A classe do vetor target é binária\n",
        "\n",
        "Para a classe binária, vamos usar a função de perda **binary_crossentropy**"
      ],
      "metadata": {
        "id": "1Y6OLa2t9hEc"
      }
    },
    {
      "cell_type": "markdown",
      "source": [
        "7. Split the data\n",
        "\n",
        "80% para treinamento\n",
        "20% para teste"
      ],
      "metadata": {
        "id": "ZeSCYkxP-8Tp"
      }
    },
    {
      "cell_type": "code",
      "source": [
        "x_train, x_test, y_train, y_test = train_test_split(x,\n",
        "                                                    y,\n",
        "                                                    test_size=0.2,\n",
        "                                                    random_state=0)"
      ],
      "metadata": {
        "id": "qRXq-LHw_J1o"
      },
      "execution_count": null,
      "outputs": []
    },
    {
      "cell_type": "code",
      "source": [
        "x_train.shape"
      ],
      "metadata": {
        "colab": {
          "base_uri": "https://localhost:8080/"
        },
        "id": "czmxkLSI_MQw",
        "outputId": "2cfdc306-e555-4584-8d78-098911e766d2"
      },
      "execution_count": null,
      "outputs": [
        {
          "output_type": "execute_result",
          "data": {
            "text/plain": [
              "(664, 4)"
            ]
          },
          "metadata": {},
          "execution_count": 561
        }
      ]
    },
    {
      "cell_type": "code",
      "source": [
        "x_test.shape"
      ],
      "metadata": {
        "colab": {
          "base_uri": "https://localhost:8080/"
        },
        "id": "ZxQJ71PA_Qau",
        "outputId": "62b47056-6378-4636-8f50-99d8567173b7"
      },
      "execution_count": null,
      "outputs": [
        {
          "output_type": "execute_result",
          "data": {
            "text/plain": [
              "(166, 4)"
            ]
          },
          "metadata": {},
          "execution_count": 562
        }
      ]
    },
    {
      "cell_type": "markdown",
      "source": [
        "# Building the models"
      ],
      "metadata": {
        "id": "WUYE2t6-_TwY"
      }
    },
    {
      "cell_type": "markdown",
      "source": [
        "Usar a classe Sequential e definir as camadas de entrada (`InputLayer`) e densas (`Dense Layer`)\n",
        "\n",
        "Como a classe é binária, temos para a camada de saída:\n",
        "* neurônios = 1\n",
        "* função de ativação: sigmoid\n",
        "* função de perda: binary_crossentropy"
      ],
      "metadata": {
        "id": "YQ6wI0Kl_Z0g"
      }
    },
    {
      "cell_type": "markdown",
      "source": [
        "## Arquitetura 1"
      ],
      "metadata": {
        "id": "2T4k5xJNAe4g"
      }
    },
    {
      "cell_type": "markdown",
      "source": [],
      "metadata": {
        "id": "iywnoMOFU-2e"
      }
    },
    {
      "cell_type": "code",
      "source": [
        "model_1 = Sequential([InputLayer(input_shape=(4,)), # é igual a quantidade de características\n",
        "                    Dense(1024, activation='relu'),\n",
        "                    Dense(512, activation='relu'),\n",
        "                    Dense(64, activation='relu'),\n",
        "                    Dense(16, activation='relu'),\n",
        "                    Dense(1, activation='sigmoid')])\n",
        "\n",
        "model_1.summary()"
      ],
      "metadata": {
        "colab": {
          "base_uri": "https://localhost:8080/"
        },
        "id": "-rMnwTYSAMLG",
        "outputId": "2b28b049-4cf0-426b-bc1e-fae77b6ae6ef"
      },
      "execution_count": null,
      "outputs": [
        {
          "output_type": "stream",
          "name": "stdout",
          "text": [
            "Model: \"sequential_30\"\n",
            "_________________________________________________________________\n",
            " Layer (type)                Output Shape              Param #   \n",
            "=================================================================\n",
            " dense_120 (Dense)           (None, 1024)              5120      \n",
            "                                                                 \n",
            " dense_121 (Dense)           (None, 512)               524800    \n",
            "                                                                 \n",
            " dense_122 (Dense)           (None, 64)                32832     \n",
            "                                                                 \n",
            " dense_123 (Dense)           (None, 16)                1040      \n",
            "                                                                 \n",
            " dense_124 (Dense)           (None, 1)                 17        \n",
            "                                                                 \n",
            "=================================================================\n",
            "Total params: 563,809\n",
            "Trainable params: 563,809\n",
            "Non-trainable params: 0\n",
            "_________________________________________________________________\n"
          ]
        }
      ]
    },
    {
      "cell_type": "markdown",
      "source": [
        "Compile the model\n",
        "\n",
        "* ` Optimizer = adam`"
      ],
      "metadata": {
        "id": "MGcDbzAIDWzD"
      }
    },
    {
      "cell_type": "code",
      "source": [
        "model_1.compile(optimizer='adam', loss='binary_crossentropy', metrics=['accuracy'])"
      ],
      "metadata": {
        "id": "fUphgTR5CMgq"
      },
      "execution_count": null,
      "outputs": []
    },
    {
      "cell_type": "markdown",
      "source": [
        "## Arquitetura 2"
      ],
      "metadata": {
        "id": "B6mIScQ7D4Ak"
      }
    },
    {
      "cell_type": "code",
      "source": [
        "model_2 = Sequential([InputLayer(input_shape=(4,)), # é igual a quantidade de características\n",
        "                    Dense(10, activation='relu'),\n",
        "                    Dense(5, activation='relu'),\n",
        "                    Dense(4, activation='relu'),\n",
        "                    Dense(1, activation='sigmoid')]) # última camada deve ser 1 por se tratar de classificação binária\n",
        "\n",
        "model_2.summary()"
      ],
      "metadata": {
        "colab": {
          "base_uri": "https://localhost:8080/"
        },
        "id": "wXKDE24LD9MP",
        "outputId": "9c2c94a5-e2ba-4a4a-cf93-57c58e8c3f83"
      },
      "execution_count": null,
      "outputs": [
        {
          "output_type": "stream",
          "name": "stdout",
          "text": [
            "Model: \"sequential_31\"\n",
            "_________________________________________________________________\n",
            " Layer (type)                Output Shape              Param #   \n",
            "=================================================================\n",
            " dense_125 (Dense)           (None, 10)                50        \n",
            "                                                                 \n",
            " dense_126 (Dense)           (None, 5)                 55        \n",
            "                                                                 \n",
            " dense_127 (Dense)           (None, 4)                 24        \n",
            "                                                                 \n",
            " dense_128 (Dense)           (None, 1)                 5         \n",
            "                                                                 \n",
            "=================================================================\n",
            "Total params: 134\n",
            "Trainable params: 134\n",
            "Non-trainable params: 0\n",
            "_________________________________________________________________\n"
          ]
        }
      ]
    },
    {
      "cell_type": "code",
      "source": [
        "model_2.compile(optimizer='adam', loss='binary_crossentropy', metrics=['accuracy'])"
      ],
      "metadata": {
        "id": "SnTq3qEKGJ48"
      },
      "execution_count": null,
      "outputs": []
    },
    {
      "cell_type": "markdown",
      "source": [
        "## Arquitetura 3"
      ],
      "metadata": {
        "id": "4SIjNXyEHjAB"
      }
    },
    {
      "cell_type": "code",
      "source": [
        "model_3 = Sequential([InputLayer(input_shape=(4,)), # é igual a quantidade de características\n",
        "                    Dense(60, activation='relu'),\n",
        "                    Dense(30, activation='relu'),\n",
        "                    Dense(1, activation='sigmoid')]) # um neurônio para cada coluna\n",
        "\n",
        "model_3.summary()"
      ],
      "metadata": {
        "colab": {
          "base_uri": "https://localhost:8080/"
        },
        "id": "J1J1QMRUHmWy",
        "outputId": "b982b5b5-6a88-4c7f-da33-f1abcabe704a"
      },
      "execution_count": null,
      "outputs": [
        {
          "output_type": "stream",
          "name": "stdout",
          "text": [
            "Model: \"sequential_32\"\n",
            "_________________________________________________________________\n",
            " Layer (type)                Output Shape              Param #   \n",
            "=================================================================\n",
            " dense_129 (Dense)           (None, 60)                300       \n",
            "                                                                 \n",
            " dense_130 (Dense)           (None, 30)                1830      \n",
            "                                                                 \n",
            " dense_131 (Dense)           (None, 1)                 31        \n",
            "                                                                 \n",
            "=================================================================\n",
            "Total params: 2,161\n",
            "Trainable params: 2,161\n",
            "Non-trainable params: 0\n",
            "_________________________________________________________________\n"
          ]
        }
      ]
    },
    {
      "cell_type": "code",
      "source": [
        "model_3.compile(optimizer='adam', loss='binary_crossentropy', metrics=['accuracy'])"
      ],
      "metadata": {
        "id": "pP2ZnsiyLdlo"
      },
      "execution_count": null,
      "outputs": []
    },
    {
      "cell_type": "markdown",
      "source": [
        "# Training the models"
      ],
      "metadata": {
        "id": "in6zSrjpIiAn"
      }
    },
    {
      "cell_type": "markdown",
      "source": [
        "1. Chamar a função `fit()` para treinar\n",
        "2. Passar como parâmetros x_train, y_train, tamanho do batch e quantidade de épocas"
      ],
      "metadata": {
        "id": "rXuoGpUtIqYK"
      }
    },
    {
      "cell_type": "markdown",
      "source": [
        "## Para o modelo 1"
      ],
      "metadata": {
        "id": "cyZbvOwjIvRX"
      }
    },
    {
      "cell_type": "markdown",
      "source": [
        "```\n",
        "batch_size = 32\n",
        "epochs = 50\n",
        "\n",
        "```\n",
        "\n"
      ],
      "metadata": {
        "id": "0pVlLWgTKOm6"
      }
    },
    {
      "cell_type": "code",
      "source": [
        "history_1= model_1.fit(x_train, y_train, batch_size=32, epochs=200)"
      ],
      "metadata": {
        "colab": {
          "base_uri": "https://localhost:8080/"
        },
        "id": "iAXkIhlqIsJb",
        "outputId": "a91ddbdd-a4f2-499f-cea5-b80c8ca6f618"
      },
      "execution_count": null,
      "outputs": [
        {
          "output_type": "stream",
          "name": "stdout",
          "text": [
            "Epoch 1/200\n",
            "21/21 [==============================] - 2s 16ms/step - loss: 0.6016 - accuracy: 0.7108\n",
            "Epoch 2/200\n",
            "21/21 [==============================] - 0s 15ms/step - loss: 0.5256 - accuracy: 0.7831\n",
            "Epoch 3/200\n",
            "21/21 [==============================] - 0s 15ms/step - loss: 0.4796 - accuracy: 0.7982\n",
            "Epoch 4/200\n",
            "21/21 [==============================] - 0s 16ms/step - loss: 0.4661 - accuracy: 0.8072\n",
            "Epoch 5/200\n",
            "21/21 [==============================] - 0s 14ms/step - loss: 0.4687 - accuracy: 0.7952\n",
            "Epoch 6/200\n",
            "21/21 [==============================] - 0s 14ms/step - loss: 0.4594 - accuracy: 0.7982\n",
            "Epoch 7/200\n",
            "21/21 [==============================] - 0s 15ms/step - loss: 0.4444 - accuracy: 0.8087\n",
            "Epoch 8/200\n",
            "21/21 [==============================] - 0s 15ms/step - loss: 0.4422 - accuracy: 0.8087\n",
            "Epoch 9/200\n",
            "21/21 [==============================] - 0s 15ms/step - loss: 0.4479 - accuracy: 0.7967\n",
            "Epoch 10/200\n",
            "21/21 [==============================] - 0s 15ms/step - loss: 0.4616 - accuracy: 0.7861\n",
            "Epoch 11/200\n",
            "21/21 [==============================] - 0s 15ms/step - loss: 0.4650 - accuracy: 0.7982\n",
            "Epoch 12/200\n",
            "21/21 [==============================] - 0s 15ms/step - loss: 0.4642 - accuracy: 0.8072\n",
            "Epoch 13/200\n",
            "21/21 [==============================] - 0s 15ms/step - loss: 0.4499 - accuracy: 0.8087\n",
            "Epoch 14/200\n",
            "21/21 [==============================] - 0s 20ms/step - loss: 0.4496 - accuracy: 0.8148\n",
            "Epoch 15/200\n",
            "21/21 [==============================] - 0s 21ms/step - loss: 0.4463 - accuracy: 0.8027\n",
            "Epoch 16/200\n",
            "21/21 [==============================] - 0s 22ms/step - loss: 0.4458 - accuracy: 0.8148\n",
            "Epoch 17/200\n",
            "21/21 [==============================] - 0s 22ms/step - loss: 0.4395 - accuracy: 0.8133\n",
            "Epoch 18/200\n",
            "21/21 [==============================] - 0s 22ms/step - loss: 0.4361 - accuracy: 0.8208\n",
            "Epoch 19/200\n",
            "21/21 [==============================] - 0s 21ms/step - loss: 0.4406 - accuracy: 0.8208\n",
            "Epoch 20/200\n",
            "21/21 [==============================] - 0s 22ms/step - loss: 0.4361 - accuracy: 0.8102\n",
            "Epoch 21/200\n",
            "21/21 [==============================] - 0s 14ms/step - loss: 0.4316 - accuracy: 0.8178\n",
            "Epoch 22/200\n",
            "21/21 [==============================] - 0s 15ms/step - loss: 0.4337 - accuracy: 0.8193\n",
            "Epoch 23/200\n",
            "21/21 [==============================] - 0s 15ms/step - loss: 0.4335 - accuracy: 0.8148\n",
            "Epoch 24/200\n",
            "21/21 [==============================] - 0s 14ms/step - loss: 0.4384 - accuracy: 0.8193\n",
            "Epoch 25/200\n",
            "21/21 [==============================] - 0s 14ms/step - loss: 0.4307 - accuracy: 0.8193\n",
            "Epoch 26/200\n",
            "21/21 [==============================] - 0s 14ms/step - loss: 0.4372 - accuracy: 0.8178\n",
            "Epoch 27/200\n",
            "21/21 [==============================] - 0s 15ms/step - loss: 0.4352 - accuracy: 0.8253\n",
            "Epoch 28/200\n",
            "21/21 [==============================] - 0s 14ms/step - loss: 0.4309 - accuracy: 0.8133\n",
            "Epoch 29/200\n",
            "21/21 [==============================] - 0s 15ms/step - loss: 0.4307 - accuracy: 0.8163\n",
            "Epoch 30/200\n",
            "21/21 [==============================] - 0s 16ms/step - loss: 0.4257 - accuracy: 0.8268\n",
            "Epoch 31/200\n",
            "21/21 [==============================] - 0s 15ms/step - loss: 0.4267 - accuracy: 0.8253\n",
            "Epoch 32/200\n",
            "21/21 [==============================] - 0s 15ms/step - loss: 0.4222 - accuracy: 0.8208\n",
            "Epoch 33/200\n",
            "21/21 [==============================] - 0s 15ms/step - loss: 0.4311 - accuracy: 0.8178\n",
            "Epoch 34/200\n",
            "21/21 [==============================] - 0s 14ms/step - loss: 0.4320 - accuracy: 0.8133\n",
            "Epoch 35/200\n",
            "21/21 [==============================] - 0s 14ms/step - loss: 0.4242 - accuracy: 0.8193\n",
            "Epoch 36/200\n",
            "21/21 [==============================] - 0s 15ms/step - loss: 0.4233 - accuracy: 0.8253\n",
            "Epoch 37/200\n",
            "21/21 [==============================] - 0s 14ms/step - loss: 0.4261 - accuracy: 0.8178\n",
            "Epoch 38/200\n",
            "21/21 [==============================] - 0s 15ms/step - loss: 0.4192 - accuracy: 0.8283\n",
            "Epoch 39/200\n",
            "21/21 [==============================] - 0s 14ms/step - loss: 0.4228 - accuracy: 0.8238\n",
            "Epoch 40/200\n",
            "21/21 [==============================] - 0s 15ms/step - loss: 0.4234 - accuracy: 0.8117\n",
            "Epoch 41/200\n",
            "21/21 [==============================] - 0s 13ms/step - loss: 0.4314 - accuracy: 0.8208\n",
            "Epoch 42/200\n",
            "21/21 [==============================] - 0s 15ms/step - loss: 0.4300 - accuracy: 0.8027\n",
            "Epoch 43/200\n",
            "21/21 [==============================] - 0s 15ms/step - loss: 0.4262 - accuracy: 0.8163\n",
            "Epoch 44/200\n",
            "21/21 [==============================] - 0s 15ms/step - loss: 0.4182 - accuracy: 0.8238\n",
            "Epoch 45/200\n",
            "21/21 [==============================] - 0s 15ms/step - loss: 0.4165 - accuracy: 0.8253\n",
            "Epoch 46/200\n",
            "21/21 [==============================] - 0s 14ms/step - loss: 0.4191 - accuracy: 0.8208\n",
            "Epoch 47/200\n",
            "21/21 [==============================] - 0s 14ms/step - loss: 0.4202 - accuracy: 0.8223\n",
            "Epoch 48/200\n",
            "21/21 [==============================] - 0s 16ms/step - loss: 0.4141 - accuracy: 0.8223\n",
            "Epoch 49/200\n",
            "21/21 [==============================] - 0s 15ms/step - loss: 0.4182 - accuracy: 0.8313\n",
            "Epoch 50/200\n",
            "21/21 [==============================] - 0s 14ms/step - loss: 0.4249 - accuracy: 0.8178\n",
            "Epoch 51/200\n",
            "21/21 [==============================] - 0s 15ms/step - loss: 0.4237 - accuracy: 0.8148\n",
            "Epoch 52/200\n",
            "21/21 [==============================] - 0s 18ms/step - loss: 0.4137 - accuracy: 0.8253\n",
            "Epoch 53/200\n",
            "21/21 [==============================] - 0s 22ms/step - loss: 0.4219 - accuracy: 0.8223\n",
            "Epoch 54/200\n",
            "21/21 [==============================] - 1s 24ms/step - loss: 0.4219 - accuracy: 0.8208\n",
            "Epoch 55/200\n",
            "21/21 [==============================] - 0s 22ms/step - loss: 0.4098 - accuracy: 0.8223\n",
            "Epoch 56/200\n",
            "21/21 [==============================] - 0s 22ms/step - loss: 0.4211 - accuracy: 0.8193\n",
            "Epoch 57/200\n",
            "21/21 [==============================] - 0s 22ms/step - loss: 0.4190 - accuracy: 0.8298\n",
            "Epoch 58/200\n",
            "21/21 [==============================] - 0s 20ms/step - loss: 0.4240 - accuracy: 0.8193\n",
            "Epoch 59/200\n",
            "21/21 [==============================] - 0s 15ms/step - loss: 0.4170 - accuracy: 0.8343\n",
            "Epoch 60/200\n",
            "21/21 [==============================] - 0s 15ms/step - loss: 0.4189 - accuracy: 0.8208\n",
            "Epoch 61/200\n",
            "21/21 [==============================] - 0s 15ms/step - loss: 0.4100 - accuracy: 0.8253\n",
            "Epoch 62/200\n",
            "21/21 [==============================] - 0s 15ms/step - loss: 0.4253 - accuracy: 0.8208\n",
            "Epoch 63/200\n",
            "21/21 [==============================] - 0s 16ms/step - loss: 0.4228 - accuracy: 0.8163\n",
            "Epoch 64/200\n",
            "21/21 [==============================] - 0s 16ms/step - loss: 0.4102 - accuracy: 0.8253\n",
            "Epoch 65/200\n",
            "21/21 [==============================] - 0s 15ms/step - loss: 0.4077 - accuracy: 0.8268\n",
            "Epoch 66/200\n",
            "21/21 [==============================] - 0s 16ms/step - loss: 0.4163 - accuracy: 0.8238\n",
            "Epoch 67/200\n",
            "21/21 [==============================] - 0s 15ms/step - loss: 0.4127 - accuracy: 0.8193\n",
            "Epoch 68/200\n",
            "21/21 [==============================] - 0s 15ms/step - loss: 0.4115 - accuracy: 0.8283\n",
            "Epoch 69/200\n",
            "21/21 [==============================] - 0s 16ms/step - loss: 0.4195 - accuracy: 0.8193\n",
            "Epoch 70/200\n",
            "21/21 [==============================] - 0s 15ms/step - loss: 0.4083 - accuracy: 0.8193\n",
            "Epoch 71/200\n",
            "21/21 [==============================] - 0s 15ms/step - loss: 0.4112 - accuracy: 0.8253\n",
            "Epoch 72/200\n",
            "21/21 [==============================] - 0s 15ms/step - loss: 0.4106 - accuracy: 0.8208\n",
            "Epoch 73/200\n",
            "21/21 [==============================] - 0s 15ms/step - loss: 0.4087 - accuracy: 0.8283\n",
            "Epoch 74/200\n",
            "21/21 [==============================] - 0s 15ms/step - loss: 0.4051 - accuracy: 0.8268\n",
            "Epoch 75/200\n",
            "21/21 [==============================] - 0s 16ms/step - loss: 0.4024 - accuracy: 0.8328\n",
            "Epoch 76/200\n",
            "21/21 [==============================] - 0s 15ms/step - loss: 0.4113 - accuracy: 0.8208\n",
            "Epoch 77/200\n",
            "21/21 [==============================] - 0s 15ms/step - loss: 0.4062 - accuracy: 0.8208\n",
            "Epoch 78/200\n",
            "21/21 [==============================] - 0s 15ms/step - loss: 0.4177 - accuracy: 0.8163\n",
            "Epoch 79/200\n",
            "21/21 [==============================] - 0s 15ms/step - loss: 0.4107 - accuracy: 0.8238\n",
            "Epoch 80/200\n",
            "21/21 [==============================] - 0s 15ms/step - loss: 0.4033 - accuracy: 0.8193\n",
            "Epoch 81/200\n",
            "21/21 [==============================] - 0s 15ms/step - loss: 0.4013 - accuracy: 0.8313\n",
            "Epoch 82/200\n",
            "21/21 [==============================] - 0s 15ms/step - loss: 0.4059 - accuracy: 0.8223\n",
            "Epoch 83/200\n",
            "21/21 [==============================] - 0s 15ms/step - loss: 0.3986 - accuracy: 0.8298\n",
            "Epoch 84/200\n",
            "21/21 [==============================] - 0s 14ms/step - loss: 0.4054 - accuracy: 0.8208\n",
            "Epoch 85/200\n",
            "21/21 [==============================] - 0s 15ms/step - loss: 0.4031 - accuracy: 0.8253\n",
            "Epoch 86/200\n",
            "21/21 [==============================] - 0s 15ms/step - loss: 0.4098 - accuracy: 0.8268\n",
            "Epoch 87/200\n",
            "21/21 [==============================] - 0s 15ms/step - loss: 0.4030 - accuracy: 0.8268\n",
            "Epoch 88/200\n",
            "21/21 [==============================] - 0s 16ms/step - loss: 0.4029 - accuracy: 0.8238\n",
            "Epoch 89/200\n",
            "21/21 [==============================] - 0s 20ms/step - loss: 0.3979 - accuracy: 0.8268\n",
            "Epoch 90/200\n",
            "21/21 [==============================] - 0s 22ms/step - loss: 0.3982 - accuracy: 0.8298\n",
            "Epoch 91/200\n",
            "21/21 [==============================] - 0s 20ms/step - loss: 0.4005 - accuracy: 0.8313\n",
            "Epoch 92/200\n",
            "21/21 [==============================] - 0s 21ms/step - loss: 0.3961 - accuracy: 0.8404\n",
            "Epoch 93/200\n",
            "21/21 [==============================] - 0s 22ms/step - loss: 0.3968 - accuracy: 0.8328\n",
            "Epoch 94/200\n",
            "21/21 [==============================] - 0s 23ms/step - loss: 0.4002 - accuracy: 0.8358\n",
            "Epoch 95/200\n",
            "21/21 [==============================] - 1s 31ms/step - loss: 0.3960 - accuracy: 0.8328\n",
            "Epoch 96/200\n",
            "21/21 [==============================] - 1s 24ms/step - loss: 0.3994 - accuracy: 0.8253\n",
            "Epoch 97/200\n",
            "21/21 [==============================] - 1s 30ms/step - loss: 0.4073 - accuracy: 0.8283\n",
            "Epoch 98/200\n",
            "21/21 [==============================] - 1s 24ms/step - loss: 0.4113 - accuracy: 0.8253\n",
            "Epoch 99/200\n",
            "21/21 [==============================] - 1s 26ms/step - loss: 0.3992 - accuracy: 0.8328\n",
            "Epoch 100/200\n",
            "21/21 [==============================] - 1s 31ms/step - loss: 0.3977 - accuracy: 0.8328\n",
            "Epoch 101/200\n",
            "21/21 [==============================] - 1s 30ms/step - loss: 0.4075 - accuracy: 0.8298\n",
            "Epoch 102/200\n",
            "21/21 [==============================] - 1s 29ms/step - loss: 0.4072 - accuracy: 0.8193\n",
            "Epoch 103/200\n",
            "21/21 [==============================] - 0s 16ms/step - loss: 0.3986 - accuracy: 0.8328\n",
            "Epoch 104/200\n",
            "21/21 [==============================] - 0s 15ms/step - loss: 0.4013 - accuracy: 0.8253\n",
            "Epoch 105/200\n",
            "21/21 [==============================] - 0s 15ms/step - loss: 0.3944 - accuracy: 0.8328\n",
            "Epoch 106/200\n",
            "21/21 [==============================] - 0s 14ms/step - loss: 0.3908 - accuracy: 0.8404\n",
            "Epoch 107/200\n",
            "21/21 [==============================] - 0s 16ms/step - loss: 0.3939 - accuracy: 0.8208\n",
            "Epoch 108/200\n",
            "21/21 [==============================] - 0s 15ms/step - loss: 0.3963 - accuracy: 0.8313\n",
            "Epoch 109/200\n",
            "21/21 [==============================] - 0s 14ms/step - loss: 0.3955 - accuracy: 0.8283\n",
            "Epoch 110/200\n",
            "21/21 [==============================] - 0s 14ms/step - loss: 0.4109 - accuracy: 0.8223\n",
            "Epoch 111/200\n",
            "21/21 [==============================] - 0s 15ms/step - loss: 0.4016 - accuracy: 0.8328\n",
            "Epoch 112/200\n",
            "21/21 [==============================] - 0s 15ms/step - loss: 0.3917 - accuracy: 0.8404\n",
            "Epoch 113/200\n",
            "21/21 [==============================] - 0s 15ms/step - loss: 0.4162 - accuracy: 0.8253\n",
            "Epoch 114/200\n",
            "21/21 [==============================] - 0s 15ms/step - loss: 0.4088 - accuracy: 0.8283\n",
            "Epoch 115/200\n",
            "21/21 [==============================] - 0s 16ms/step - loss: 0.3973 - accuracy: 0.8298\n",
            "Epoch 116/200\n",
            "21/21 [==============================] - 0s 16ms/step - loss: 0.4002 - accuracy: 0.8313\n",
            "Epoch 117/200\n",
            "21/21 [==============================] - 0s 16ms/step - loss: 0.3931 - accuracy: 0.8373\n",
            "Epoch 118/200\n",
            "21/21 [==============================] - 0s 16ms/step - loss: 0.3917 - accuracy: 0.8313\n",
            "Epoch 119/200\n",
            "21/21 [==============================] - 0s 17ms/step - loss: 0.3941 - accuracy: 0.8343\n",
            "Epoch 120/200\n",
            "21/21 [==============================] - 0s 20ms/step - loss: 0.3875 - accuracy: 0.8389\n",
            "Epoch 121/200\n",
            "21/21 [==============================] - 0s 22ms/step - loss: 0.3967 - accuracy: 0.8283\n",
            "Epoch 122/200\n",
            "21/21 [==============================] - 0s 22ms/step - loss: 0.3918 - accuracy: 0.8358\n",
            "Epoch 123/200\n",
            "21/21 [==============================] - 0s 22ms/step - loss: 0.3885 - accuracy: 0.8328\n",
            "Epoch 124/200\n",
            "21/21 [==============================] - 0s 22ms/step - loss: 0.3874 - accuracy: 0.8358\n",
            "Epoch 125/200\n",
            "21/21 [==============================] - 0s 22ms/step - loss: 0.3843 - accuracy: 0.8358\n",
            "Epoch 126/200\n",
            "21/21 [==============================] - 0s 21ms/step - loss: 0.3831 - accuracy: 0.8404\n",
            "Epoch 127/200\n",
            "21/21 [==============================] - 0s 16ms/step - loss: 0.3996 - accuracy: 0.8253\n",
            "Epoch 128/200\n",
            "21/21 [==============================] - 0s 15ms/step - loss: 0.3846 - accuracy: 0.8358\n",
            "Epoch 129/200\n",
            "21/21 [==============================] - 0s 15ms/step - loss: 0.3855 - accuracy: 0.8343\n",
            "Epoch 130/200\n",
            "21/21 [==============================] - 0s 16ms/step - loss: 0.3792 - accuracy: 0.8419\n",
            "Epoch 131/200\n",
            "21/21 [==============================] - 0s 15ms/step - loss: 0.3825 - accuracy: 0.8358\n",
            "Epoch 132/200\n",
            "21/21 [==============================] - 0s 15ms/step - loss: 0.3850 - accuracy: 0.8358\n",
            "Epoch 133/200\n",
            "21/21 [==============================] - 0s 15ms/step - loss: 0.3855 - accuracy: 0.8343\n",
            "Epoch 134/200\n",
            "21/21 [==============================] - 0s 15ms/step - loss: 0.3884 - accuracy: 0.8313\n",
            "Epoch 135/200\n",
            "21/21 [==============================] - 0s 15ms/step - loss: 0.3964 - accuracy: 0.8253\n",
            "Epoch 136/200\n",
            "21/21 [==============================] - 0s 16ms/step - loss: 0.3937 - accuracy: 0.8343\n",
            "Epoch 137/200\n",
            "21/21 [==============================] - 0s 14ms/step - loss: 0.3856 - accuracy: 0.8389\n",
            "Epoch 138/200\n",
            "21/21 [==============================] - 0s 15ms/step - loss: 0.3944 - accuracy: 0.8313\n",
            "Epoch 139/200\n",
            "21/21 [==============================] - 0s 15ms/step - loss: 0.3866 - accuracy: 0.8313\n",
            "Epoch 140/200\n",
            "21/21 [==============================] - 0s 15ms/step - loss: 0.3803 - accuracy: 0.8419\n",
            "Epoch 141/200\n",
            "21/21 [==============================] - 0s 15ms/step - loss: 0.3826 - accuracy: 0.8373\n",
            "Epoch 142/200\n",
            "21/21 [==============================] - 0s 16ms/step - loss: 0.3832 - accuracy: 0.8313\n",
            "Epoch 143/200\n",
            "21/21 [==============================] - 0s 15ms/step - loss: 0.3854 - accuracy: 0.8358\n",
            "Epoch 144/200\n",
            "21/21 [==============================] - 0s 16ms/step - loss: 0.4076 - accuracy: 0.8268\n",
            "Epoch 145/200\n",
            "21/21 [==============================] - 0s 16ms/step - loss: 0.3881 - accuracy: 0.8313\n",
            "Epoch 146/200\n",
            "21/21 [==============================] - 0s 15ms/step - loss: 0.3870 - accuracy: 0.8404\n",
            "Epoch 147/200\n",
            "21/21 [==============================] - 0s 15ms/step - loss: 0.3801 - accuracy: 0.8358\n",
            "Epoch 148/200\n",
            "21/21 [==============================] - 0s 15ms/step - loss: 0.3795 - accuracy: 0.8419\n",
            "Epoch 149/200\n",
            "21/21 [==============================] - 0s 15ms/step - loss: 0.3801 - accuracy: 0.8419\n",
            "Epoch 150/200\n",
            "21/21 [==============================] - 0s 16ms/step - loss: 0.3778 - accuracy: 0.8358\n",
            "Epoch 151/200\n",
            "21/21 [==============================] - 0s 15ms/step - loss: 0.3775 - accuracy: 0.8419\n",
            "Epoch 152/200\n",
            "21/21 [==============================] - 0s 16ms/step - loss: 0.3826 - accuracy: 0.8404\n",
            "Epoch 153/200\n",
            "21/21 [==============================] - 0s 16ms/step - loss: 0.3816 - accuracy: 0.8404\n",
            "Epoch 154/200\n",
            "21/21 [==============================] - 0s 16ms/step - loss: 0.3819 - accuracy: 0.8343\n",
            "Epoch 155/200\n",
            "21/21 [==============================] - 0s 16ms/step - loss: 0.3740 - accuracy: 0.8479\n",
            "Epoch 156/200\n",
            "21/21 [==============================] - 0s 15ms/step - loss: 0.3786 - accuracy: 0.8358\n",
            "Epoch 157/200\n",
            "21/21 [==============================] - 0s 22ms/step - loss: 0.3825 - accuracy: 0.8389\n",
            "Epoch 158/200\n",
            "21/21 [==============================] - 0s 22ms/step - loss: 0.3804 - accuracy: 0.8373\n",
            "Epoch 159/200\n",
            "21/21 [==============================] - 0s 23ms/step - loss: 0.3926 - accuracy: 0.8298\n",
            "Epoch 160/200\n",
            "21/21 [==============================] - 0s 23ms/step - loss: 0.3828 - accuracy: 0.8313\n",
            "Epoch 161/200\n",
            "21/21 [==============================] - 0s 21ms/step - loss: 0.3788 - accuracy: 0.8434\n",
            "Epoch 162/200\n",
            "21/21 [==============================] - 0s 23ms/step - loss: 0.3762 - accuracy: 0.8404\n",
            "Epoch 163/200\n",
            "21/21 [==============================] - 0s 19ms/step - loss: 0.3759 - accuracy: 0.8419\n",
            "Epoch 164/200\n",
            "21/21 [==============================] - 0s 15ms/step - loss: 0.3735 - accuracy: 0.8464\n",
            "Epoch 165/200\n",
            "21/21 [==============================] - 0s 15ms/step - loss: 0.3760 - accuracy: 0.8313\n",
            "Epoch 166/200\n",
            "21/21 [==============================] - 0s 16ms/step - loss: 0.3748 - accuracy: 0.8464\n",
            "Epoch 167/200\n",
            "21/21 [==============================] - 0s 14ms/step - loss: 0.3782 - accuracy: 0.8389\n",
            "Epoch 168/200\n",
            "21/21 [==============================] - 0s 15ms/step - loss: 0.3821 - accuracy: 0.8343\n",
            "Epoch 169/200\n",
            "21/21 [==============================] - 0s 15ms/step - loss: 0.3818 - accuracy: 0.8358\n",
            "Epoch 170/200\n",
            "21/21 [==============================] - 0s 15ms/step - loss: 0.3910 - accuracy: 0.8268\n",
            "Epoch 171/200\n",
            "21/21 [==============================] - 0s 16ms/step - loss: 0.3815 - accuracy: 0.8373\n",
            "Epoch 172/200\n",
            "21/21 [==============================] - 0s 17ms/step - loss: 0.3785 - accuracy: 0.8434\n",
            "Epoch 173/200\n",
            "21/21 [==============================] - 0s 16ms/step - loss: 0.3823 - accuracy: 0.8389\n",
            "Epoch 174/200\n",
            "21/21 [==============================] - 0s 15ms/step - loss: 0.3775 - accuracy: 0.8404\n",
            "Epoch 175/200\n",
            "21/21 [==============================] - 0s 15ms/step - loss: 0.3772 - accuracy: 0.8389\n",
            "Epoch 176/200\n",
            "21/21 [==============================] - 0s 14ms/step - loss: 0.3740 - accuracy: 0.8419\n",
            "Epoch 177/200\n",
            "21/21 [==============================] - 0s 16ms/step - loss: 0.3703 - accuracy: 0.8449\n",
            "Epoch 178/200\n",
            "21/21 [==============================] - 0s 15ms/step - loss: 0.3717 - accuracy: 0.8389\n",
            "Epoch 179/200\n",
            "21/21 [==============================] - 0s 15ms/step - loss: 0.3783 - accuracy: 0.8373\n",
            "Epoch 180/200\n",
            "21/21 [==============================] - 0s 15ms/step - loss: 0.3794 - accuracy: 0.8389\n",
            "Epoch 181/200\n",
            "21/21 [==============================] - 0s 15ms/step - loss: 0.3739 - accuracy: 0.8358\n",
            "Epoch 182/200\n",
            "21/21 [==============================] - 0s 16ms/step - loss: 0.3742 - accuracy: 0.8419\n",
            "Epoch 183/200\n",
            "21/21 [==============================] - 0s 15ms/step - loss: 0.3685 - accuracy: 0.8494\n",
            "Epoch 184/200\n",
            "21/21 [==============================] - 0s 15ms/step - loss: 0.3695 - accuracy: 0.8434\n",
            "Epoch 185/200\n",
            "21/21 [==============================] - 0s 15ms/step - loss: 0.3737 - accuracy: 0.8389\n",
            "Epoch 186/200\n",
            "21/21 [==============================] - 0s 16ms/step - loss: 0.3661 - accuracy: 0.8494\n",
            "Epoch 187/200\n",
            "21/21 [==============================] - 0s 16ms/step - loss: 0.3742 - accuracy: 0.8389\n",
            "Epoch 188/200\n",
            "21/21 [==============================] - 0s 16ms/step - loss: 0.3680 - accuracy: 0.8449\n",
            "Epoch 189/200\n",
            "21/21 [==============================] - 0s 15ms/step - loss: 0.3677 - accuracy: 0.8419\n",
            "Epoch 190/200\n",
            "21/21 [==============================] - 0s 15ms/step - loss: 0.3692 - accuracy: 0.8358\n",
            "Epoch 191/200\n",
            "21/21 [==============================] - 0s 14ms/step - loss: 0.3648 - accuracy: 0.8419\n",
            "Epoch 192/200\n",
            "21/21 [==============================] - 0s 15ms/step - loss: 0.3686 - accuracy: 0.8434\n",
            "Epoch 193/200\n",
            "21/21 [==============================] - 0s 15ms/step - loss: 0.3680 - accuracy: 0.8373\n",
            "Epoch 194/200\n",
            "21/21 [==============================] - 0s 20ms/step - loss: 0.3633 - accuracy: 0.8419\n",
            "Epoch 195/200\n",
            "21/21 [==============================] - 0s 22ms/step - loss: 0.3628 - accuracy: 0.8419\n",
            "Epoch 196/200\n",
            "21/21 [==============================] - 0s 21ms/step - loss: 0.3731 - accuracy: 0.8449\n",
            "Epoch 197/200\n",
            "21/21 [==============================] - 0s 21ms/step - loss: 0.3673 - accuracy: 0.8389\n",
            "Epoch 198/200\n",
            "21/21 [==============================] - 0s 22ms/step - loss: 0.3649 - accuracy: 0.8434\n",
            "Epoch 199/200\n",
            "21/21 [==============================] - 0s 22ms/step - loss: 0.3670 - accuracy: 0.8404\n",
            "Epoch 200/200\n",
            "21/21 [==============================] - 0s 22ms/step - loss: 0.3681 - accuracy: 0.8389\n"
          ]
        }
      ]
    },
    {
      "cell_type": "markdown",
      "source": [
        "## Para o modelo 2"
      ],
      "metadata": {
        "id": "GlKEPuNwI4d3"
      }
    },
    {
      "cell_type": "markdown",
      "source": [
        "```\n",
        "batch_size = 64\n",
        "epochs = 100\n",
        "```\n",
        "\n",
        "\n"
      ],
      "metadata": {
        "id": "WtWsq1bKKZku"
      }
    },
    {
      "cell_type": "code",
      "source": [
        "history_2 = model_2.fit(x_train, y_train, batch_size=64, epochs=400)"
      ],
      "metadata": {
        "colab": {
          "base_uri": "https://localhost:8080/"
        },
        "id": "P4gSqIc6JYcp",
        "outputId": "87f2298f-453c-49a8-e565-10cd423df0ac"
      },
      "execution_count": null,
      "outputs": [
        {
          "output_type": "stream",
          "name": "stdout",
          "text": [
            "Epoch 1/400\n",
            "11/11 [==============================] - 1s 5ms/step - loss: 0.6991 - accuracy: 0.4864\n",
            "Epoch 2/400\n",
            "11/11 [==============================] - 0s 5ms/step - loss: 0.6862 - accuracy: 0.4940\n",
            "Epoch 3/400\n",
            "11/11 [==============================] - 0s 4ms/step - loss: 0.6801 - accuracy: 0.5030\n",
            "Epoch 4/400\n",
            "11/11 [==============================] - 0s 4ms/step - loss: 0.6753 - accuracy: 0.5527\n",
            "Epoch 5/400\n",
            "11/11 [==============================] - 0s 5ms/step - loss: 0.6711 - accuracy: 0.6370\n",
            "Epoch 6/400\n",
            "11/11 [==============================] - 0s 5ms/step - loss: 0.6673 - accuracy: 0.6536\n",
            "Epoch 7/400\n",
            "11/11 [==============================] - 0s 4ms/step - loss: 0.6634 - accuracy: 0.6536\n",
            "Epoch 8/400\n",
            "11/11 [==============================] - 0s 5ms/step - loss: 0.6593 - accuracy: 0.6551\n",
            "Epoch 9/400\n",
            "11/11 [==============================] - 0s 5ms/step - loss: 0.6549 - accuracy: 0.6581\n",
            "Epoch 10/400\n",
            "11/11 [==============================] - 0s 4ms/step - loss: 0.6503 - accuracy: 0.6611\n",
            "Epoch 11/400\n",
            "11/11 [==============================] - 0s 4ms/step - loss: 0.6453 - accuracy: 0.6807\n",
            "Epoch 12/400\n",
            "11/11 [==============================] - 0s 4ms/step - loss: 0.6400 - accuracy: 0.6898\n",
            "Epoch 13/400\n",
            "11/11 [==============================] - 0s 4ms/step - loss: 0.6349 - accuracy: 0.6883\n",
            "Epoch 14/400\n",
            "11/11 [==============================] - 0s 4ms/step - loss: 0.6294 - accuracy: 0.7018\n",
            "Epoch 15/400\n",
            "11/11 [==============================] - 0s 4ms/step - loss: 0.6244 - accuracy: 0.7018\n",
            "Epoch 16/400\n",
            "11/11 [==============================] - 0s 5ms/step - loss: 0.6196 - accuracy: 0.7304\n",
            "Epoch 17/400\n",
            "11/11 [==============================] - 0s 5ms/step - loss: 0.6139 - accuracy: 0.7334\n",
            "Epoch 18/400\n",
            "11/11 [==============================] - 0s 6ms/step - loss: 0.6090 - accuracy: 0.7364\n",
            "Epoch 19/400\n",
            "11/11 [==============================] - 0s 5ms/step - loss: 0.6045 - accuracy: 0.7425\n",
            "Epoch 20/400\n",
            "11/11 [==============================] - 0s 5ms/step - loss: 0.5997 - accuracy: 0.7545\n",
            "Epoch 21/400\n",
            "11/11 [==============================] - 0s 5ms/step - loss: 0.5952 - accuracy: 0.7696\n",
            "Epoch 22/400\n",
            "11/11 [==============================] - 0s 4ms/step - loss: 0.5910 - accuracy: 0.7711\n",
            "Epoch 23/400\n",
            "11/11 [==============================] - 0s 5ms/step - loss: 0.5867 - accuracy: 0.7801\n",
            "Epoch 24/400\n",
            "11/11 [==============================] - 0s 4ms/step - loss: 0.5830 - accuracy: 0.7861\n",
            "Epoch 25/400\n",
            "11/11 [==============================] - 0s 5ms/step - loss: 0.5794 - accuracy: 0.7937\n",
            "Epoch 26/400\n",
            "11/11 [==============================] - 0s 4ms/step - loss: 0.5767 - accuracy: 0.7907\n",
            "Epoch 27/400\n",
            "11/11 [==============================] - 0s 5ms/step - loss: 0.5731 - accuracy: 0.7967\n",
            "Epoch 28/400\n",
            "11/11 [==============================] - 0s 5ms/step - loss: 0.5702 - accuracy: 0.7982\n",
            "Epoch 29/400\n",
            "11/11 [==============================] - 0s 4ms/step - loss: 0.5677 - accuracy: 0.7952\n",
            "Epoch 30/400\n",
            "11/11 [==============================] - 0s 5ms/step - loss: 0.5662 - accuracy: 0.7982\n",
            "Epoch 31/400\n",
            "11/11 [==============================] - 0s 4ms/step - loss: 0.5625 - accuracy: 0.8027\n",
            "Epoch 32/400\n",
            "11/11 [==============================] - 0s 4ms/step - loss: 0.5599 - accuracy: 0.7997\n",
            "Epoch 33/400\n",
            "11/11 [==============================] - 0s 4ms/step - loss: 0.5579 - accuracy: 0.8042\n",
            "Epoch 34/400\n",
            "11/11 [==============================] - 0s 4ms/step - loss: 0.5555 - accuracy: 0.7997\n",
            "Epoch 35/400\n",
            "11/11 [==============================] - 0s 5ms/step - loss: 0.5532 - accuracy: 0.7997\n",
            "Epoch 36/400\n",
            "11/11 [==============================] - 0s 4ms/step - loss: 0.5512 - accuracy: 0.8012\n",
            "Epoch 37/400\n",
            "11/11 [==============================] - 0s 4ms/step - loss: 0.5494 - accuracy: 0.8012\n",
            "Epoch 38/400\n",
            "11/11 [==============================] - 0s 5ms/step - loss: 0.5468 - accuracy: 0.7997\n",
            "Epoch 39/400\n",
            "11/11 [==============================] - 0s 4ms/step - loss: 0.5454 - accuracy: 0.8027\n",
            "Epoch 40/400\n",
            "11/11 [==============================] - 0s 5ms/step - loss: 0.5431 - accuracy: 0.8012\n",
            "Epoch 41/400\n",
            "11/11 [==============================] - 0s 4ms/step - loss: 0.5415 - accuracy: 0.8027\n",
            "Epoch 42/400\n",
            "11/11 [==============================] - 0s 4ms/step - loss: 0.5396 - accuracy: 0.8027\n",
            "Epoch 43/400\n",
            "11/11 [==============================] - 0s 4ms/step - loss: 0.5380 - accuracy: 0.8042\n",
            "Epoch 44/400\n",
            "11/11 [==============================] - 0s 5ms/step - loss: 0.5366 - accuracy: 0.8012\n",
            "Epoch 45/400\n",
            "11/11 [==============================] - 0s 4ms/step - loss: 0.5347 - accuracy: 0.8027\n",
            "Epoch 46/400\n",
            "11/11 [==============================] - 0s 6ms/step - loss: 0.5328 - accuracy: 0.8057\n",
            "Epoch 47/400\n",
            "11/11 [==============================] - 0s 4ms/step - loss: 0.5319 - accuracy: 0.8042\n",
            "Epoch 48/400\n",
            "11/11 [==============================] - 0s 4ms/step - loss: 0.5301 - accuracy: 0.8012\n",
            "Epoch 49/400\n",
            "11/11 [==============================] - 0s 4ms/step - loss: 0.5285 - accuracy: 0.8027\n",
            "Epoch 50/400\n",
            "11/11 [==============================] - 0s 3ms/step - loss: 0.5273 - accuracy: 0.8057\n",
            "Epoch 51/400\n",
            "11/11 [==============================] - 0s 3ms/step - loss: 0.5254 - accuracy: 0.8057\n",
            "Epoch 52/400\n",
            "11/11 [==============================] - 0s 3ms/step - loss: 0.5242 - accuracy: 0.8042\n",
            "Epoch 53/400\n",
            "11/11 [==============================] - 0s 3ms/step - loss: 0.5232 - accuracy: 0.8042\n",
            "Epoch 54/400\n",
            "11/11 [==============================] - 0s 4ms/step - loss: 0.5217 - accuracy: 0.8057\n",
            "Epoch 55/400\n",
            "11/11 [==============================] - 0s 3ms/step - loss: 0.5202 - accuracy: 0.8057\n",
            "Epoch 56/400\n",
            "11/11 [==============================] - 0s 3ms/step - loss: 0.5192 - accuracy: 0.8057\n",
            "Epoch 57/400\n",
            "11/11 [==============================] - 0s 3ms/step - loss: 0.5174 - accuracy: 0.8072\n",
            "Epoch 58/400\n",
            "11/11 [==============================] - 0s 3ms/step - loss: 0.5161 - accuracy: 0.8072\n",
            "Epoch 59/400\n",
            "11/11 [==============================] - 0s 3ms/step - loss: 0.5155 - accuracy: 0.8087\n",
            "Epoch 60/400\n",
            "11/11 [==============================] - 0s 3ms/step - loss: 0.5156 - accuracy: 0.8012\n",
            "Epoch 61/400\n",
            "11/11 [==============================] - 0s 4ms/step - loss: 0.5144 - accuracy: 0.8057\n",
            "Epoch 62/400\n",
            "11/11 [==============================] - 0s 4ms/step - loss: 0.5123 - accuracy: 0.8057\n",
            "Epoch 63/400\n",
            "11/11 [==============================] - 0s 3ms/step - loss: 0.5110 - accuracy: 0.8057\n",
            "Epoch 64/400\n",
            "11/11 [==============================] - 0s 3ms/step - loss: 0.5091 - accuracy: 0.8087\n",
            "Epoch 65/400\n",
            "11/11 [==============================] - 0s 4ms/step - loss: 0.5084 - accuracy: 0.8057\n",
            "Epoch 66/400\n",
            "11/11 [==============================] - 0s 3ms/step - loss: 0.5083 - accuracy: 0.8057\n",
            "Epoch 67/400\n",
            "11/11 [==============================] - 0s 3ms/step - loss: 0.5064 - accuracy: 0.8072\n",
            "Epoch 68/400\n",
            "11/11 [==============================] - 0s 3ms/step - loss: 0.5052 - accuracy: 0.8087\n",
            "Epoch 69/400\n",
            "11/11 [==============================] - 0s 4ms/step - loss: 0.5042 - accuracy: 0.8102\n",
            "Epoch 70/400\n",
            "11/11 [==============================] - 0s 3ms/step - loss: 0.5031 - accuracy: 0.8102\n",
            "Epoch 71/400\n",
            "11/11 [==============================] - 0s 3ms/step - loss: 0.5021 - accuracy: 0.8102\n",
            "Epoch 72/400\n",
            "11/11 [==============================] - 0s 3ms/step - loss: 0.5011 - accuracy: 0.8102\n",
            "Epoch 73/400\n",
            "11/11 [==============================] - 0s 3ms/step - loss: 0.5004 - accuracy: 0.8133\n",
            "Epoch 74/400\n",
            "11/11 [==============================] - 0s 3ms/step - loss: 0.4996 - accuracy: 0.8072\n",
            "Epoch 75/400\n",
            "11/11 [==============================] - 0s 3ms/step - loss: 0.4987 - accuracy: 0.8117\n",
            "Epoch 76/400\n",
            "11/11 [==============================] - 0s 3ms/step - loss: 0.4973 - accuracy: 0.8133\n",
            "Epoch 77/400\n",
            "11/11 [==============================] - 0s 4ms/step - loss: 0.4969 - accuracy: 0.8117\n",
            "Epoch 78/400\n",
            "11/11 [==============================] - 0s 3ms/step - loss: 0.4956 - accuracy: 0.8117\n",
            "Epoch 79/400\n",
            "11/11 [==============================] - 0s 3ms/step - loss: 0.4960 - accuracy: 0.8102\n",
            "Epoch 80/400\n",
            "11/11 [==============================] - 0s 3ms/step - loss: 0.4944 - accuracy: 0.8133\n",
            "Epoch 81/400\n",
            "11/11 [==============================] - 0s 3ms/step - loss: 0.4930 - accuracy: 0.8087\n",
            "Epoch 82/400\n",
            "11/11 [==============================] - 0s 3ms/step - loss: 0.4927 - accuracy: 0.8102\n",
            "Epoch 83/400\n",
            "11/11 [==============================] - 0s 4ms/step - loss: 0.4922 - accuracy: 0.8117\n",
            "Epoch 84/400\n",
            "11/11 [==============================] - 0s 4ms/step - loss: 0.4907 - accuracy: 0.8133\n",
            "Epoch 85/400\n",
            "11/11 [==============================] - 0s 4ms/step - loss: 0.4904 - accuracy: 0.8148\n",
            "Epoch 86/400\n",
            "11/11 [==============================] - 0s 3ms/step - loss: 0.4887 - accuracy: 0.8102\n",
            "Epoch 87/400\n",
            "11/11 [==============================] - 0s 3ms/step - loss: 0.4886 - accuracy: 0.8102\n",
            "Epoch 88/400\n",
            "11/11 [==============================] - 0s 3ms/step - loss: 0.4878 - accuracy: 0.8102\n",
            "Epoch 89/400\n",
            "11/11 [==============================] - 0s 4ms/step - loss: 0.4874 - accuracy: 0.8148\n",
            "Epoch 90/400\n",
            "11/11 [==============================] - 0s 3ms/step - loss: 0.4862 - accuracy: 0.8133\n",
            "Epoch 91/400\n",
            "11/11 [==============================] - 0s 4ms/step - loss: 0.4855 - accuracy: 0.8148\n",
            "Epoch 92/400\n",
            "11/11 [==============================] - 0s 5ms/step - loss: 0.4847 - accuracy: 0.8148\n",
            "Epoch 93/400\n",
            "11/11 [==============================] - 0s 3ms/step - loss: 0.4845 - accuracy: 0.8133\n",
            "Epoch 94/400\n",
            "11/11 [==============================] - 0s 3ms/step - loss: 0.4837 - accuracy: 0.8117\n",
            "Epoch 95/400\n",
            "11/11 [==============================] - 0s 4ms/step - loss: 0.4829 - accuracy: 0.8102\n",
            "Epoch 96/400\n",
            "11/11 [==============================] - 0s 3ms/step - loss: 0.4822 - accuracy: 0.8193\n",
            "Epoch 97/400\n",
            "11/11 [==============================] - 0s 3ms/step - loss: 0.4825 - accuracy: 0.8133\n",
            "Epoch 98/400\n",
            "11/11 [==============================] - 0s 3ms/step - loss: 0.4810 - accuracy: 0.8148\n",
            "Epoch 99/400\n",
            "11/11 [==============================] - 0s 3ms/step - loss: 0.4804 - accuracy: 0.8148\n",
            "Epoch 100/400\n",
            "11/11 [==============================] - 0s 3ms/step - loss: 0.4806 - accuracy: 0.8163\n",
            "Epoch 101/400\n",
            "11/11 [==============================] - 0s 3ms/step - loss: 0.4795 - accuracy: 0.8148\n",
            "Epoch 102/400\n",
            "11/11 [==============================] - 0s 3ms/step - loss: 0.4790 - accuracy: 0.8148\n",
            "Epoch 103/400\n",
            "11/11 [==============================] - 0s 3ms/step - loss: 0.4778 - accuracy: 0.8133\n",
            "Epoch 104/400\n",
            "11/11 [==============================] - 0s 4ms/step - loss: 0.4789 - accuracy: 0.8223\n",
            "Epoch 105/400\n",
            "11/11 [==============================] - 0s 3ms/step - loss: 0.4770 - accuracy: 0.8178\n",
            "Epoch 106/400\n",
            "11/11 [==============================] - 0s 3ms/step - loss: 0.4767 - accuracy: 0.8163\n",
            "Epoch 107/400\n",
            "11/11 [==============================] - 0s 3ms/step - loss: 0.4761 - accuracy: 0.8148\n",
            "Epoch 108/400\n",
            "11/11 [==============================] - 0s 3ms/step - loss: 0.4757 - accuracy: 0.8223\n",
            "Epoch 109/400\n",
            "11/11 [==============================] - 0s 3ms/step - loss: 0.4746 - accuracy: 0.8223\n",
            "Epoch 110/400\n",
            "11/11 [==============================] - 0s 3ms/step - loss: 0.4756 - accuracy: 0.8148\n",
            "Epoch 111/400\n",
            "11/11 [==============================] - 0s 4ms/step - loss: 0.4741 - accuracy: 0.8223\n",
            "Epoch 112/400\n",
            "11/11 [==============================] - 0s 3ms/step - loss: 0.4746 - accuracy: 0.8117\n",
            "Epoch 113/400\n",
            "11/11 [==============================] - 0s 3ms/step - loss: 0.4730 - accuracy: 0.8193\n",
            "Epoch 114/400\n",
            "11/11 [==============================] - 0s 3ms/step - loss: 0.4751 - accuracy: 0.8163\n",
            "Epoch 115/400\n",
            "11/11 [==============================] - 0s 4ms/step - loss: 0.4727 - accuracy: 0.8268\n",
            "Epoch 116/400\n",
            "11/11 [==============================] - 0s 3ms/step - loss: 0.4727 - accuracy: 0.8178\n",
            "Epoch 117/400\n",
            "11/11 [==============================] - 0s 3ms/step - loss: 0.4714 - accuracy: 0.8193\n",
            "Epoch 118/400\n",
            "11/11 [==============================] - 0s 3ms/step - loss: 0.4709 - accuracy: 0.8223\n",
            "Epoch 119/400\n",
            "11/11 [==============================] - 0s 4ms/step - loss: 0.4708 - accuracy: 0.8178\n",
            "Epoch 120/400\n",
            "11/11 [==============================] - 0s 3ms/step - loss: 0.4713 - accuracy: 0.8208\n",
            "Epoch 121/400\n",
            "11/11 [==============================] - 0s 3ms/step - loss: 0.4699 - accuracy: 0.8208\n",
            "Epoch 122/400\n",
            "11/11 [==============================] - 0s 3ms/step - loss: 0.4697 - accuracy: 0.8238\n",
            "Epoch 123/400\n",
            "11/11 [==============================] - 0s 3ms/step - loss: 0.4706 - accuracy: 0.8283\n",
            "Epoch 124/400\n",
            "11/11 [==============================] - 0s 3ms/step - loss: 0.4698 - accuracy: 0.8238\n",
            "Epoch 125/400\n",
            "11/11 [==============================] - 0s 3ms/step - loss: 0.4689 - accuracy: 0.8178\n",
            "Epoch 126/400\n",
            "11/11 [==============================] - 0s 3ms/step - loss: 0.4676 - accuracy: 0.8238\n",
            "Epoch 127/400\n",
            "11/11 [==============================] - 0s 3ms/step - loss: 0.4672 - accuracy: 0.8223\n",
            "Epoch 128/400\n",
            "11/11 [==============================] - 0s 3ms/step - loss: 0.4668 - accuracy: 0.8238\n",
            "Epoch 129/400\n",
            "11/11 [==============================] - 0s 3ms/step - loss: 0.4676 - accuracy: 0.8208\n",
            "Epoch 130/400\n",
            "11/11 [==============================] - 0s 3ms/step - loss: 0.4676 - accuracy: 0.8163\n",
            "Epoch 131/400\n",
            "11/11 [==============================] - 0s 3ms/step - loss: 0.4664 - accuracy: 0.8238\n",
            "Epoch 132/400\n",
            "11/11 [==============================] - 0s 3ms/step - loss: 0.4659 - accuracy: 0.8208\n",
            "Epoch 133/400\n",
            "11/11 [==============================] - 0s 3ms/step - loss: 0.4662 - accuracy: 0.8238\n",
            "Epoch 134/400\n",
            "11/11 [==============================] - 0s 3ms/step - loss: 0.4656 - accuracy: 0.8238\n",
            "Epoch 135/400\n",
            "11/11 [==============================] - 0s 3ms/step - loss: 0.4652 - accuracy: 0.8193\n",
            "Epoch 136/400\n",
            "11/11 [==============================] - 0s 3ms/step - loss: 0.4643 - accuracy: 0.8223\n",
            "Epoch 137/400\n",
            "11/11 [==============================] - 0s 3ms/step - loss: 0.4638 - accuracy: 0.8253\n",
            "Epoch 138/400\n",
            "11/11 [==============================] - 0s 3ms/step - loss: 0.4646 - accuracy: 0.8253\n",
            "Epoch 139/400\n",
            "11/11 [==============================] - 0s 4ms/step - loss: 0.4635 - accuracy: 0.8208\n",
            "Epoch 140/400\n",
            "11/11 [==============================] - 0s 3ms/step - loss: 0.4630 - accuracy: 0.8208\n",
            "Epoch 141/400\n",
            "11/11 [==============================] - 0s 4ms/step - loss: 0.4628 - accuracy: 0.8208\n",
            "Epoch 142/400\n",
            "11/11 [==============================] - 0s 3ms/step - loss: 0.4624 - accuracy: 0.8238\n",
            "Epoch 143/400\n",
            "11/11 [==============================] - 0s 3ms/step - loss: 0.4622 - accuracy: 0.8238\n",
            "Epoch 144/400\n",
            "11/11 [==============================] - 0s 3ms/step - loss: 0.4617 - accuracy: 0.8238\n",
            "Epoch 145/400\n",
            "11/11 [==============================] - 0s 3ms/step - loss: 0.4612 - accuracy: 0.8253\n",
            "Epoch 146/400\n",
            "11/11 [==============================] - 0s 3ms/step - loss: 0.4611 - accuracy: 0.8208\n",
            "Epoch 147/400\n",
            "11/11 [==============================] - 0s 3ms/step - loss: 0.4611 - accuracy: 0.8208\n",
            "Epoch 148/400\n",
            "11/11 [==============================] - 0s 4ms/step - loss: 0.4604 - accuracy: 0.8208\n",
            "Epoch 149/400\n",
            "11/11 [==============================] - 0s 3ms/step - loss: 0.4603 - accuracy: 0.8223\n",
            "Epoch 150/400\n",
            "11/11 [==============================] - 0s 3ms/step - loss: 0.4597 - accuracy: 0.8223\n",
            "Epoch 151/400\n",
            "11/11 [==============================] - 0s 3ms/step - loss: 0.4596 - accuracy: 0.8238\n",
            "Epoch 152/400\n",
            "11/11 [==============================] - 0s 3ms/step - loss: 0.4593 - accuracy: 0.8223\n",
            "Epoch 153/400\n",
            "11/11 [==============================] - 0s 3ms/step - loss: 0.4615 - accuracy: 0.8178\n",
            "Epoch 154/400\n",
            "11/11 [==============================] - 0s 3ms/step - loss: 0.4608 - accuracy: 0.8268\n",
            "Epoch 155/400\n",
            "11/11 [==============================] - 0s 4ms/step - loss: 0.4589 - accuracy: 0.8238\n",
            "Epoch 156/400\n",
            "11/11 [==============================] - 0s 3ms/step - loss: 0.4577 - accuracy: 0.8268\n",
            "Epoch 157/400\n",
            "11/11 [==============================] - 0s 3ms/step - loss: 0.4587 - accuracy: 0.8268\n",
            "Epoch 158/400\n",
            "11/11 [==============================] - 0s 3ms/step - loss: 0.4576 - accuracy: 0.8223\n",
            "Epoch 159/400\n",
            "11/11 [==============================] - 0s 3ms/step - loss: 0.4587 - accuracy: 0.8238\n",
            "Epoch 160/400\n",
            "11/11 [==============================] - 0s 3ms/step - loss: 0.4573 - accuracy: 0.8223\n",
            "Epoch 161/400\n",
            "11/11 [==============================] - 0s 3ms/step - loss: 0.4573 - accuracy: 0.8238\n",
            "Epoch 162/400\n",
            "11/11 [==============================] - 0s 4ms/step - loss: 0.4565 - accuracy: 0.8238\n",
            "Epoch 163/400\n",
            "11/11 [==============================] - 0s 3ms/step - loss: 0.4575 - accuracy: 0.8283\n",
            "Epoch 164/400\n",
            "11/11 [==============================] - 0s 3ms/step - loss: 0.4562 - accuracy: 0.8238\n",
            "Epoch 165/400\n",
            "11/11 [==============================] - 0s 3ms/step - loss: 0.4565 - accuracy: 0.8253\n",
            "Epoch 166/400\n",
            "11/11 [==============================] - 0s 3ms/step - loss: 0.4571 - accuracy: 0.8283\n",
            "Epoch 167/400\n",
            "11/11 [==============================] - 0s 3ms/step - loss: 0.4558 - accuracy: 0.8283\n",
            "Epoch 168/400\n",
            "11/11 [==============================] - 0s 4ms/step - loss: 0.4573 - accuracy: 0.8253\n",
            "Epoch 169/400\n",
            "11/11 [==============================] - 0s 3ms/step - loss: 0.4556 - accuracy: 0.8253\n",
            "Epoch 170/400\n",
            "11/11 [==============================] - 0s 4ms/step - loss: 0.4552 - accuracy: 0.8283\n",
            "Epoch 171/400\n",
            "11/11 [==============================] - 0s 3ms/step - loss: 0.4548 - accuracy: 0.8283\n",
            "Epoch 172/400\n",
            "11/11 [==============================] - 0s 3ms/step - loss: 0.4548 - accuracy: 0.8253\n",
            "Epoch 173/400\n",
            "11/11 [==============================] - 0s 3ms/step - loss: 0.4544 - accuracy: 0.8238\n",
            "Epoch 174/400\n",
            "11/11 [==============================] - 0s 3ms/step - loss: 0.4542 - accuracy: 0.8253\n",
            "Epoch 175/400\n",
            "11/11 [==============================] - 0s 3ms/step - loss: 0.4547 - accuracy: 0.8268\n",
            "Epoch 176/400\n",
            "11/11 [==============================] - 0s 3ms/step - loss: 0.4547 - accuracy: 0.8238\n",
            "Epoch 177/400\n",
            "11/11 [==============================] - 0s 3ms/step - loss: 0.4538 - accuracy: 0.8283\n",
            "Epoch 178/400\n",
            "11/11 [==============================] - 0s 3ms/step - loss: 0.4535 - accuracy: 0.8253\n",
            "Epoch 179/400\n",
            "11/11 [==============================] - 0s 3ms/step - loss: 0.4539 - accuracy: 0.8268\n",
            "Epoch 180/400\n",
            "11/11 [==============================] - 0s 3ms/step - loss: 0.4548 - accuracy: 0.8268\n",
            "Epoch 181/400\n",
            "11/11 [==============================] - 0s 3ms/step - loss: 0.4529 - accuracy: 0.8313\n",
            "Epoch 182/400\n",
            "11/11 [==============================] - 0s 3ms/step - loss: 0.4529 - accuracy: 0.8238\n",
            "Epoch 183/400\n",
            "11/11 [==============================] - 0s 3ms/step - loss: 0.4527 - accuracy: 0.8268\n",
            "Epoch 184/400\n",
            "11/11 [==============================] - 0s 3ms/step - loss: 0.4523 - accuracy: 0.8283\n",
            "Epoch 185/400\n",
            "11/11 [==============================] - 0s 3ms/step - loss: 0.4524 - accuracy: 0.8283\n",
            "Epoch 186/400\n",
            "11/11 [==============================] - 0s 5ms/step - loss: 0.4519 - accuracy: 0.8298\n",
            "Epoch 187/400\n",
            "11/11 [==============================] - 0s 4ms/step - loss: 0.4519 - accuracy: 0.8298\n",
            "Epoch 188/400\n",
            "11/11 [==============================] - 0s 3ms/step - loss: 0.4515 - accuracy: 0.8283\n",
            "Epoch 189/400\n",
            "11/11 [==============================] - 0s 3ms/step - loss: 0.4532 - accuracy: 0.8238\n",
            "Epoch 190/400\n",
            "11/11 [==============================] - 0s 3ms/step - loss: 0.4516 - accuracy: 0.8283\n",
            "Epoch 191/400\n",
            "11/11 [==============================] - 0s 3ms/step - loss: 0.4513 - accuracy: 0.8283\n",
            "Epoch 192/400\n",
            "11/11 [==============================] - 0s 3ms/step - loss: 0.4507 - accuracy: 0.8313\n",
            "Epoch 193/400\n",
            "11/11 [==============================] - 0s 4ms/step - loss: 0.4511 - accuracy: 0.8313\n",
            "Epoch 194/400\n",
            "11/11 [==============================] - 0s 3ms/step - loss: 0.4509 - accuracy: 0.8298\n",
            "Epoch 195/400\n",
            "11/11 [==============================] - 0s 3ms/step - loss: 0.4515 - accuracy: 0.8268\n",
            "Epoch 196/400\n",
            "11/11 [==============================] - 0s 4ms/step - loss: 0.4506 - accuracy: 0.8268\n",
            "Epoch 197/400\n",
            "11/11 [==============================] - 0s 4ms/step - loss: 0.4503 - accuracy: 0.8313\n",
            "Epoch 198/400\n",
            "11/11 [==============================] - 0s 4ms/step - loss: 0.4501 - accuracy: 0.8313\n",
            "Epoch 199/400\n",
            "11/11 [==============================] - 0s 3ms/step - loss: 0.4500 - accuracy: 0.8298\n",
            "Epoch 200/400\n",
            "11/11 [==============================] - 0s 3ms/step - loss: 0.4494 - accuracy: 0.8283\n",
            "Epoch 201/400\n",
            "11/11 [==============================] - 0s 3ms/step - loss: 0.4505 - accuracy: 0.8283\n",
            "Epoch 202/400\n",
            "11/11 [==============================] - 0s 3ms/step - loss: 0.4503 - accuracy: 0.8238\n",
            "Epoch 203/400\n",
            "11/11 [==============================] - 0s 3ms/step - loss: 0.4497 - accuracy: 0.8313\n",
            "Epoch 204/400\n",
            "11/11 [==============================] - 0s 3ms/step - loss: 0.4495 - accuracy: 0.8328\n",
            "Epoch 205/400\n",
            "11/11 [==============================] - 0s 3ms/step - loss: 0.4490 - accuracy: 0.8298\n",
            "Epoch 206/400\n",
            "11/11 [==============================] - 0s 3ms/step - loss: 0.4490 - accuracy: 0.8283\n",
            "Epoch 207/400\n",
            "11/11 [==============================] - 0s 3ms/step - loss: 0.4493 - accuracy: 0.8268\n",
            "Epoch 208/400\n",
            "11/11 [==============================] - 0s 4ms/step - loss: 0.4505 - accuracy: 0.8253\n",
            "Epoch 209/400\n",
            "11/11 [==============================] - 0s 5ms/step - loss: 0.4488 - accuracy: 0.8313\n",
            "Epoch 210/400\n",
            "11/11 [==============================] - 0s 3ms/step - loss: 0.4482 - accuracy: 0.8268\n",
            "Epoch 211/400\n",
            "11/11 [==============================] - 0s 3ms/step - loss: 0.4486 - accuracy: 0.8328\n",
            "Epoch 212/400\n",
            "11/11 [==============================] - 0s 3ms/step - loss: 0.4491 - accuracy: 0.8298\n",
            "Epoch 213/400\n",
            "11/11 [==============================] - 0s 3ms/step - loss: 0.4479 - accuracy: 0.8328\n",
            "Epoch 214/400\n",
            "11/11 [==============================] - 0s 3ms/step - loss: 0.4477 - accuracy: 0.8283\n",
            "Epoch 215/400\n",
            "11/11 [==============================] - 0s 3ms/step - loss: 0.4476 - accuracy: 0.8313\n",
            "Epoch 216/400\n",
            "11/11 [==============================] - 0s 3ms/step - loss: 0.4475 - accuracy: 0.8283\n",
            "Epoch 217/400\n",
            "11/11 [==============================] - 0s 4ms/step - loss: 0.4476 - accuracy: 0.8328\n",
            "Epoch 218/400\n",
            "11/11 [==============================] - 0s 3ms/step - loss: 0.4471 - accuracy: 0.8298\n",
            "Epoch 219/400\n",
            "11/11 [==============================] - 0s 3ms/step - loss: 0.4476 - accuracy: 0.8298\n",
            "Epoch 220/400\n",
            "11/11 [==============================] - 0s 3ms/step - loss: 0.4477 - accuracy: 0.8328\n",
            "Epoch 221/400\n",
            "11/11 [==============================] - 0s 3ms/step - loss: 0.4466 - accuracy: 0.8298\n",
            "Epoch 222/400\n",
            "11/11 [==============================] - 0s 3ms/step - loss: 0.4473 - accuracy: 0.8253\n",
            "Epoch 223/400\n",
            "11/11 [==============================] - 0s 3ms/step - loss: 0.4463 - accuracy: 0.8298\n",
            "Epoch 224/400\n",
            "11/11 [==============================] - 0s 3ms/step - loss: 0.4470 - accuracy: 0.8283\n",
            "Epoch 225/400\n",
            "11/11 [==============================] - 0s 3ms/step - loss: 0.4472 - accuracy: 0.8283\n",
            "Epoch 226/400\n",
            "11/11 [==============================] - 0s 4ms/step - loss: 0.4463 - accuracy: 0.8328\n",
            "Epoch 227/400\n",
            "11/11 [==============================] - 0s 3ms/step - loss: 0.4461 - accuracy: 0.8328\n",
            "Epoch 228/400\n",
            "11/11 [==============================] - 0s 3ms/step - loss: 0.4459 - accuracy: 0.8328\n",
            "Epoch 229/400\n",
            "11/11 [==============================] - 0s 3ms/step - loss: 0.4465 - accuracy: 0.8343\n",
            "Epoch 230/400\n",
            "11/11 [==============================] - 0s 3ms/step - loss: 0.4458 - accuracy: 0.8313\n",
            "Epoch 231/400\n",
            "11/11 [==============================] - 0s 3ms/step - loss: 0.4457 - accuracy: 0.8238\n",
            "Epoch 232/400\n",
            "11/11 [==============================] - 0s 3ms/step - loss: 0.4466 - accuracy: 0.8253\n",
            "Epoch 233/400\n",
            "11/11 [==============================] - 0s 4ms/step - loss: 0.4459 - accuracy: 0.8313\n",
            "Epoch 234/400\n",
            "11/11 [==============================] - 0s 3ms/step - loss: 0.4449 - accuracy: 0.8343\n",
            "Epoch 235/400\n",
            "11/11 [==============================] - 0s 3ms/step - loss: 0.4450 - accuracy: 0.8328\n",
            "Epoch 236/400\n",
            "11/11 [==============================] - 0s 3ms/step - loss: 0.4448 - accuracy: 0.8328\n",
            "Epoch 237/400\n",
            "11/11 [==============================] - 0s 3ms/step - loss: 0.4453 - accuracy: 0.8253\n",
            "Epoch 238/400\n",
            "11/11 [==============================] - 0s 4ms/step - loss: 0.4445 - accuracy: 0.8328\n",
            "Epoch 239/400\n",
            "11/11 [==============================] - 0s 3ms/step - loss: 0.4443 - accuracy: 0.8283\n",
            "Epoch 240/400\n",
            "11/11 [==============================] - 0s 3ms/step - loss: 0.4446 - accuracy: 0.8283\n",
            "Epoch 241/400\n",
            "11/11 [==============================] - 0s 3ms/step - loss: 0.4445 - accuracy: 0.8328\n",
            "Epoch 242/400\n",
            "11/11 [==============================] - 0s 3ms/step - loss: 0.4438 - accuracy: 0.8343\n",
            "Epoch 243/400\n",
            "11/11 [==============================] - 0s 3ms/step - loss: 0.4438 - accuracy: 0.8328\n",
            "Epoch 244/400\n",
            "11/11 [==============================] - 0s 3ms/step - loss: 0.4451 - accuracy: 0.8268\n",
            "Epoch 245/400\n",
            "11/11 [==============================] - 0s 3ms/step - loss: 0.4436 - accuracy: 0.8328\n",
            "Epoch 246/400\n",
            "11/11 [==============================] - 0s 4ms/step - loss: 0.4436 - accuracy: 0.8328\n",
            "Epoch 247/400\n",
            "11/11 [==============================] - 0s 3ms/step - loss: 0.4446 - accuracy: 0.8298\n",
            "Epoch 248/400\n",
            "11/11 [==============================] - 0s 4ms/step - loss: 0.4444 - accuracy: 0.8298\n",
            "Epoch 249/400\n",
            "11/11 [==============================] - 0s 4ms/step - loss: 0.4434 - accuracy: 0.8343\n",
            "Epoch 250/400\n",
            "11/11 [==============================] - 0s 4ms/step - loss: 0.4440 - accuracy: 0.8298\n",
            "Epoch 251/400\n",
            "11/11 [==============================] - 0s 3ms/step - loss: 0.4428 - accuracy: 0.8313\n",
            "Epoch 252/400\n",
            "11/11 [==============================] - 0s 3ms/step - loss: 0.4431 - accuracy: 0.8328\n",
            "Epoch 253/400\n",
            "11/11 [==============================] - 0s 4ms/step - loss: 0.4439 - accuracy: 0.8328\n",
            "Epoch 254/400\n",
            "11/11 [==============================] - 0s 3ms/step - loss: 0.4431 - accuracy: 0.8313\n",
            "Epoch 255/400\n",
            "11/11 [==============================] - 0s 3ms/step - loss: 0.4429 - accuracy: 0.8313\n",
            "Epoch 256/400\n",
            "11/11 [==============================] - 0s 4ms/step - loss: 0.4429 - accuracy: 0.8328\n",
            "Epoch 257/400\n",
            "11/11 [==============================] - 0s 5ms/step - loss: 0.4430 - accuracy: 0.8268\n",
            "Epoch 258/400\n",
            "11/11 [==============================] - 0s 3ms/step - loss: 0.4427 - accuracy: 0.8328\n",
            "Epoch 259/400\n",
            "11/11 [==============================] - 0s 4ms/step - loss: 0.4425 - accuracy: 0.8343\n",
            "Epoch 260/400\n",
            "11/11 [==============================] - 0s 3ms/step - loss: 0.4430 - accuracy: 0.8298\n",
            "Epoch 261/400\n",
            "11/11 [==============================] - 0s 3ms/step - loss: 0.4422 - accuracy: 0.8358\n",
            "Epoch 262/400\n",
            "11/11 [==============================] - 0s 4ms/step - loss: 0.4423 - accuracy: 0.8313\n",
            "Epoch 263/400\n",
            "11/11 [==============================] - 0s 3ms/step - loss: 0.4433 - accuracy: 0.8328\n",
            "Epoch 264/400\n",
            "11/11 [==============================] - 0s 4ms/step - loss: 0.4425 - accuracy: 0.8328\n",
            "Epoch 265/400\n",
            "11/11 [==============================] - 0s 4ms/step - loss: 0.4427 - accuracy: 0.8313\n",
            "Epoch 266/400\n",
            "11/11 [==============================] - 0s 4ms/step - loss: 0.4420 - accuracy: 0.8313\n",
            "Epoch 267/400\n",
            "11/11 [==============================] - 0s 3ms/step - loss: 0.4425 - accuracy: 0.8283\n",
            "Epoch 268/400\n",
            "11/11 [==============================] - 0s 4ms/step - loss: 0.4420 - accuracy: 0.8298\n",
            "Epoch 269/400\n",
            "11/11 [==============================] - 0s 4ms/step - loss: 0.4416 - accuracy: 0.8328\n",
            "Epoch 270/400\n",
            "11/11 [==============================] - 0s 3ms/step - loss: 0.4415 - accuracy: 0.8328\n",
            "Epoch 271/400\n",
            "11/11 [==============================] - 0s 5ms/step - loss: 0.4416 - accuracy: 0.8343\n",
            "Epoch 272/400\n",
            "11/11 [==============================] - 0s 5ms/step - loss: 0.4414 - accuracy: 0.8328\n",
            "Epoch 273/400\n",
            "11/11 [==============================] - 0s 6ms/step - loss: 0.4429 - accuracy: 0.8268\n",
            "Epoch 274/400\n",
            "11/11 [==============================] - 0s 5ms/step - loss: 0.4418 - accuracy: 0.8298\n",
            "Epoch 275/400\n",
            "11/11 [==============================] - 0s 5ms/step - loss: 0.4422 - accuracy: 0.8328\n",
            "Epoch 276/400\n",
            "11/11 [==============================] - 0s 6ms/step - loss: 0.4410 - accuracy: 0.8313\n",
            "Epoch 277/400\n",
            "11/11 [==============================] - 0s 5ms/step - loss: 0.4408 - accuracy: 0.8283\n",
            "Epoch 278/400\n",
            "11/11 [==============================] - 0s 4ms/step - loss: 0.4428 - accuracy: 0.8283\n",
            "Epoch 279/400\n",
            "11/11 [==============================] - 0s 4ms/step - loss: 0.4411 - accuracy: 0.8328\n",
            "Epoch 280/400\n",
            "11/11 [==============================] - 0s 5ms/step - loss: 0.4415 - accuracy: 0.8328\n",
            "Epoch 281/400\n",
            "11/11 [==============================] - 0s 5ms/step - loss: 0.4416 - accuracy: 0.8283\n",
            "Epoch 282/400\n",
            "11/11 [==============================] - 0s 5ms/step - loss: 0.4405 - accuracy: 0.8313\n",
            "Epoch 283/400\n",
            "11/11 [==============================] - 0s 4ms/step - loss: 0.4417 - accuracy: 0.8298\n",
            "Epoch 284/400\n",
            "11/11 [==============================] - 0s 5ms/step - loss: 0.4411 - accuracy: 0.8328\n",
            "Epoch 285/400\n",
            "11/11 [==============================] - 0s 4ms/step - loss: 0.4407 - accuracy: 0.8343\n",
            "Epoch 286/400\n",
            "11/11 [==============================] - 0s 4ms/step - loss: 0.4407 - accuracy: 0.8313\n",
            "Epoch 287/400\n",
            "11/11 [==============================] - 0s 4ms/step - loss: 0.4420 - accuracy: 0.8298\n",
            "Epoch 288/400\n",
            "11/11 [==============================] - 0s 4ms/step - loss: 0.4404 - accuracy: 0.8358\n",
            "Epoch 289/400\n",
            "11/11 [==============================] - 0s 4ms/step - loss: 0.4404 - accuracy: 0.8328\n",
            "Epoch 290/400\n",
            "11/11 [==============================] - 0s 4ms/step - loss: 0.4401 - accuracy: 0.8328\n",
            "Epoch 291/400\n",
            "11/11 [==============================] - 0s 4ms/step - loss: 0.4414 - accuracy: 0.8328\n",
            "Epoch 292/400\n",
            "11/11 [==============================] - 0s 4ms/step - loss: 0.4400 - accuracy: 0.8343\n",
            "Epoch 293/400\n",
            "11/11 [==============================] - 0s 4ms/step - loss: 0.4400 - accuracy: 0.8328\n",
            "Epoch 294/400\n",
            "11/11 [==============================] - 0s 4ms/step - loss: 0.4401 - accuracy: 0.8313\n",
            "Epoch 295/400\n",
            "11/11 [==============================] - 0s 4ms/step - loss: 0.4401 - accuracy: 0.8343\n",
            "Epoch 296/400\n",
            "11/11 [==============================] - 0s 5ms/step - loss: 0.4407 - accuracy: 0.8313\n",
            "Epoch 297/400\n",
            "11/11 [==============================] - 0s 4ms/step - loss: 0.4405 - accuracy: 0.8298\n",
            "Epoch 298/400\n",
            "11/11 [==============================] - 0s 4ms/step - loss: 0.4399 - accuracy: 0.8343\n",
            "Epoch 299/400\n",
            "11/11 [==============================] - 0s 4ms/step - loss: 0.4402 - accuracy: 0.8313\n",
            "Epoch 300/400\n",
            "11/11 [==============================] - 0s 6ms/step - loss: 0.4415 - accuracy: 0.8313\n",
            "Epoch 301/400\n",
            "11/11 [==============================] - 0s 6ms/step - loss: 0.4418 - accuracy: 0.8283\n",
            "Epoch 302/400\n",
            "11/11 [==============================] - 0s 4ms/step - loss: 0.4394 - accuracy: 0.8328\n",
            "Epoch 303/400\n",
            "11/11 [==============================] - 0s 4ms/step - loss: 0.4395 - accuracy: 0.8358\n",
            "Epoch 304/400\n",
            "11/11 [==============================] - 0s 4ms/step - loss: 0.4400 - accuracy: 0.8343\n",
            "Epoch 305/400\n",
            "11/11 [==============================] - 0s 4ms/step - loss: 0.4389 - accuracy: 0.8313\n",
            "Epoch 306/400\n",
            "11/11 [==============================] - 0s 5ms/step - loss: 0.4403 - accuracy: 0.8283\n",
            "Epoch 307/400\n",
            "11/11 [==============================] - 0s 4ms/step - loss: 0.4393 - accuracy: 0.8343\n",
            "Epoch 308/400\n",
            "11/11 [==============================] - 0s 5ms/step - loss: 0.4392 - accuracy: 0.8298\n",
            "Epoch 309/400\n",
            "11/11 [==============================] - 0s 6ms/step - loss: 0.4389 - accuracy: 0.8313\n",
            "Epoch 310/400\n",
            "11/11 [==============================] - 0s 5ms/step - loss: 0.4396 - accuracy: 0.8328\n",
            "Epoch 311/400\n",
            "11/11 [==============================] - 0s 4ms/step - loss: 0.4392 - accuracy: 0.8328\n",
            "Epoch 312/400\n",
            "11/11 [==============================] - 0s 4ms/step - loss: 0.4390 - accuracy: 0.8328\n",
            "Epoch 313/400\n",
            "11/11 [==============================] - 0s 4ms/step - loss: 0.4388 - accuracy: 0.8328\n",
            "Epoch 314/400\n",
            "11/11 [==============================] - 0s 5ms/step - loss: 0.4393 - accuracy: 0.8343\n",
            "Epoch 315/400\n",
            "11/11 [==============================] - 0s 4ms/step - loss: 0.4396 - accuracy: 0.8313\n",
            "Epoch 316/400\n",
            "11/11 [==============================] - 0s 5ms/step - loss: 0.4393 - accuracy: 0.8328\n",
            "Epoch 317/400\n",
            "11/11 [==============================] - 0s 4ms/step - loss: 0.4388 - accuracy: 0.8328\n",
            "Epoch 318/400\n",
            "11/11 [==============================] - 0s 4ms/step - loss: 0.4392 - accuracy: 0.8328\n",
            "Epoch 319/400\n",
            "11/11 [==============================] - 0s 5ms/step - loss: 0.4393 - accuracy: 0.8298\n",
            "Epoch 320/400\n",
            "11/11 [==============================] - 0s 4ms/step - loss: 0.4393 - accuracy: 0.8343\n",
            "Epoch 321/400\n",
            "11/11 [==============================] - 0s 4ms/step - loss: 0.4392 - accuracy: 0.8328\n",
            "Epoch 322/400\n",
            "11/11 [==============================] - 0s 4ms/step - loss: 0.4380 - accuracy: 0.8313\n",
            "Epoch 323/400\n",
            "11/11 [==============================] - 0s 4ms/step - loss: 0.4384 - accuracy: 0.8328\n",
            "Epoch 324/400\n",
            "11/11 [==============================] - 0s 4ms/step - loss: 0.4380 - accuracy: 0.8328\n",
            "Epoch 325/400\n",
            "11/11 [==============================] - 0s 4ms/step - loss: 0.4382 - accuracy: 0.8343\n",
            "Epoch 326/400\n",
            "11/11 [==============================] - 0s 4ms/step - loss: 0.4381 - accuracy: 0.8328\n",
            "Epoch 327/400\n",
            "11/11 [==============================] - 0s 4ms/step - loss: 0.4382 - accuracy: 0.8328\n",
            "Epoch 328/400\n",
            "11/11 [==============================] - 0s 4ms/step - loss: 0.4382 - accuracy: 0.8313\n",
            "Epoch 329/400\n",
            "11/11 [==============================] - 0s 5ms/step - loss: 0.4394 - accuracy: 0.8298\n",
            "Epoch 330/400\n",
            "11/11 [==============================] - 0s 4ms/step - loss: 0.4379 - accuracy: 0.8313\n",
            "Epoch 331/400\n",
            "11/11 [==============================] - 0s 4ms/step - loss: 0.4386 - accuracy: 0.8343\n",
            "Epoch 332/400\n",
            "11/11 [==============================] - 0s 5ms/step - loss: 0.4383 - accuracy: 0.8298\n",
            "Epoch 333/400\n",
            "11/11 [==============================] - 0s 4ms/step - loss: 0.4384 - accuracy: 0.8298\n",
            "Epoch 334/400\n",
            "11/11 [==============================] - 0s 6ms/step - loss: 0.4379 - accuracy: 0.8343\n",
            "Epoch 335/400\n",
            "11/11 [==============================] - 0s 5ms/step - loss: 0.4387 - accuracy: 0.8313\n",
            "Epoch 336/400\n",
            "11/11 [==============================] - 0s 5ms/step - loss: 0.4379 - accuracy: 0.8268\n",
            "Epoch 337/400\n",
            "11/11 [==============================] - 0s 5ms/step - loss: 0.4380 - accuracy: 0.8313\n",
            "Epoch 338/400\n",
            "11/11 [==============================] - 0s 5ms/step - loss: 0.4377 - accuracy: 0.8313\n",
            "Epoch 339/400\n",
            "11/11 [==============================] - 0s 6ms/step - loss: 0.4378 - accuracy: 0.8328\n",
            "Epoch 340/400\n",
            "11/11 [==============================] - 0s 5ms/step - loss: 0.4381 - accuracy: 0.8313\n",
            "Epoch 341/400\n",
            "11/11 [==============================] - 0s 5ms/step - loss: 0.4379 - accuracy: 0.8328\n",
            "Epoch 342/400\n",
            "11/11 [==============================] - 0s 5ms/step - loss: 0.4394 - accuracy: 0.8283\n",
            "Epoch 343/400\n",
            "11/11 [==============================] - 0s 5ms/step - loss: 0.4389 - accuracy: 0.8328\n",
            "Epoch 344/400\n",
            "11/11 [==============================] - 0s 5ms/step - loss: 0.4383 - accuracy: 0.8358\n",
            "Epoch 345/400\n",
            "11/11 [==============================] - 0s 6ms/step - loss: 0.4375 - accuracy: 0.8343\n",
            "Epoch 346/400\n",
            "11/11 [==============================] - 0s 5ms/step - loss: 0.4380 - accuracy: 0.8268\n",
            "Epoch 347/400\n",
            "11/11 [==============================] - 0s 5ms/step - loss: 0.4374 - accuracy: 0.8328\n",
            "Epoch 348/400\n",
            "11/11 [==============================] - 0s 5ms/step - loss: 0.4375 - accuracy: 0.8328\n",
            "Epoch 349/400\n",
            "11/11 [==============================] - 0s 4ms/step - loss: 0.4377 - accuracy: 0.8328\n",
            "Epoch 350/400\n",
            "11/11 [==============================] - 0s 4ms/step - loss: 0.4381 - accuracy: 0.8313\n",
            "Epoch 351/400\n",
            "11/11 [==============================] - 0s 4ms/step - loss: 0.4374 - accuracy: 0.8328\n",
            "Epoch 352/400\n",
            "11/11 [==============================] - 0s 4ms/step - loss: 0.4377 - accuracy: 0.8328\n",
            "Epoch 353/400\n",
            "11/11 [==============================] - 0s 4ms/step - loss: 0.4374 - accuracy: 0.8328\n",
            "Epoch 354/400\n",
            "11/11 [==============================] - 0s 4ms/step - loss: 0.4371 - accuracy: 0.8298\n",
            "Epoch 355/400\n",
            "11/11 [==============================] - 0s 3ms/step - loss: 0.4372 - accuracy: 0.8328\n",
            "Epoch 356/400\n",
            "11/11 [==============================] - 0s 4ms/step - loss: 0.4371 - accuracy: 0.8328\n",
            "Epoch 357/400\n",
            "11/11 [==============================] - 0s 4ms/step - loss: 0.4382 - accuracy: 0.8298\n",
            "Epoch 358/400\n",
            "11/11 [==============================] - 0s 4ms/step - loss: 0.4370 - accuracy: 0.8343\n",
            "Epoch 359/400\n",
            "11/11 [==============================] - 0s 3ms/step - loss: 0.4373 - accuracy: 0.8328\n",
            "Epoch 360/400\n",
            "11/11 [==============================] - 0s 3ms/step - loss: 0.4370 - accuracy: 0.8298\n",
            "Epoch 361/400\n",
            "11/11 [==============================] - 0s 3ms/step - loss: 0.4388 - accuracy: 0.8358\n",
            "Epoch 362/400\n",
            "11/11 [==============================] - 0s 4ms/step - loss: 0.4366 - accuracy: 0.8343\n",
            "Epoch 363/400\n",
            "11/11 [==============================] - 0s 3ms/step - loss: 0.4382 - accuracy: 0.8283\n",
            "Epoch 364/400\n",
            "11/11 [==============================] - 0s 4ms/step - loss: 0.4366 - accuracy: 0.8313\n",
            "Epoch 365/400\n",
            "11/11 [==============================] - 0s 3ms/step - loss: 0.4373 - accuracy: 0.8328\n",
            "Epoch 366/400\n",
            "11/11 [==============================] - 0s 4ms/step - loss: 0.4374 - accuracy: 0.8313\n",
            "Epoch 367/400\n",
            "11/11 [==============================] - 0s 4ms/step - loss: 0.4367 - accuracy: 0.8328\n",
            "Epoch 368/400\n",
            "11/11 [==============================] - 0s 4ms/step - loss: 0.4373 - accuracy: 0.8343\n",
            "Epoch 369/400\n",
            "11/11 [==============================] - 0s 3ms/step - loss: 0.4367 - accuracy: 0.8343\n",
            "Epoch 370/400\n",
            "11/11 [==============================] - 0s 4ms/step - loss: 0.4370 - accuracy: 0.8268\n",
            "Epoch 371/400\n",
            "11/11 [==============================] - 0s 5ms/step - loss: 0.4369 - accuracy: 0.8328\n",
            "Epoch 372/400\n",
            "11/11 [==============================] - 0s 3ms/step - loss: 0.4378 - accuracy: 0.8313\n",
            "Epoch 373/400\n",
            "11/11 [==============================] - 0s 5ms/step - loss: 0.4366 - accuracy: 0.8313\n",
            "Epoch 374/400\n",
            "11/11 [==============================] - 0s 3ms/step - loss: 0.4366 - accuracy: 0.8328\n",
            "Epoch 375/400\n",
            "11/11 [==============================] - 0s 3ms/step - loss: 0.4371 - accuracy: 0.8313\n",
            "Epoch 376/400\n",
            "11/11 [==============================] - 0s 3ms/step - loss: 0.4364 - accuracy: 0.8313\n",
            "Epoch 377/400\n",
            "11/11 [==============================] - 0s 3ms/step - loss: 0.4366 - accuracy: 0.8313\n",
            "Epoch 378/400\n",
            "11/11 [==============================] - 0s 4ms/step - loss: 0.4365 - accuracy: 0.8268\n",
            "Epoch 379/400\n",
            "11/11 [==============================] - 0s 3ms/step - loss: 0.4371 - accuracy: 0.8223\n",
            "Epoch 380/400\n",
            "11/11 [==============================] - 0s 4ms/step - loss: 0.4364 - accuracy: 0.8313\n",
            "Epoch 381/400\n",
            "11/11 [==============================] - 0s 4ms/step - loss: 0.4373 - accuracy: 0.8313\n",
            "Epoch 382/400\n",
            "11/11 [==============================] - 0s 3ms/step - loss: 0.4359 - accuracy: 0.8283\n",
            "Epoch 383/400\n",
            "11/11 [==============================] - 0s 3ms/step - loss: 0.4365 - accuracy: 0.8343\n",
            "Epoch 384/400\n",
            "11/11 [==============================] - 0s 4ms/step - loss: 0.4363 - accuracy: 0.8313\n",
            "Epoch 385/400\n",
            "11/11 [==============================] - 0s 3ms/step - loss: 0.4361 - accuracy: 0.8298\n",
            "Epoch 386/400\n",
            "11/11 [==============================] - 0s 3ms/step - loss: 0.4359 - accuracy: 0.8313\n",
            "Epoch 387/400\n",
            "11/11 [==============================] - 0s 4ms/step - loss: 0.4360 - accuracy: 0.8313\n",
            "Epoch 388/400\n",
            "11/11 [==============================] - 0s 3ms/step - loss: 0.4355 - accuracy: 0.8313\n",
            "Epoch 389/400\n",
            "11/11 [==============================] - 0s 4ms/step - loss: 0.4360 - accuracy: 0.8283\n",
            "Epoch 390/400\n",
            "11/11 [==============================] - 0s 3ms/step - loss: 0.4365 - accuracy: 0.8283\n",
            "Epoch 391/400\n",
            "11/11 [==============================] - 0s 4ms/step - loss: 0.4355 - accuracy: 0.8253\n",
            "Epoch 392/400\n",
            "11/11 [==============================] - 0s 4ms/step - loss: 0.4364 - accuracy: 0.8343\n",
            "Epoch 393/400\n",
            "11/11 [==============================] - 0s 3ms/step - loss: 0.4372 - accuracy: 0.8313\n",
            "Epoch 394/400\n",
            "11/11 [==============================] - 0s 5ms/step - loss: 0.4356 - accuracy: 0.8298\n",
            "Epoch 395/400\n",
            "11/11 [==============================] - 0s 3ms/step - loss: 0.4357 - accuracy: 0.8313\n",
            "Epoch 396/400\n",
            "11/11 [==============================] - 0s 4ms/step - loss: 0.4359 - accuracy: 0.8343\n",
            "Epoch 397/400\n",
            "11/11 [==============================] - 0s 4ms/step - loss: 0.4362 - accuracy: 0.8343\n",
            "Epoch 398/400\n",
            "11/11 [==============================] - 0s 3ms/step - loss: 0.4358 - accuracy: 0.8253\n",
            "Epoch 399/400\n",
            "11/11 [==============================] - 0s 4ms/step - loss: 0.4356 - accuracy: 0.8298\n",
            "Epoch 400/400\n",
            "11/11 [==============================] - 0s 4ms/step - loss: 0.4361 - accuracy: 0.8298\n"
          ]
        }
      ]
    },
    {
      "cell_type": "markdown",
      "source": [
        "## Para o modelo 3"
      ],
      "metadata": {
        "id": "y4JqZBy5I52O"
      }
    },
    {
      "cell_type": "markdown",
      "source": [
        "```\n",
        "batch_size = 128\n",
        "epochs = 200\n",
        "```\n",
        "\n"
      ],
      "metadata": {
        "id": "VCvefBjrKft9"
      }
    },
    {
      "cell_type": "code",
      "source": [
        "history_3 = model_3.fit(x_train, y_train, batch_size=128, epochs=800)"
      ],
      "metadata": {
        "colab": {
          "base_uri": "https://localhost:8080/"
        },
        "id": "4zUG0GY4JaEU",
        "outputId": "d0bc1d58-d11e-4320-bbf3-524feadf7e95"
      },
      "execution_count": null,
      "outputs": [
        {
          "output_type": "stream",
          "name": "stdout",
          "text": [
            "Epoch 1/800\n",
            "6/6 [==============================] - 1s 4ms/step - loss: 0.7071 - accuracy: 0.4970\n",
            "Epoch 2/800\n",
            "6/6 [==============================] - 0s 4ms/step - loss: 0.6666 - accuracy: 0.7108\n",
            "Epoch 3/800\n",
            "6/6 [==============================] - 0s 4ms/step - loss: 0.6395 - accuracy: 0.7229\n",
            "Epoch 4/800\n",
            "6/6 [==============================] - 0s 3ms/step - loss: 0.6167 - accuracy: 0.7274\n",
            "Epoch 5/800\n",
            "6/6 [==============================] - 0s 4ms/step - loss: 0.5990 - accuracy: 0.7500\n",
            "Epoch 6/800\n",
            "6/6 [==============================] - 0s 4ms/step - loss: 0.5827 - accuracy: 0.7530\n",
            "Epoch 7/800\n",
            "6/6 [==============================] - 0s 4ms/step - loss: 0.5679 - accuracy: 0.7711\n",
            "Epoch 8/800\n",
            "6/6 [==============================] - 0s 4ms/step - loss: 0.5549 - accuracy: 0.7816\n",
            "Epoch 9/800\n",
            "6/6 [==============================] - 0s 4ms/step - loss: 0.5414 - accuracy: 0.7861\n",
            "Epoch 10/800\n",
            "6/6 [==============================] - 0s 3ms/step - loss: 0.5305 - accuracy: 0.7861\n",
            "Epoch 11/800\n",
            "6/6 [==============================] - 0s 5ms/step - loss: 0.5195 - accuracy: 0.7846\n",
            "Epoch 12/800\n",
            "6/6 [==============================] - 0s 5ms/step - loss: 0.5102 - accuracy: 0.7922\n",
            "Epoch 13/800\n",
            "6/6 [==============================] - 0s 4ms/step - loss: 0.5016 - accuracy: 0.7907\n",
            "Epoch 14/800\n",
            "6/6 [==============================] - 0s 5ms/step - loss: 0.4949 - accuracy: 0.7907\n",
            "Epoch 15/800\n",
            "6/6 [==============================] - 0s 3ms/step - loss: 0.4894 - accuracy: 0.7907\n",
            "Epoch 16/800\n",
            "6/6 [==============================] - 0s 4ms/step - loss: 0.4847 - accuracy: 0.7922\n",
            "Epoch 17/800\n",
            "6/6 [==============================] - 0s 5ms/step - loss: 0.4812 - accuracy: 0.7937\n",
            "Epoch 18/800\n",
            "6/6 [==============================] - 0s 4ms/step - loss: 0.4790 - accuracy: 0.7937\n",
            "Epoch 19/800\n",
            "6/6 [==============================] - 0s 4ms/step - loss: 0.4762 - accuracy: 0.8057\n",
            "Epoch 20/800\n",
            "6/6 [==============================] - 0s 5ms/step - loss: 0.4739 - accuracy: 0.8012\n",
            "Epoch 21/800\n",
            "6/6 [==============================] - 0s 4ms/step - loss: 0.4723 - accuracy: 0.7937\n",
            "Epoch 22/800\n",
            "6/6 [==============================] - 0s 4ms/step - loss: 0.4711 - accuracy: 0.7937\n",
            "Epoch 23/800\n",
            "6/6 [==============================] - 0s 5ms/step - loss: 0.4694 - accuracy: 0.7967\n",
            "Epoch 24/800\n",
            "6/6 [==============================] - 0s 4ms/step - loss: 0.4680 - accuracy: 0.7982\n",
            "Epoch 25/800\n",
            "6/6 [==============================] - 0s 4ms/step - loss: 0.4652 - accuracy: 0.8087\n",
            "Epoch 26/800\n",
            "6/6 [==============================] - 0s 4ms/step - loss: 0.4637 - accuracy: 0.8042\n",
            "Epoch 27/800\n",
            "6/6 [==============================] - 0s 4ms/step - loss: 0.4628 - accuracy: 0.8057\n",
            "Epoch 28/800\n",
            "6/6 [==============================] - 0s 3ms/step - loss: 0.4620 - accuracy: 0.8057\n",
            "Epoch 29/800\n",
            "6/6 [==============================] - 0s 5ms/step - loss: 0.4610 - accuracy: 0.8057\n",
            "Epoch 30/800\n",
            "6/6 [==============================] - 0s 5ms/step - loss: 0.4580 - accuracy: 0.8057\n",
            "Epoch 31/800\n",
            "6/6 [==============================] - 0s 4ms/step - loss: 0.4586 - accuracy: 0.8057\n",
            "Epoch 32/800\n",
            "6/6 [==============================] - 0s 5ms/step - loss: 0.4566 - accuracy: 0.8072\n",
            "Epoch 33/800\n",
            "6/6 [==============================] - 0s 4ms/step - loss: 0.4553 - accuracy: 0.8057\n",
            "Epoch 34/800\n",
            "6/6 [==============================] - 0s 4ms/step - loss: 0.4544 - accuracy: 0.8042\n",
            "Epoch 35/800\n",
            "6/6 [==============================] - 0s 4ms/step - loss: 0.4536 - accuracy: 0.8102\n",
            "Epoch 36/800\n",
            "6/6 [==============================] - 0s 4ms/step - loss: 0.4516 - accuracy: 0.8148\n",
            "Epoch 37/800\n",
            "6/6 [==============================] - 0s 4ms/step - loss: 0.4514 - accuracy: 0.8163\n",
            "Epoch 38/800\n",
            "6/6 [==============================] - 0s 4ms/step - loss: 0.4498 - accuracy: 0.8148\n",
            "Epoch 39/800\n",
            "6/6 [==============================] - 0s 4ms/step - loss: 0.4491 - accuracy: 0.8117\n",
            "Epoch 40/800\n",
            "6/6 [==============================] - 0s 4ms/step - loss: 0.4481 - accuracy: 0.8133\n",
            "Epoch 41/800\n",
            "6/6 [==============================] - 0s 5ms/step - loss: 0.4474 - accuracy: 0.8163\n",
            "Epoch 42/800\n",
            "6/6 [==============================] - 0s 4ms/step - loss: 0.4466 - accuracy: 0.8148\n",
            "Epoch 43/800\n",
            "6/6 [==============================] - 0s 4ms/step - loss: 0.4458 - accuracy: 0.8163\n",
            "Epoch 44/800\n",
            "6/6 [==============================] - 0s 5ms/step - loss: 0.4447 - accuracy: 0.8178\n",
            "Epoch 45/800\n",
            "6/6 [==============================] - 0s 4ms/step - loss: 0.4439 - accuracy: 0.8163\n",
            "Epoch 46/800\n",
            "6/6 [==============================] - 0s 5ms/step - loss: 0.4437 - accuracy: 0.8148\n",
            "Epoch 47/800\n",
            "6/6 [==============================] - 0s 4ms/step - loss: 0.4433 - accuracy: 0.8133\n",
            "Epoch 48/800\n",
            "6/6 [==============================] - 0s 4ms/step - loss: 0.4421 - accuracy: 0.8133\n",
            "Epoch 49/800\n",
            "6/6 [==============================] - 0s 4ms/step - loss: 0.4415 - accuracy: 0.8133\n",
            "Epoch 50/800\n",
            "6/6 [==============================] - 0s 4ms/step - loss: 0.4418 - accuracy: 0.8117\n",
            "Epoch 51/800\n",
            "6/6 [==============================] - 0s 4ms/step - loss: 0.4420 - accuracy: 0.8148\n",
            "Epoch 52/800\n",
            "6/6 [==============================] - 0s 3ms/step - loss: 0.4398 - accuracy: 0.8133\n",
            "Epoch 53/800\n",
            "6/6 [==============================] - 0s 5ms/step - loss: 0.4427 - accuracy: 0.8148\n",
            "Epoch 54/800\n",
            "6/6 [==============================] - 0s 4ms/step - loss: 0.4393 - accuracy: 0.8148\n",
            "Epoch 55/800\n",
            "6/6 [==============================] - 0s 5ms/step - loss: 0.4393 - accuracy: 0.8117\n",
            "Epoch 56/800\n",
            "6/6 [==============================] - 0s 4ms/step - loss: 0.4390 - accuracy: 0.8117\n",
            "Epoch 57/800\n",
            "6/6 [==============================] - 0s 4ms/step - loss: 0.4380 - accuracy: 0.8117\n",
            "Epoch 58/800\n",
            "6/6 [==============================] - 0s 4ms/step - loss: 0.4373 - accuracy: 0.8133\n",
            "Epoch 59/800\n",
            "6/6 [==============================] - 0s 4ms/step - loss: 0.4368 - accuracy: 0.8133\n",
            "Epoch 60/800\n",
            "6/6 [==============================] - 0s 4ms/step - loss: 0.4364 - accuracy: 0.8178\n",
            "Epoch 61/800\n",
            "6/6 [==============================] - 0s 3ms/step - loss: 0.4383 - accuracy: 0.8163\n",
            "Epoch 62/800\n",
            "6/6 [==============================] - 0s 4ms/step - loss: 0.4359 - accuracy: 0.8163\n",
            "Epoch 63/800\n",
            "6/6 [==============================] - 0s 4ms/step - loss: 0.4359 - accuracy: 0.8133\n",
            "Epoch 64/800\n",
            "6/6 [==============================] - 0s 4ms/step - loss: 0.4348 - accuracy: 0.8133\n",
            "Epoch 65/800\n",
            "6/6 [==============================] - 0s 5ms/step - loss: 0.4359 - accuracy: 0.8163\n",
            "Epoch 66/800\n",
            "6/6 [==============================] - 0s 4ms/step - loss: 0.4355 - accuracy: 0.8117\n",
            "Epoch 67/800\n",
            "6/6 [==============================] - 0s 4ms/step - loss: 0.4352 - accuracy: 0.8117\n",
            "Epoch 68/800\n",
            "6/6 [==============================] - 0s 4ms/step - loss: 0.4342 - accuracy: 0.8148\n",
            "Epoch 69/800\n",
            "6/6 [==============================] - 0s 4ms/step - loss: 0.4336 - accuracy: 0.8223\n",
            "Epoch 70/800\n",
            "6/6 [==============================] - 0s 3ms/step - loss: 0.4334 - accuracy: 0.8223\n",
            "Epoch 71/800\n",
            "6/6 [==============================] - 0s 4ms/step - loss: 0.4331 - accuracy: 0.8163\n",
            "Epoch 72/800\n",
            "6/6 [==============================] - 0s 4ms/step - loss: 0.4327 - accuracy: 0.8208\n",
            "Epoch 73/800\n",
            "6/6 [==============================] - 0s 4ms/step - loss: 0.4327 - accuracy: 0.8223\n",
            "Epoch 74/800\n",
            "6/6 [==============================] - 0s 4ms/step - loss: 0.4322 - accuracy: 0.8133\n",
            "Epoch 75/800\n",
            "6/6 [==============================] - 0s 4ms/step - loss: 0.4329 - accuracy: 0.8148\n",
            "Epoch 76/800\n",
            "6/6 [==============================] - 0s 4ms/step - loss: 0.4336 - accuracy: 0.8163\n",
            "Epoch 77/800\n",
            "6/6 [==============================] - 0s 5ms/step - loss: 0.4314 - accuracy: 0.8133\n",
            "Epoch 78/800\n",
            "6/6 [==============================] - 0s 4ms/step - loss: 0.4320 - accuracy: 0.8133\n",
            "Epoch 79/800\n",
            "6/6 [==============================] - 0s 4ms/step - loss: 0.4330 - accuracy: 0.8117\n",
            "Epoch 80/800\n",
            "6/6 [==============================] - 0s 4ms/step - loss: 0.4305 - accuracy: 0.8163\n",
            "Epoch 81/800\n",
            "6/6 [==============================] - 0s 4ms/step - loss: 0.4323 - accuracy: 0.8178\n",
            "Epoch 82/800\n",
            "6/6 [==============================] - 0s 4ms/step - loss: 0.4325 - accuracy: 0.8193\n",
            "Epoch 83/800\n",
            "6/6 [==============================] - 0s 4ms/step - loss: 0.4310 - accuracy: 0.8223\n",
            "Epoch 84/800\n",
            "6/6 [==============================] - 0s 4ms/step - loss: 0.4303 - accuracy: 0.8238\n",
            "Epoch 85/800\n",
            "6/6 [==============================] - 0s 3ms/step - loss: 0.4313 - accuracy: 0.8148\n",
            "Epoch 86/800\n",
            "6/6 [==============================] - 0s 4ms/step - loss: 0.4311 - accuracy: 0.8133\n",
            "Epoch 87/800\n",
            "6/6 [==============================] - 0s 5ms/step - loss: 0.4299 - accuracy: 0.8238\n",
            "Epoch 88/800\n",
            "6/6 [==============================] - 0s 5ms/step - loss: 0.4298 - accuracy: 0.8238\n",
            "Epoch 89/800\n",
            "6/6 [==============================] - 0s 4ms/step - loss: 0.4296 - accuracy: 0.8253\n",
            "Epoch 90/800\n",
            "6/6 [==============================] - 0s 4ms/step - loss: 0.4304 - accuracy: 0.8238\n",
            "Epoch 91/800\n",
            "6/6 [==============================] - 0s 4ms/step - loss: 0.4291 - accuracy: 0.8253\n",
            "Epoch 92/800\n",
            "6/6 [==============================] - 0s 3ms/step - loss: 0.4289 - accuracy: 0.8238\n",
            "Epoch 93/800\n",
            "6/6 [==============================] - 0s 4ms/step - loss: 0.4294 - accuracy: 0.8208\n",
            "Epoch 94/800\n",
            "6/6 [==============================] - 0s 4ms/step - loss: 0.4293 - accuracy: 0.8163\n",
            "Epoch 95/800\n",
            "6/6 [==============================] - 0s 4ms/step - loss: 0.4293 - accuracy: 0.8178\n",
            "Epoch 96/800\n",
            "6/6 [==============================] - 0s 4ms/step - loss: 0.4293 - accuracy: 0.8193\n",
            "Epoch 97/800\n",
            "6/6 [==============================] - 0s 4ms/step - loss: 0.4290 - accuracy: 0.8163\n",
            "Epoch 98/800\n",
            "6/6 [==============================] - 0s 4ms/step - loss: 0.4281 - accuracy: 0.8238\n",
            "Epoch 99/800\n",
            "6/6 [==============================] - 0s 4ms/step - loss: 0.4278 - accuracy: 0.8193\n",
            "Epoch 100/800\n",
            "6/6 [==============================] - 0s 3ms/step - loss: 0.4293 - accuracy: 0.8163\n",
            "Epoch 101/800\n",
            "6/6 [==============================] - 0s 3ms/step - loss: 0.4293 - accuracy: 0.8178\n",
            "Epoch 102/800\n",
            "6/6 [==============================] - 0s 4ms/step - loss: 0.4307 - accuracy: 0.8238\n",
            "Epoch 103/800\n",
            "6/6 [==============================] - 0s 4ms/step - loss: 0.4285 - accuracy: 0.8193\n",
            "Epoch 104/800\n",
            "6/6 [==============================] - 0s 4ms/step - loss: 0.4282 - accuracy: 0.8208\n",
            "Epoch 105/800\n",
            "6/6 [==============================] - 0s 4ms/step - loss: 0.4281 - accuracy: 0.8238\n",
            "Epoch 106/800\n",
            "6/6 [==============================] - 0s 5ms/step - loss: 0.4281 - accuracy: 0.8193\n",
            "Epoch 107/800\n",
            "6/6 [==============================] - 0s 4ms/step - loss: 0.4287 - accuracy: 0.8223\n",
            "Epoch 108/800\n",
            "6/6 [==============================] - 0s 4ms/step - loss: 0.4284 - accuracy: 0.8208\n",
            "Epoch 109/800\n",
            "6/6 [==============================] - 0s 4ms/step - loss: 0.4279 - accuracy: 0.8193\n",
            "Epoch 110/800\n",
            "6/6 [==============================] - 0s 4ms/step - loss: 0.4272 - accuracy: 0.8223\n",
            "Epoch 111/800\n",
            "6/6 [==============================] - 0s 3ms/step - loss: 0.4271 - accuracy: 0.8223\n",
            "Epoch 112/800\n",
            "6/6 [==============================] - 0s 4ms/step - loss: 0.4272 - accuracy: 0.8208\n",
            "Epoch 113/800\n",
            "6/6 [==============================] - 0s 4ms/step - loss: 0.4267 - accuracy: 0.8238\n",
            "Epoch 114/800\n",
            "6/6 [==============================] - 0s 4ms/step - loss: 0.4268 - accuracy: 0.8223\n",
            "Epoch 115/800\n",
            "6/6 [==============================] - 0s 4ms/step - loss: 0.4265 - accuracy: 0.8238\n",
            "Epoch 116/800\n",
            "6/6 [==============================] - 0s 4ms/step - loss: 0.4261 - accuracy: 0.8223\n",
            "Epoch 117/800\n",
            "6/6 [==============================] - 0s 4ms/step - loss: 0.4263 - accuracy: 0.8223\n",
            "Epoch 118/800\n",
            "6/6 [==============================] - 0s 4ms/step - loss: 0.4263 - accuracy: 0.8208\n",
            "Epoch 119/800\n",
            "6/6 [==============================] - 0s 5ms/step - loss: 0.4273 - accuracy: 0.8208\n",
            "Epoch 120/800\n",
            "6/6 [==============================] - 0s 4ms/step - loss: 0.4266 - accuracy: 0.8148\n",
            "Epoch 121/800\n",
            "6/6 [==============================] - 0s 6ms/step - loss: 0.4269 - accuracy: 0.8223\n",
            "Epoch 122/800\n",
            "6/6 [==============================] - 0s 4ms/step - loss: 0.4277 - accuracy: 0.8223\n",
            "Epoch 123/800\n",
            "6/6 [==============================] - 0s 4ms/step - loss: 0.4267 - accuracy: 0.8238\n",
            "Epoch 124/800\n",
            "6/6 [==============================] - 0s 4ms/step - loss: 0.4277 - accuracy: 0.8163\n",
            "Epoch 125/800\n",
            "6/6 [==============================] - 0s 4ms/step - loss: 0.4270 - accuracy: 0.8223\n",
            "Epoch 126/800\n",
            "6/6 [==============================] - 0s 4ms/step - loss: 0.4261 - accuracy: 0.8238\n",
            "Epoch 127/800\n",
            "6/6 [==============================] - 0s 4ms/step - loss: 0.4270 - accuracy: 0.8268\n",
            "Epoch 128/800\n",
            "6/6 [==============================] - 0s 4ms/step - loss: 0.4252 - accuracy: 0.8223\n",
            "Epoch 129/800\n",
            "6/6 [==============================] - 0s 6ms/step - loss: 0.4255 - accuracy: 0.8238\n",
            "Epoch 130/800\n",
            "6/6 [==============================] - 0s 4ms/step - loss: 0.4257 - accuracy: 0.8208\n",
            "Epoch 131/800\n",
            "6/6 [==============================] - 0s 4ms/step - loss: 0.4251 - accuracy: 0.8253\n",
            "Epoch 132/800\n",
            "6/6 [==============================] - 0s 4ms/step - loss: 0.4256 - accuracy: 0.8238\n",
            "Epoch 133/800\n",
            "6/6 [==============================] - 0s 4ms/step - loss: 0.4251 - accuracy: 0.8253\n",
            "Epoch 134/800\n",
            "6/6 [==============================] - 0s 5ms/step - loss: 0.4250 - accuracy: 0.8238\n",
            "Epoch 135/800\n",
            "6/6 [==============================] - 0s 4ms/step - loss: 0.4247 - accuracy: 0.8253\n",
            "Epoch 136/800\n",
            "6/6 [==============================] - 0s 4ms/step - loss: 0.4257 - accuracy: 0.8193\n",
            "Epoch 137/800\n",
            "6/6 [==============================] - 0s 3ms/step - loss: 0.4250 - accuracy: 0.8223\n",
            "Epoch 138/800\n",
            "6/6 [==============================] - 0s 4ms/step - loss: 0.4248 - accuracy: 0.8208\n",
            "Epoch 139/800\n",
            "6/6 [==============================] - 0s 5ms/step - loss: 0.4246 - accuracy: 0.8238\n",
            "Epoch 140/800\n",
            "6/6 [==============================] - 0s 4ms/step - loss: 0.4252 - accuracy: 0.8208\n",
            "Epoch 141/800\n",
            "6/6 [==============================] - 0s 5ms/step - loss: 0.4236 - accuracy: 0.8238\n",
            "Epoch 142/800\n",
            "6/6 [==============================] - 0s 4ms/step - loss: 0.4251 - accuracy: 0.8208\n",
            "Epoch 143/800\n",
            "6/6 [==============================] - 0s 4ms/step - loss: 0.4238 - accuracy: 0.8253\n",
            "Epoch 144/800\n",
            "6/6 [==============================] - 0s 4ms/step - loss: 0.4238 - accuracy: 0.8238\n",
            "Epoch 145/800\n",
            "6/6 [==============================] - 0s 4ms/step - loss: 0.4235 - accuracy: 0.8253\n",
            "Epoch 146/800\n",
            "6/6 [==============================] - 0s 4ms/step - loss: 0.4264 - accuracy: 0.8163\n",
            "Epoch 147/800\n",
            "6/6 [==============================] - 0s 4ms/step - loss: 0.4230 - accuracy: 0.8238\n",
            "Epoch 148/800\n",
            "6/6 [==============================] - 0s 4ms/step - loss: 0.4262 - accuracy: 0.8223\n",
            "Epoch 149/800\n",
            "6/6 [==============================] - 0s 4ms/step - loss: 0.4241 - accuracy: 0.8193\n",
            "Epoch 150/800\n",
            "6/6 [==============================] - 0s 5ms/step - loss: 0.4252 - accuracy: 0.8163\n",
            "Epoch 151/800\n",
            "6/6 [==============================] - 0s 4ms/step - loss: 0.4249 - accuracy: 0.8193\n",
            "Epoch 152/800\n",
            "6/6 [==============================] - 0s 4ms/step - loss: 0.4240 - accuracy: 0.8193\n",
            "Epoch 153/800\n",
            "6/6 [==============================] - 0s 6ms/step - loss: 0.4236 - accuracy: 0.8238\n",
            "Epoch 154/800\n",
            "6/6 [==============================] - 0s 5ms/step - loss: 0.4228 - accuracy: 0.8253\n",
            "Epoch 155/800\n",
            "6/6 [==============================] - 0s 5ms/step - loss: 0.4231 - accuracy: 0.8238\n",
            "Epoch 156/800\n",
            "6/6 [==============================] - 0s 5ms/step - loss: 0.4229 - accuracy: 0.8283\n",
            "Epoch 157/800\n",
            "6/6 [==============================] - 0s 4ms/step - loss: 0.4238 - accuracy: 0.8238\n",
            "Epoch 158/800\n",
            "6/6 [==============================] - 0s 4ms/step - loss: 0.4243 - accuracy: 0.8163\n",
            "Epoch 159/800\n",
            "6/6 [==============================] - 0s 4ms/step - loss: 0.4228 - accuracy: 0.8223\n",
            "Epoch 160/800\n",
            "6/6 [==============================] - 0s 4ms/step - loss: 0.4228 - accuracy: 0.8253\n",
            "Epoch 161/800\n",
            "6/6 [==============================] - 0s 4ms/step - loss: 0.4246 - accuracy: 0.8208\n",
            "Epoch 162/800\n",
            "6/6 [==============================] - 0s 4ms/step - loss: 0.4250 - accuracy: 0.8163\n",
            "Epoch 163/800\n",
            "6/6 [==============================] - 0s 5ms/step - loss: 0.4219 - accuracy: 0.8253\n",
            "Epoch 164/800\n",
            "6/6 [==============================] - 0s 5ms/step - loss: 0.4227 - accuracy: 0.8283\n",
            "Epoch 165/800\n",
            "6/6 [==============================] - 0s 4ms/step - loss: 0.4228 - accuracy: 0.8268\n",
            "Epoch 166/800\n",
            "6/6 [==============================] - 0s 4ms/step - loss: 0.4241 - accuracy: 0.8223\n",
            "Epoch 167/800\n",
            "6/6 [==============================] - 0s 4ms/step - loss: 0.4221 - accuracy: 0.8268\n",
            "Epoch 168/800\n",
            "6/6 [==============================] - 0s 4ms/step - loss: 0.4220 - accuracy: 0.8283\n",
            "Epoch 169/800\n",
            "6/6 [==============================] - 0s 4ms/step - loss: 0.4219 - accuracy: 0.8298\n",
            "Epoch 170/800\n",
            "6/6 [==============================] - 0s 4ms/step - loss: 0.4225 - accuracy: 0.8223\n",
            "Epoch 171/800\n",
            "6/6 [==============================] - 0s 4ms/step - loss: 0.4218 - accuracy: 0.8298\n",
            "Epoch 172/800\n",
            "6/6 [==============================] - 0s 4ms/step - loss: 0.4223 - accuracy: 0.8283\n",
            "Epoch 173/800\n",
            "6/6 [==============================] - 0s 4ms/step - loss: 0.4214 - accuracy: 0.8253\n",
            "Epoch 174/800\n",
            "6/6 [==============================] - 0s 4ms/step - loss: 0.4216 - accuracy: 0.8208\n",
            "Epoch 175/800\n",
            "6/6 [==============================] - 0s 5ms/step - loss: 0.4210 - accuracy: 0.8268\n",
            "Epoch 176/800\n",
            "6/6 [==============================] - 0s 5ms/step - loss: 0.4218 - accuracy: 0.8253\n",
            "Epoch 177/800\n",
            "6/6 [==============================] - 0s 4ms/step - loss: 0.4208 - accuracy: 0.8268\n",
            "Epoch 178/800\n",
            "6/6 [==============================] - 0s 4ms/step - loss: 0.4231 - accuracy: 0.8193\n",
            "Epoch 179/800\n",
            "6/6 [==============================] - 0s 4ms/step - loss: 0.4212 - accuracy: 0.8268\n",
            "Epoch 180/800\n",
            "6/6 [==============================] - 0s 5ms/step - loss: 0.4226 - accuracy: 0.8253\n",
            "Epoch 181/800\n",
            "6/6 [==============================] - 0s 4ms/step - loss: 0.4228 - accuracy: 0.8268\n",
            "Epoch 182/800\n",
            "6/6 [==============================] - 0s 3ms/step - loss: 0.4219 - accuracy: 0.8208\n",
            "Epoch 183/800\n",
            "6/6 [==============================] - 0s 4ms/step - loss: 0.4206 - accuracy: 0.8298\n",
            "Epoch 184/800\n",
            "6/6 [==============================] - 0s 4ms/step - loss: 0.4206 - accuracy: 0.8298\n",
            "Epoch 185/800\n",
            "6/6 [==============================] - 0s 5ms/step - loss: 0.4203 - accuracy: 0.8298\n",
            "Epoch 186/800\n",
            "6/6 [==============================] - 0s 4ms/step - loss: 0.4207 - accuracy: 0.8298\n",
            "Epoch 187/800\n",
            "6/6 [==============================] - 0s 4ms/step - loss: 0.4202 - accuracy: 0.8298\n",
            "Epoch 188/800\n",
            "6/6 [==============================] - 0s 4ms/step - loss: 0.4201 - accuracy: 0.8283\n",
            "Epoch 189/800\n",
            "6/6 [==============================] - 0s 4ms/step - loss: 0.4203 - accuracy: 0.8268\n",
            "Epoch 190/800\n",
            "6/6 [==============================] - 0s 4ms/step - loss: 0.4202 - accuracy: 0.8253\n",
            "Epoch 191/800\n",
            "6/6 [==============================] - 0s 4ms/step - loss: 0.4201 - accuracy: 0.8268\n",
            "Epoch 192/800\n",
            "6/6 [==============================] - 0s 4ms/step - loss: 0.4203 - accuracy: 0.8223\n",
            "Epoch 193/800\n",
            "6/6 [==============================] - 0s 4ms/step - loss: 0.4203 - accuracy: 0.8268\n",
            "Epoch 194/800\n",
            "6/6 [==============================] - 0s 4ms/step - loss: 0.4207 - accuracy: 0.8268\n",
            "Epoch 195/800\n",
            "6/6 [==============================] - 0s 4ms/step - loss: 0.4202 - accuracy: 0.8238\n",
            "Epoch 196/800\n",
            "6/6 [==============================] - 0s 4ms/step - loss: 0.4221 - accuracy: 0.8223\n",
            "Epoch 197/800\n",
            "6/6 [==============================] - 0s 4ms/step - loss: 0.4198 - accuracy: 0.8253\n",
            "Epoch 198/800\n",
            "6/6 [==============================] - 0s 5ms/step - loss: 0.4200 - accuracy: 0.8283\n",
            "Epoch 199/800\n",
            "6/6 [==============================] - 0s 5ms/step - loss: 0.4210 - accuracy: 0.8283\n",
            "Epoch 200/800\n",
            "6/6 [==============================] - 0s 4ms/step - loss: 0.4193 - accuracy: 0.8298\n",
            "Epoch 201/800\n",
            "6/6 [==============================] - 0s 4ms/step - loss: 0.4197 - accuracy: 0.8283\n",
            "Epoch 202/800\n",
            "6/6 [==============================] - 0s 4ms/step - loss: 0.4194 - accuracy: 0.8298\n",
            "Epoch 203/800\n",
            "6/6 [==============================] - 0s 6ms/step - loss: 0.4217 - accuracy: 0.8223\n",
            "Epoch 204/800\n",
            "6/6 [==============================] - 0s 6ms/step - loss: 0.4216 - accuracy: 0.8238\n",
            "Epoch 205/800\n",
            "6/6 [==============================] - 0s 7ms/step - loss: 0.4207 - accuracy: 0.8268\n",
            "Epoch 206/800\n",
            "6/6 [==============================] - 0s 6ms/step - loss: 0.4191 - accuracy: 0.8313\n",
            "Epoch 207/800\n",
            "6/6 [==============================] - 0s 6ms/step - loss: 0.4197 - accuracy: 0.8238\n",
            "Epoch 208/800\n",
            "6/6 [==============================] - 0s 6ms/step - loss: 0.4192 - accuracy: 0.8298\n",
            "Epoch 209/800\n",
            "6/6 [==============================] - 0s 7ms/step - loss: 0.4195 - accuracy: 0.8298\n",
            "Epoch 210/800\n",
            "6/6 [==============================] - 0s 5ms/step - loss: 0.4191 - accuracy: 0.8298\n",
            "Epoch 211/800\n",
            "6/6 [==============================] - 0s 6ms/step - loss: 0.4187 - accuracy: 0.8253\n",
            "Epoch 212/800\n",
            "6/6 [==============================] - 0s 5ms/step - loss: 0.4190 - accuracy: 0.8253\n",
            "Epoch 213/800\n",
            "6/6 [==============================] - 0s 5ms/step - loss: 0.4183 - accuracy: 0.8298\n",
            "Epoch 214/800\n",
            "6/6 [==============================] - 0s 6ms/step - loss: 0.4187 - accuracy: 0.8223\n",
            "Epoch 215/800\n",
            "6/6 [==============================] - 0s 6ms/step - loss: 0.4183 - accuracy: 0.8283\n",
            "Epoch 216/800\n",
            "6/6 [==============================] - 0s 5ms/step - loss: 0.4184 - accuracy: 0.8283\n",
            "Epoch 217/800\n",
            "6/6 [==============================] - 0s 6ms/step - loss: 0.4180 - accuracy: 0.8238\n",
            "Epoch 218/800\n",
            "6/6 [==============================] - 0s 7ms/step - loss: 0.4182 - accuracy: 0.8193\n",
            "Epoch 219/800\n",
            "6/6 [==============================] - 0s 5ms/step - loss: 0.4182 - accuracy: 0.8283\n",
            "Epoch 220/800\n",
            "6/6 [==============================] - 0s 5ms/step - loss: 0.4182 - accuracy: 0.8313\n",
            "Epoch 221/800\n",
            "6/6 [==============================] - 0s 4ms/step - loss: 0.4177 - accuracy: 0.8298\n",
            "Epoch 222/800\n",
            "6/6 [==============================] - 0s 9ms/step - loss: 0.4186 - accuracy: 0.8178\n",
            "Epoch 223/800\n",
            "6/6 [==============================] - 0s 6ms/step - loss: 0.4192 - accuracy: 0.8238\n",
            "Epoch 224/800\n",
            "6/6 [==============================] - 0s 6ms/step - loss: 0.4177 - accuracy: 0.8253\n",
            "Epoch 225/800\n",
            "6/6 [==============================] - 0s 5ms/step - loss: 0.4187 - accuracy: 0.8238\n",
            "Epoch 226/800\n",
            "6/6 [==============================] - 0s 7ms/step - loss: 0.4177 - accuracy: 0.8223\n",
            "Epoch 227/800\n",
            "6/6 [==============================] - 0s 6ms/step - loss: 0.4176 - accuracy: 0.8223\n",
            "Epoch 228/800\n",
            "6/6 [==============================] - 0s 5ms/step - loss: 0.4176 - accuracy: 0.8253\n",
            "Epoch 229/800\n",
            "6/6 [==============================] - 0s 5ms/step - loss: 0.4182 - accuracy: 0.8268\n",
            "Epoch 230/800\n",
            "6/6 [==============================] - 0s 5ms/step - loss: 0.4178 - accuracy: 0.8268\n",
            "Epoch 231/800\n",
            "6/6 [==============================] - 0s 6ms/step - loss: 0.4188 - accuracy: 0.8208\n",
            "Epoch 232/800\n",
            "6/6 [==============================] - 0s 6ms/step - loss: 0.4182 - accuracy: 0.8163\n",
            "Epoch 233/800\n",
            "6/6 [==============================] - 0s 5ms/step - loss: 0.4200 - accuracy: 0.8328\n",
            "Epoch 234/800\n",
            "6/6 [==============================] - 0s 4ms/step - loss: 0.4189 - accuracy: 0.8253\n",
            "Epoch 235/800\n",
            "6/6 [==============================] - 0s 4ms/step - loss: 0.4174 - accuracy: 0.8313\n",
            "Epoch 236/800\n",
            "6/6 [==============================] - 0s 5ms/step - loss: 0.4163 - accuracy: 0.8298\n",
            "Epoch 237/800\n",
            "6/6 [==============================] - 0s 5ms/step - loss: 0.4176 - accuracy: 0.8298\n",
            "Epoch 238/800\n",
            "6/6 [==============================] - 0s 5ms/step - loss: 0.4177 - accuracy: 0.8268\n",
            "Epoch 239/800\n",
            "6/6 [==============================] - 0s 5ms/step - loss: 0.4179 - accuracy: 0.8253\n",
            "Epoch 240/800\n",
            "6/6 [==============================] - 0s 7ms/step - loss: 0.4166 - accuracy: 0.8268\n",
            "Epoch 241/800\n",
            "6/6 [==============================] - 0s 6ms/step - loss: 0.4168 - accuracy: 0.8208\n",
            "Epoch 242/800\n",
            "6/6 [==============================] - 0s 6ms/step - loss: 0.4176 - accuracy: 0.8178\n",
            "Epoch 243/800\n",
            "6/6 [==============================] - 0s 6ms/step - loss: 0.4162 - accuracy: 0.8268\n",
            "Epoch 244/800\n",
            "6/6 [==============================] - 0s 7ms/step - loss: 0.4161 - accuracy: 0.8313\n",
            "Epoch 245/800\n",
            "6/6 [==============================] - 0s 5ms/step - loss: 0.4163 - accuracy: 0.8253\n",
            "Epoch 246/800\n",
            "6/6 [==============================] - 0s 6ms/step - loss: 0.4179 - accuracy: 0.8163\n",
            "Epoch 247/800\n",
            "6/6 [==============================] - 0s 6ms/step - loss: 0.4175 - accuracy: 0.8148\n",
            "Epoch 248/800\n",
            "6/6 [==============================] - 0s 5ms/step - loss: 0.4169 - accuracy: 0.8238\n",
            "Epoch 249/800\n",
            "6/6 [==============================] - 0s 5ms/step - loss: 0.4161 - accuracy: 0.8208\n",
            "Epoch 250/800\n",
            "6/6 [==============================] - 0s 4ms/step - loss: 0.4159 - accuracy: 0.8268\n",
            "Epoch 251/800\n",
            "6/6 [==============================] - 0s 5ms/step - loss: 0.4154 - accuracy: 0.8313\n",
            "Epoch 252/800\n",
            "6/6 [==============================] - 0s 5ms/step - loss: 0.4155 - accuracy: 0.8298\n",
            "Epoch 253/800\n",
            "6/6 [==============================] - 0s 7ms/step - loss: 0.4188 - accuracy: 0.8178\n",
            "Epoch 254/800\n",
            "6/6 [==============================] - 0s 4ms/step - loss: 0.4176 - accuracy: 0.8193\n",
            "Epoch 255/800\n",
            "6/6 [==============================] - 0s 7ms/step - loss: 0.4162 - accuracy: 0.8328\n",
            "Epoch 256/800\n",
            "6/6 [==============================] - 0s 5ms/step - loss: 0.4155 - accuracy: 0.8328\n",
            "Epoch 257/800\n",
            "6/6 [==============================] - 0s 5ms/step - loss: 0.4163 - accuracy: 0.8178\n",
            "Epoch 258/800\n",
            "6/6 [==============================] - 0s 5ms/step - loss: 0.4164 - accuracy: 0.8163\n",
            "Epoch 259/800\n",
            "6/6 [==============================] - 0s 6ms/step - loss: 0.4155 - accuracy: 0.8283\n",
            "Epoch 260/800\n",
            "6/6 [==============================] - 0s 5ms/step - loss: 0.4158 - accuracy: 0.8328\n",
            "Epoch 261/800\n",
            "6/6 [==============================] - 0s 4ms/step - loss: 0.4156 - accuracy: 0.8283\n",
            "Epoch 262/800\n",
            "6/6 [==============================] - 0s 5ms/step - loss: 0.4157 - accuracy: 0.8193\n",
            "Epoch 263/800\n",
            "6/6 [==============================] - 0s 4ms/step - loss: 0.4167 - accuracy: 0.8163\n",
            "Epoch 264/800\n",
            "6/6 [==============================] - 0s 6ms/step - loss: 0.4154 - accuracy: 0.8208\n",
            "Epoch 265/800\n",
            "6/6 [==============================] - 0s 5ms/step - loss: 0.4171 - accuracy: 0.8298\n",
            "Epoch 266/800\n",
            "6/6 [==============================] - 0s 5ms/step - loss: 0.4170 - accuracy: 0.8253\n",
            "Epoch 267/800\n",
            "6/6 [==============================] - 0s 6ms/step - loss: 0.4161 - accuracy: 0.8178\n",
            "Epoch 268/800\n",
            "6/6 [==============================] - 0s 5ms/step - loss: 0.4145 - accuracy: 0.8253\n",
            "Epoch 269/800\n",
            "6/6 [==============================] - 0s 5ms/step - loss: 0.4148 - accuracy: 0.8328\n",
            "Epoch 270/800\n",
            "6/6 [==============================] - 0s 5ms/step - loss: 0.4143 - accuracy: 0.8283\n",
            "Epoch 271/800\n",
            "6/6 [==============================] - 0s 5ms/step - loss: 0.4160 - accuracy: 0.8148\n",
            "Epoch 272/800\n",
            "6/6 [==============================] - 0s 5ms/step - loss: 0.4155 - accuracy: 0.8178\n",
            "Epoch 273/800\n",
            "6/6 [==============================] - 0s 4ms/step - loss: 0.4149 - accuracy: 0.8328\n",
            "Epoch 274/800\n",
            "6/6 [==============================] - 0s 4ms/step - loss: 0.4150 - accuracy: 0.8343\n",
            "Epoch 275/800\n",
            "6/6 [==============================] - 0s 8ms/step - loss: 0.4142 - accuracy: 0.8208\n",
            "Epoch 276/800\n",
            "6/6 [==============================] - 0s 5ms/step - loss: 0.4146 - accuracy: 0.8283\n",
            "Epoch 277/800\n",
            "6/6 [==============================] - 0s 4ms/step - loss: 0.4148 - accuracy: 0.8208\n",
            "Epoch 278/800\n",
            "6/6 [==============================] - 0s 5ms/step - loss: 0.4140 - accuracy: 0.8178\n",
            "Epoch 279/800\n",
            "6/6 [==============================] - 0s 4ms/step - loss: 0.4139 - accuracy: 0.8313\n",
            "Epoch 280/800\n",
            "6/6 [==============================] - 0s 5ms/step - loss: 0.4147 - accuracy: 0.8313\n",
            "Epoch 281/800\n",
            "6/6 [==============================] - 0s 4ms/step - loss: 0.4146 - accuracy: 0.8313\n",
            "Epoch 282/800\n",
            "6/6 [==============================] - 0s 4ms/step - loss: 0.4149 - accuracy: 0.8313\n",
            "Epoch 283/800\n",
            "6/6 [==============================] - 0s 6ms/step - loss: 0.4139 - accuracy: 0.8298\n",
            "Epoch 284/800\n",
            "6/6 [==============================] - 0s 7ms/step - loss: 0.4146 - accuracy: 0.8253\n",
            "Epoch 285/800\n",
            "6/6 [==============================] - 0s 5ms/step - loss: 0.4138 - accuracy: 0.8283\n",
            "Epoch 286/800\n",
            "6/6 [==============================] - 0s 5ms/step - loss: 0.4139 - accuracy: 0.8208\n",
            "Epoch 287/800\n",
            "6/6 [==============================] - 0s 5ms/step - loss: 0.4138 - accuracy: 0.8193\n",
            "Epoch 288/800\n",
            "6/6 [==============================] - 0s 5ms/step - loss: 0.4134 - accuracy: 0.8238\n",
            "Epoch 289/800\n",
            "6/6 [==============================] - 0s 5ms/step - loss: 0.4132 - accuracy: 0.8283\n",
            "Epoch 290/800\n",
            "6/6 [==============================] - 0s 5ms/step - loss: 0.4134 - accuracy: 0.8283\n",
            "Epoch 291/800\n",
            "6/6 [==============================] - 0s 5ms/step - loss: 0.4145 - accuracy: 0.8223\n",
            "Epoch 292/800\n",
            "6/6 [==============================] - 0s 4ms/step - loss: 0.4148 - accuracy: 0.8223\n",
            "Epoch 293/800\n",
            "6/6 [==============================] - 0s 6ms/step - loss: 0.4127 - accuracy: 0.8238\n",
            "Epoch 294/800\n",
            "6/6 [==============================] - 0s 5ms/step - loss: 0.4130 - accuracy: 0.8268\n",
            "Epoch 295/800\n",
            "6/6 [==============================] - 0s 5ms/step - loss: 0.4128 - accuracy: 0.8313\n",
            "Epoch 296/800\n",
            "6/6 [==============================] - 0s 6ms/step - loss: 0.4139 - accuracy: 0.8268\n",
            "Epoch 297/800\n",
            "6/6 [==============================] - 0s 5ms/step - loss: 0.4121 - accuracy: 0.8223\n",
            "Epoch 298/800\n",
            "6/6 [==============================] - 0s 6ms/step - loss: 0.4130 - accuracy: 0.8313\n",
            "Epoch 299/800\n",
            "6/6 [==============================] - 0s 7ms/step - loss: 0.4133 - accuracy: 0.8313\n",
            "Epoch 300/800\n",
            "6/6 [==============================] - 0s 6ms/step - loss: 0.4134 - accuracy: 0.8193\n",
            "Epoch 301/800\n",
            "6/6 [==============================] - 0s 5ms/step - loss: 0.4143 - accuracy: 0.8163\n",
            "Epoch 302/800\n",
            "6/6 [==============================] - 0s 5ms/step - loss: 0.4125 - accuracy: 0.8253\n",
            "Epoch 303/800\n",
            "6/6 [==============================] - 0s 5ms/step - loss: 0.4122 - accuracy: 0.8268\n",
            "Epoch 304/800\n",
            "6/6 [==============================] - 0s 4ms/step - loss: 0.4125 - accuracy: 0.8298\n",
            "Epoch 305/800\n",
            "6/6 [==============================] - 0s 7ms/step - loss: 0.4129 - accuracy: 0.8298\n",
            "Epoch 306/800\n",
            "6/6 [==============================] - 0s 5ms/step - loss: 0.4122 - accuracy: 0.8298\n",
            "Epoch 307/800\n",
            "6/6 [==============================] - 0s 6ms/step - loss: 0.4129 - accuracy: 0.8208\n",
            "Epoch 308/800\n",
            "6/6 [==============================] - 0s 5ms/step - loss: 0.4124 - accuracy: 0.8253\n",
            "Epoch 309/800\n",
            "6/6 [==============================] - 0s 5ms/step - loss: 0.4131 - accuracy: 0.8313\n",
            "Epoch 310/800\n",
            "6/6 [==============================] - 0s 5ms/step - loss: 0.4129 - accuracy: 0.8268\n",
            "Epoch 311/800\n",
            "6/6 [==============================] - 0s 4ms/step - loss: 0.4122 - accuracy: 0.8343\n",
            "Epoch 312/800\n",
            "6/6 [==============================] - 0s 5ms/step - loss: 0.4141 - accuracy: 0.8283\n",
            "Epoch 313/800\n",
            "6/6 [==============================] - 0s 5ms/step - loss: 0.4123 - accuracy: 0.8328\n",
            "Epoch 314/800\n",
            "6/6 [==============================] - 0s 4ms/step - loss: 0.4115 - accuracy: 0.8298\n",
            "Epoch 315/800\n",
            "6/6 [==============================] - 0s 4ms/step - loss: 0.4120 - accuracy: 0.8328\n",
            "Epoch 316/800\n",
            "6/6 [==============================] - 0s 5ms/step - loss: 0.4128 - accuracy: 0.8298\n",
            "Epoch 317/800\n",
            "6/6 [==============================] - 0s 4ms/step - loss: 0.4115 - accuracy: 0.8328\n",
            "Epoch 318/800\n",
            "6/6 [==============================] - 0s 4ms/step - loss: 0.4116 - accuracy: 0.8253\n",
            "Epoch 319/800\n",
            "6/6 [==============================] - 0s 5ms/step - loss: 0.4132 - accuracy: 0.8298\n",
            "Epoch 320/800\n",
            "6/6 [==============================] - 0s 5ms/step - loss: 0.4145 - accuracy: 0.8268\n",
            "Epoch 321/800\n",
            "6/6 [==============================] - 0s 6ms/step - loss: 0.4112 - accuracy: 0.8328\n",
            "Epoch 322/800\n",
            "6/6 [==============================] - 0s 5ms/step - loss: 0.4121 - accuracy: 0.8178\n",
            "Epoch 323/800\n",
            "6/6 [==============================] - 0s 5ms/step - loss: 0.4124 - accuracy: 0.8193\n",
            "Epoch 324/800\n",
            "6/6 [==============================] - 0s 5ms/step - loss: 0.4110 - accuracy: 0.8253\n",
            "Epoch 325/800\n",
            "6/6 [==============================] - 0s 6ms/step - loss: 0.4117 - accuracy: 0.8298\n",
            "Epoch 326/800\n",
            "6/6 [==============================] - 0s 5ms/step - loss: 0.4112 - accuracy: 0.8298\n",
            "Epoch 327/800\n",
            "6/6 [==============================] - 0s 5ms/step - loss: 0.4113 - accuracy: 0.8313\n",
            "Epoch 328/800\n",
            "6/6 [==============================] - 0s 5ms/step - loss: 0.4107 - accuracy: 0.8328\n",
            "Epoch 329/800\n",
            "6/6 [==============================] - 0s 5ms/step - loss: 0.4112 - accuracy: 0.8208\n",
            "Epoch 330/800\n",
            "6/6 [==============================] - 0s 5ms/step - loss: 0.4109 - accuracy: 0.8268\n",
            "Epoch 331/800\n",
            "6/6 [==============================] - 0s 5ms/step - loss: 0.4112 - accuracy: 0.8313\n",
            "Epoch 332/800\n",
            "6/6 [==============================] - 0s 5ms/step - loss: 0.4116 - accuracy: 0.8313\n",
            "Epoch 333/800\n",
            "6/6 [==============================] - 0s 6ms/step - loss: 0.4116 - accuracy: 0.8283\n",
            "Epoch 334/800\n",
            "6/6 [==============================] - 0s 5ms/step - loss: 0.4123 - accuracy: 0.8193\n",
            "Epoch 335/800\n",
            "6/6 [==============================] - 0s 7ms/step - loss: 0.4109 - accuracy: 0.8283\n",
            "Epoch 336/800\n",
            "6/6 [==============================] - 0s 5ms/step - loss: 0.4109 - accuracy: 0.8313\n",
            "Epoch 337/800\n",
            "6/6 [==============================] - 0s 6ms/step - loss: 0.4105 - accuracy: 0.8313\n",
            "Epoch 338/800\n",
            "6/6 [==============================] - 0s 5ms/step - loss: 0.4111 - accuracy: 0.8238\n",
            "Epoch 339/800\n",
            "6/6 [==============================] - 0s 5ms/step - loss: 0.4139 - accuracy: 0.8253\n",
            "Epoch 340/800\n",
            "6/6 [==============================] - 0s 5ms/step - loss: 0.4104 - accuracy: 0.8313\n",
            "Epoch 341/800\n",
            "6/6 [==============================] - 0s 5ms/step - loss: 0.4110 - accuracy: 0.8208\n",
            "Epoch 342/800\n",
            "6/6 [==============================] - 0s 5ms/step - loss: 0.4113 - accuracy: 0.8223\n",
            "Epoch 343/800\n",
            "6/6 [==============================] - 0s 5ms/step - loss: 0.4108 - accuracy: 0.8313\n",
            "Epoch 344/800\n",
            "6/6 [==============================] - 0s 5ms/step - loss: 0.4120 - accuracy: 0.8268\n",
            "Epoch 345/800\n",
            "6/6 [==============================] - 0s 5ms/step - loss: 0.4119 - accuracy: 0.8283\n",
            "Epoch 346/800\n",
            "6/6 [==============================] - 0s 5ms/step - loss: 0.4102 - accuracy: 0.8298\n",
            "Epoch 347/800\n",
            "6/6 [==============================] - 0s 6ms/step - loss: 0.4108 - accuracy: 0.8328\n",
            "Epoch 348/800\n",
            "6/6 [==============================] - 0s 5ms/step - loss: 0.4099 - accuracy: 0.8328\n",
            "Epoch 349/800\n",
            "6/6 [==============================] - 0s 5ms/step - loss: 0.4098 - accuracy: 0.8328\n",
            "Epoch 350/800\n",
            "6/6 [==============================] - 0s 5ms/step - loss: 0.4096 - accuracy: 0.8358\n",
            "Epoch 351/800\n",
            "6/6 [==============================] - 0s 5ms/step - loss: 0.4096 - accuracy: 0.8343\n",
            "Epoch 352/800\n",
            "6/6 [==============================] - 0s 5ms/step - loss: 0.4113 - accuracy: 0.8223\n",
            "Epoch 353/800\n",
            "6/6 [==============================] - 0s 5ms/step - loss: 0.4115 - accuracy: 0.8208\n",
            "Epoch 354/800\n",
            "6/6 [==============================] - 0s 4ms/step - loss: 0.4098 - accuracy: 0.8238\n",
            "Epoch 355/800\n",
            "6/6 [==============================] - 0s 4ms/step - loss: 0.4101 - accuracy: 0.8253\n",
            "Epoch 356/800\n",
            "6/6 [==============================] - 0s 4ms/step - loss: 0.4133 - accuracy: 0.8268\n",
            "Epoch 357/800\n",
            "6/6 [==============================] - 0s 5ms/step - loss: 0.4099 - accuracy: 0.8283\n",
            "Epoch 358/800\n",
            "6/6 [==============================] - 0s 5ms/step - loss: 0.4123 - accuracy: 0.8178\n",
            "Epoch 359/800\n",
            "6/6 [==============================] - 0s 5ms/step - loss: 0.4119 - accuracy: 0.8223\n",
            "Epoch 360/800\n",
            "6/6 [==============================] - 0s 5ms/step - loss: 0.4117 - accuracy: 0.8268\n",
            "Epoch 361/800\n",
            "6/6 [==============================] - 0s 5ms/step - loss: 0.4116 - accuracy: 0.8238\n",
            "Epoch 362/800\n",
            "6/6 [==============================] - 0s 4ms/step - loss: 0.4108 - accuracy: 0.8223\n",
            "Epoch 363/800\n",
            "6/6 [==============================] - 0s 5ms/step - loss: 0.4094 - accuracy: 0.8343\n",
            "Epoch 364/800\n",
            "6/6 [==============================] - 0s 5ms/step - loss: 0.4109 - accuracy: 0.8313\n",
            "Epoch 365/800\n",
            "6/6 [==============================] - 0s 4ms/step - loss: 0.4110 - accuracy: 0.8238\n",
            "Epoch 366/800\n",
            "6/6 [==============================] - 0s 4ms/step - loss: 0.4099 - accuracy: 0.8268\n",
            "Epoch 367/800\n",
            "6/6 [==============================] - 0s 4ms/step - loss: 0.4102 - accuracy: 0.8343\n",
            "Epoch 368/800\n",
            "6/6 [==============================] - 0s 4ms/step - loss: 0.4088 - accuracy: 0.8283\n",
            "Epoch 369/800\n",
            "6/6 [==============================] - 0s 5ms/step - loss: 0.4100 - accuracy: 0.8208\n",
            "Epoch 370/800\n",
            "6/6 [==============================] - 0s 4ms/step - loss: 0.4090 - accuracy: 0.8268\n",
            "Epoch 371/800\n",
            "6/6 [==============================] - 0s 4ms/step - loss: 0.4085 - accuracy: 0.8328\n",
            "Epoch 372/800\n",
            "6/6 [==============================] - 0s 5ms/step - loss: 0.4112 - accuracy: 0.8268\n",
            "Epoch 373/800\n",
            "6/6 [==============================] - 0s 4ms/step - loss: 0.4102 - accuracy: 0.8313\n",
            "Epoch 374/800\n",
            "6/6 [==============================] - 0s 5ms/step - loss: 0.4084 - accuracy: 0.8283\n",
            "Epoch 375/800\n",
            "6/6 [==============================] - 0s 4ms/step - loss: 0.4096 - accuracy: 0.8253\n",
            "Epoch 376/800\n",
            "6/6 [==============================] - 0s 4ms/step - loss: 0.4076 - accuracy: 0.8238\n",
            "Epoch 377/800\n",
            "6/6 [==============================] - 0s 4ms/step - loss: 0.4110 - accuracy: 0.8238\n",
            "Epoch 378/800\n",
            "6/6 [==============================] - 0s 4ms/step - loss: 0.4138 - accuracy: 0.8238\n",
            "Epoch 379/800\n",
            "6/6 [==============================] - 0s 5ms/step - loss: 0.4084 - accuracy: 0.8223\n",
            "Epoch 380/800\n",
            "6/6 [==============================] - 0s 5ms/step - loss: 0.4094 - accuracy: 0.8208\n",
            "Epoch 381/800\n",
            "6/6 [==============================] - 0s 5ms/step - loss: 0.4101 - accuracy: 0.8283\n",
            "Epoch 382/800\n",
            "6/6 [==============================] - 0s 4ms/step - loss: 0.4086 - accuracy: 0.8268\n",
            "Epoch 383/800\n",
            "6/6 [==============================] - 0s 4ms/step - loss: 0.4096 - accuracy: 0.8238\n",
            "Epoch 384/800\n",
            "6/6 [==============================] - 0s 5ms/step - loss: 0.4110 - accuracy: 0.8298\n",
            "Epoch 385/800\n",
            "6/6 [==============================] - 0s 5ms/step - loss: 0.4092 - accuracy: 0.8268\n",
            "Epoch 386/800\n",
            "6/6 [==============================] - 0s 4ms/step - loss: 0.4090 - accuracy: 0.8253\n",
            "Epoch 387/800\n",
            "6/6 [==============================] - 0s 5ms/step - loss: 0.4078 - accuracy: 0.8268\n",
            "Epoch 388/800\n",
            "6/6 [==============================] - 0s 4ms/step - loss: 0.4077 - accuracy: 0.8343\n",
            "Epoch 389/800\n",
            "6/6 [==============================] - 0s 4ms/step - loss: 0.4078 - accuracy: 0.8313\n",
            "Epoch 390/800\n",
            "6/6 [==============================] - 0s 5ms/step - loss: 0.4083 - accuracy: 0.8343\n",
            "Epoch 391/800\n",
            "6/6 [==============================] - 0s 5ms/step - loss: 0.4077 - accuracy: 0.8313\n",
            "Epoch 392/800\n",
            "6/6 [==============================] - 0s 5ms/step - loss: 0.4074 - accuracy: 0.8358\n",
            "Epoch 393/800\n",
            "6/6 [==============================] - 0s 6ms/step - loss: 0.4075 - accuracy: 0.8313\n",
            "Epoch 394/800\n",
            "6/6 [==============================] - 0s 5ms/step - loss: 0.4075 - accuracy: 0.8253\n",
            "Epoch 395/800\n",
            "6/6 [==============================] - 0s 5ms/step - loss: 0.4074 - accuracy: 0.8238\n",
            "Epoch 396/800\n",
            "6/6 [==============================] - 0s 5ms/step - loss: 0.4076 - accuracy: 0.8268\n",
            "Epoch 397/800\n",
            "6/6 [==============================] - 0s 5ms/step - loss: 0.4087 - accuracy: 0.8253\n",
            "Epoch 398/800\n",
            "6/6 [==============================] - 0s 5ms/step - loss: 0.4085 - accuracy: 0.8283\n",
            "Epoch 399/800\n",
            "6/6 [==============================] - 0s 5ms/step - loss: 0.4074 - accuracy: 0.8253\n",
            "Epoch 400/800\n",
            "6/6 [==============================] - 0s 5ms/step - loss: 0.4068 - accuracy: 0.8313\n",
            "Epoch 401/800\n",
            "6/6 [==============================] - 0s 4ms/step - loss: 0.4076 - accuracy: 0.8328\n",
            "Epoch 402/800\n",
            "6/6 [==============================] - 0s 5ms/step - loss: 0.4070 - accuracy: 0.8298\n",
            "Epoch 403/800\n",
            "6/6 [==============================] - 0s 6ms/step - loss: 0.4069 - accuracy: 0.8283\n",
            "Epoch 404/800\n",
            "6/6 [==============================] - 0s 5ms/step - loss: 0.4073 - accuracy: 0.8313\n",
            "Epoch 405/800\n",
            "6/6 [==============================] - 0s 5ms/step - loss: 0.4078 - accuracy: 0.8298\n",
            "Epoch 406/800\n",
            "6/6 [==============================] - 0s 4ms/step - loss: 0.4065 - accuracy: 0.8268\n",
            "Epoch 407/800\n",
            "6/6 [==============================] - 0s 5ms/step - loss: 0.4062 - accuracy: 0.8253\n",
            "Epoch 408/800\n",
            "6/6 [==============================] - 0s 5ms/step - loss: 0.4070 - accuracy: 0.8253\n",
            "Epoch 409/800\n",
            "6/6 [==============================] - 0s 4ms/step - loss: 0.4134 - accuracy: 0.8223\n",
            "Epoch 410/800\n",
            "6/6 [==============================] - 0s 5ms/step - loss: 0.4115 - accuracy: 0.8313\n",
            "Epoch 411/800\n",
            "6/6 [==============================] - 0s 6ms/step - loss: 0.4071 - accuracy: 0.8238\n",
            "Epoch 412/800\n",
            "6/6 [==============================] - 0s 5ms/step - loss: 0.4080 - accuracy: 0.8238\n",
            "Epoch 413/800\n",
            "6/6 [==============================] - 0s 5ms/step - loss: 0.4069 - accuracy: 0.8268\n",
            "Epoch 414/800\n",
            "6/6 [==============================] - 0s 4ms/step - loss: 0.4070 - accuracy: 0.8223\n",
            "Epoch 415/800\n",
            "6/6 [==============================] - 0s 5ms/step - loss: 0.4073 - accuracy: 0.8238\n",
            "Epoch 416/800\n",
            "6/6 [==============================] - 0s 5ms/step - loss: 0.4066 - accuracy: 0.8238\n",
            "Epoch 417/800\n",
            "6/6 [==============================] - 0s 5ms/step - loss: 0.4070 - accuracy: 0.8253\n",
            "Epoch 418/800\n",
            "6/6 [==============================] - 0s 5ms/step - loss: 0.4057 - accuracy: 0.8298\n",
            "Epoch 419/800\n",
            "6/6 [==============================] - 0s 5ms/step - loss: 0.4075 - accuracy: 0.8238\n",
            "Epoch 420/800\n",
            "6/6 [==============================] - 0s 5ms/step - loss: 0.4079 - accuracy: 0.8193\n",
            "Epoch 421/800\n",
            "6/6 [==============================] - 0s 5ms/step - loss: 0.4056 - accuracy: 0.8253\n",
            "Epoch 422/800\n",
            "6/6 [==============================] - 0s 6ms/step - loss: 0.4079 - accuracy: 0.8283\n",
            "Epoch 423/800\n",
            "6/6 [==============================] - 0s 5ms/step - loss: 0.4074 - accuracy: 0.8283\n",
            "Epoch 424/800\n",
            "6/6 [==============================] - 0s 5ms/step - loss: 0.4059 - accuracy: 0.8283\n",
            "Epoch 425/800\n",
            "6/6 [==============================] - 0s 5ms/step - loss: 0.4061 - accuracy: 0.8298\n",
            "Epoch 426/800\n",
            "6/6 [==============================] - 0s 5ms/step - loss: 0.4059 - accuracy: 0.8283\n",
            "Epoch 427/800\n",
            "6/6 [==============================] - 0s 5ms/step - loss: 0.4055 - accuracy: 0.8268\n",
            "Epoch 428/800\n",
            "6/6 [==============================] - 0s 4ms/step - loss: 0.4057 - accuracy: 0.8253\n",
            "Epoch 429/800\n",
            "6/6 [==============================] - 0s 5ms/step - loss: 0.4066 - accuracy: 0.8223\n",
            "Epoch 430/800\n",
            "6/6 [==============================] - 0s 5ms/step - loss: 0.4065 - accuracy: 0.8238\n",
            "Epoch 431/800\n",
            "6/6 [==============================] - 0s 5ms/step - loss: 0.4061 - accuracy: 0.8283\n",
            "Epoch 432/800\n",
            "6/6 [==============================] - 0s 5ms/step - loss: 0.4063 - accuracy: 0.8298\n",
            "Epoch 433/800\n",
            "6/6 [==============================] - 0s 6ms/step - loss: 0.4050 - accuracy: 0.8253\n",
            "Epoch 434/800\n",
            "6/6 [==============================] - 0s 5ms/step - loss: 0.4083 - accuracy: 0.8208\n",
            "Epoch 435/800\n",
            "6/6 [==============================] - 0s 5ms/step - loss: 0.4068 - accuracy: 0.8253\n",
            "Epoch 436/800\n",
            "6/6 [==============================] - 0s 5ms/step - loss: 0.4062 - accuracy: 0.8313\n",
            "Epoch 437/800\n",
            "6/6 [==============================] - 0s 5ms/step - loss: 0.4064 - accuracy: 0.8283\n",
            "Epoch 438/800\n",
            "6/6 [==============================] - 0s 5ms/step - loss: 0.4058 - accuracy: 0.8268\n",
            "Epoch 439/800\n",
            "6/6 [==============================] - 0s 5ms/step - loss: 0.4063 - accuracy: 0.8253\n",
            "Epoch 440/800\n",
            "6/6 [==============================] - 0s 5ms/step - loss: 0.4059 - accuracy: 0.8223\n",
            "Epoch 441/800\n",
            "6/6 [==============================] - 0s 4ms/step - loss: 0.4061 - accuracy: 0.8178\n",
            "Epoch 442/800\n",
            "6/6 [==============================] - 0s 5ms/step - loss: 0.4053 - accuracy: 0.8238\n",
            "Epoch 443/800\n",
            "6/6 [==============================] - 0s 5ms/step - loss: 0.4055 - accuracy: 0.8223\n",
            "Epoch 444/800\n",
            "6/6 [==============================] - 0s 5ms/step - loss: 0.4051 - accuracy: 0.8253\n",
            "Epoch 445/800\n",
            "6/6 [==============================] - 0s 4ms/step - loss: 0.4054 - accuracy: 0.8283\n",
            "Epoch 446/800\n",
            "6/6 [==============================] - 0s 5ms/step - loss: 0.4049 - accuracy: 0.8268\n",
            "Epoch 447/800\n",
            "6/6 [==============================] - 0s 5ms/step - loss: 0.4049 - accuracy: 0.8298\n",
            "Epoch 448/800\n",
            "6/6 [==============================] - 0s 5ms/step - loss: 0.4050 - accuracy: 0.8268\n",
            "Epoch 449/800\n",
            "6/6 [==============================] - 0s 5ms/step - loss: 0.4052 - accuracy: 0.8268\n",
            "Epoch 450/800\n",
            "6/6 [==============================] - 0s 5ms/step - loss: 0.4053 - accuracy: 0.8223\n",
            "Epoch 451/800\n",
            "6/6 [==============================] - 0s 4ms/step - loss: 0.4051 - accuracy: 0.8238\n",
            "Epoch 452/800\n",
            "6/6 [==============================] - 0s 4ms/step - loss: 0.4060 - accuracy: 0.8223\n",
            "Epoch 453/800\n",
            "6/6 [==============================] - 0s 4ms/step - loss: 0.4049 - accuracy: 0.8253\n",
            "Epoch 454/800\n",
            "6/6 [==============================] - 0s 7ms/step - loss: 0.4046 - accuracy: 0.8253\n",
            "Epoch 455/800\n",
            "6/6 [==============================] - 0s 5ms/step - loss: 0.4056 - accuracy: 0.8313\n",
            "Epoch 456/800\n",
            "6/6 [==============================] - 0s 4ms/step - loss: 0.4056 - accuracy: 0.8238\n",
            "Epoch 457/800\n",
            "6/6 [==============================] - 0s 4ms/step - loss: 0.4057 - accuracy: 0.8253\n",
            "Epoch 458/800\n",
            "6/6 [==============================] - 0s 5ms/step - loss: 0.4056 - accuracy: 0.8208\n",
            "Epoch 459/800\n",
            "6/6 [==============================] - 0s 4ms/step - loss: 0.4052 - accuracy: 0.8268\n",
            "Epoch 460/800\n",
            "6/6 [==============================] - 0s 4ms/step - loss: 0.4075 - accuracy: 0.8313\n",
            "Epoch 461/800\n",
            "6/6 [==============================] - 0s 4ms/step - loss: 0.4054 - accuracy: 0.8268\n",
            "Epoch 462/800\n",
            "6/6 [==============================] - 0s 4ms/step - loss: 0.4096 - accuracy: 0.8223\n",
            "Epoch 463/800\n",
            "6/6 [==============================] - 0s 4ms/step - loss: 0.4044 - accuracy: 0.8268\n",
            "Epoch 464/800\n",
            "6/6 [==============================] - 0s 5ms/step - loss: 0.4067 - accuracy: 0.8283\n",
            "Epoch 465/800\n",
            "6/6 [==============================] - 0s 4ms/step - loss: 0.4064 - accuracy: 0.8253\n",
            "Epoch 466/800\n",
            "6/6 [==============================] - 0s 5ms/step - loss: 0.4066 - accuracy: 0.8208\n",
            "Epoch 467/800\n",
            "6/6 [==============================] - 0s 5ms/step - loss: 0.4073 - accuracy: 0.8193\n",
            "Epoch 468/800\n",
            "6/6 [==============================] - 0s 4ms/step - loss: 0.4068 - accuracy: 0.8253\n",
            "Epoch 469/800\n",
            "6/6 [==============================] - 0s 4ms/step - loss: 0.4051 - accuracy: 0.8253\n",
            "Epoch 470/800\n",
            "6/6 [==============================] - 0s 6ms/step - loss: 0.4042 - accuracy: 0.8253\n",
            "Epoch 471/800\n",
            "6/6 [==============================] - 0s 5ms/step - loss: 0.4047 - accuracy: 0.8283\n",
            "Epoch 472/800\n",
            "6/6 [==============================] - 0s 6ms/step - loss: 0.4047 - accuracy: 0.8253\n",
            "Epoch 473/800\n",
            "6/6 [==============================] - 0s 5ms/step - loss: 0.4058 - accuracy: 0.8238\n",
            "Epoch 474/800\n",
            "6/6 [==============================] - 0s 5ms/step - loss: 0.4038 - accuracy: 0.8223\n",
            "Epoch 475/800\n",
            "6/6 [==============================] - 0s 4ms/step - loss: 0.4052 - accuracy: 0.8268\n",
            "Epoch 476/800\n",
            "6/6 [==============================] - 0s 4ms/step - loss: 0.4037 - accuracy: 0.8268\n",
            "Epoch 477/800\n",
            "6/6 [==============================] - 0s 4ms/step - loss: 0.4048 - accuracy: 0.8253\n",
            "Epoch 478/800\n",
            "6/6 [==============================] - 0s 4ms/step - loss: 0.4062 - accuracy: 0.8238\n",
            "Epoch 479/800\n",
            "6/6 [==============================] - 0s 5ms/step - loss: 0.4055 - accuracy: 0.8268\n",
            "Epoch 480/800\n",
            "6/6 [==============================] - 0s 5ms/step - loss: 0.4043 - accuracy: 0.8268\n",
            "Epoch 481/800\n",
            "6/6 [==============================] - 0s 5ms/step - loss: 0.4048 - accuracy: 0.8253\n",
            "Epoch 482/800\n",
            "6/6 [==============================] - 0s 7ms/step - loss: 0.4051 - accuracy: 0.8298\n",
            "Epoch 483/800\n",
            "6/6 [==============================] - 0s 5ms/step - loss: 0.4037 - accuracy: 0.8268\n",
            "Epoch 484/800\n",
            "6/6 [==============================] - 0s 6ms/step - loss: 0.4085 - accuracy: 0.8253\n",
            "Epoch 485/800\n",
            "6/6 [==============================] - 0s 5ms/step - loss: 0.4038 - accuracy: 0.8298\n",
            "Epoch 486/800\n",
            "6/6 [==============================] - 0s 5ms/step - loss: 0.4088 - accuracy: 0.8253\n",
            "Epoch 487/800\n",
            "6/6 [==============================] - 0s 5ms/step - loss: 0.4035 - accuracy: 0.8268\n",
            "Epoch 488/800\n",
            "6/6 [==============================] - 0s 5ms/step - loss: 0.4048 - accuracy: 0.8238\n",
            "Epoch 489/800\n",
            "6/6 [==============================] - 0s 5ms/step - loss: 0.4034 - accuracy: 0.8253\n",
            "Epoch 490/800\n",
            "6/6 [==============================] - 0s 5ms/step - loss: 0.4060 - accuracy: 0.8253\n",
            "Epoch 491/800\n",
            "6/6 [==============================] - 0s 5ms/step - loss: 0.4062 - accuracy: 0.8253\n",
            "Epoch 492/800\n",
            "6/6 [==============================] - 0s 5ms/step - loss: 0.4035 - accuracy: 0.8313\n",
            "Epoch 493/800\n",
            "6/6 [==============================] - 0s 4ms/step - loss: 0.4033 - accuracy: 0.8298\n",
            "Epoch 494/800\n",
            "6/6 [==============================] - 0s 6ms/step - loss: 0.4037 - accuracy: 0.8268\n",
            "Epoch 495/800\n",
            "6/6 [==============================] - 0s 4ms/step - loss: 0.4038 - accuracy: 0.8253\n",
            "Epoch 496/800\n",
            "6/6 [==============================] - 0s 4ms/step - loss: 0.4032 - accuracy: 0.8253\n",
            "Epoch 497/800\n",
            "6/6 [==============================] - 0s 4ms/step - loss: 0.4032 - accuracy: 0.8268\n",
            "Epoch 498/800\n",
            "6/6 [==============================] - 0s 4ms/step - loss: 0.4036 - accuracy: 0.8313\n",
            "Epoch 499/800\n",
            "6/6 [==============================] - 0s 4ms/step - loss: 0.4032 - accuracy: 0.8268\n",
            "Epoch 500/800\n",
            "6/6 [==============================] - 0s 5ms/step - loss: 0.4032 - accuracy: 0.8238\n",
            "Epoch 501/800\n",
            "6/6 [==============================] - 0s 5ms/step - loss: 0.4040 - accuracy: 0.8253\n",
            "Epoch 502/800\n",
            "6/6 [==============================] - 0s 6ms/step - loss: 0.4037 - accuracy: 0.8283\n",
            "Epoch 503/800\n",
            "6/6 [==============================] - 0s 5ms/step - loss: 0.4030 - accuracy: 0.8283\n",
            "Epoch 504/800\n",
            "6/6 [==============================] - 0s 5ms/step - loss: 0.4025 - accuracy: 0.8283\n",
            "Epoch 505/800\n",
            "6/6 [==============================] - 0s 5ms/step - loss: 0.4055 - accuracy: 0.8223\n",
            "Epoch 506/800\n",
            "6/6 [==============================] - 0s 4ms/step - loss: 0.4032 - accuracy: 0.8238\n",
            "Epoch 507/800\n",
            "6/6 [==============================] - 0s 5ms/step - loss: 0.4058 - accuracy: 0.8268\n",
            "Epoch 508/800\n",
            "6/6 [==============================] - 0s 5ms/step - loss: 0.4028 - accuracy: 0.8298\n",
            "Epoch 509/800\n",
            "6/6 [==============================] - 0s 4ms/step - loss: 0.4083 - accuracy: 0.8178\n",
            "Epoch 510/800\n",
            "6/6 [==============================] - 0s 5ms/step - loss: 0.4060 - accuracy: 0.8208\n",
            "Epoch 511/800\n",
            "6/6 [==============================] - 0s 5ms/step - loss: 0.4046 - accuracy: 0.8208\n",
            "Epoch 512/800\n",
            "6/6 [==============================] - 0s 4ms/step - loss: 0.4042 - accuracy: 0.8283\n",
            "Epoch 513/800\n",
            "6/6 [==============================] - 0s 6ms/step - loss: 0.4021 - accuracy: 0.8268\n",
            "Epoch 514/800\n",
            "6/6 [==============================] - 0s 6ms/step - loss: 0.4056 - accuracy: 0.8223\n",
            "Epoch 515/800\n",
            "6/6 [==============================] - 0s 5ms/step - loss: 0.4027 - accuracy: 0.8283\n",
            "Epoch 516/800\n",
            "6/6 [==============================] - 0s 5ms/step - loss: 0.4034 - accuracy: 0.8283\n",
            "Epoch 517/800\n",
            "6/6 [==============================] - 0s 4ms/step - loss: 0.4034 - accuracy: 0.8268\n",
            "Epoch 518/800\n",
            "6/6 [==============================] - 0s 4ms/step - loss: 0.4029 - accuracy: 0.8283\n",
            "Epoch 519/800\n",
            "6/6 [==============================] - 0s 4ms/step - loss: 0.4049 - accuracy: 0.8208\n",
            "Epoch 520/800\n",
            "6/6 [==============================] - 0s 4ms/step - loss: 0.4031 - accuracy: 0.8283\n",
            "Epoch 521/800\n",
            "6/6 [==============================] - 0s 4ms/step - loss: 0.4023 - accuracy: 0.8298\n",
            "Epoch 522/800\n",
            "6/6 [==============================] - 0s 4ms/step - loss: 0.4034 - accuracy: 0.8268\n",
            "Epoch 523/800\n",
            "6/6 [==============================] - 0s 4ms/step - loss: 0.4026 - accuracy: 0.8238\n",
            "Epoch 524/800\n",
            "6/6 [==============================] - 0s 5ms/step - loss: 0.4021 - accuracy: 0.8283\n",
            "Epoch 525/800\n",
            "6/6 [==============================] - 0s 5ms/step - loss: 0.4042 - accuracy: 0.8268\n",
            "Epoch 526/800\n",
            "6/6 [==============================] - 0s 5ms/step - loss: 0.4018 - accuracy: 0.8253\n",
            "Epoch 527/800\n",
            "6/6 [==============================] - 0s 4ms/step - loss: 0.4033 - accuracy: 0.8253\n",
            "Epoch 528/800\n",
            "6/6 [==============================] - 0s 4ms/step - loss: 0.4019 - accuracy: 0.8253\n",
            "Epoch 529/800\n",
            "6/6 [==============================] - 0s 5ms/step - loss: 0.4026 - accuracy: 0.8298\n",
            "Epoch 530/800\n",
            "6/6 [==============================] - 0s 5ms/step - loss: 0.4020 - accuracy: 0.8283\n",
            "Epoch 531/800\n",
            "6/6 [==============================] - 0s 5ms/step - loss: 0.4018 - accuracy: 0.8283\n",
            "Epoch 532/800\n",
            "6/6 [==============================] - 0s 5ms/step - loss: 0.4025 - accuracy: 0.8283\n",
            "Epoch 533/800\n",
            "6/6 [==============================] - 0s 6ms/step - loss: 0.4019 - accuracy: 0.8283\n",
            "Epoch 534/800\n",
            "6/6 [==============================] - 0s 6ms/step - loss: 0.4017 - accuracy: 0.8268\n",
            "Epoch 535/800\n",
            "6/6 [==============================] - 0s 5ms/step - loss: 0.4018 - accuracy: 0.8268\n",
            "Epoch 536/800\n",
            "6/6 [==============================] - 0s 5ms/step - loss: 0.4019 - accuracy: 0.8283\n",
            "Epoch 537/800\n",
            "6/6 [==============================] - 0s 5ms/step - loss: 0.4030 - accuracy: 0.8253\n",
            "Epoch 538/800\n",
            "6/6 [==============================] - 0s 4ms/step - loss: 0.4032 - accuracy: 0.8253\n",
            "Epoch 539/800\n",
            "6/6 [==============================] - 0s 6ms/step - loss: 0.4033 - accuracy: 0.8268\n",
            "Epoch 540/800\n",
            "6/6 [==============================] - 0s 5ms/step - loss: 0.4026 - accuracy: 0.8268\n",
            "Epoch 541/800\n",
            "6/6 [==============================] - 0s 5ms/step - loss: 0.4019 - accuracy: 0.8283\n",
            "Epoch 542/800\n",
            "6/6 [==============================] - 0s 5ms/step - loss: 0.4017 - accuracy: 0.8268\n",
            "Epoch 543/800\n",
            "6/6 [==============================] - 0s 5ms/step - loss: 0.4016 - accuracy: 0.8268\n",
            "Epoch 544/800\n",
            "6/6 [==============================] - 0s 5ms/step - loss: 0.4021 - accuracy: 0.8283\n",
            "Epoch 545/800\n",
            "6/6 [==============================] - 0s 6ms/step - loss: 0.4017 - accuracy: 0.8253\n",
            "Epoch 546/800\n",
            "6/6 [==============================] - 0s 5ms/step - loss: 0.4028 - accuracy: 0.8268\n",
            "Epoch 547/800\n",
            "6/6 [==============================] - 0s 5ms/step - loss: 0.4021 - accuracy: 0.8298\n",
            "Epoch 548/800\n",
            "6/6 [==============================] - 0s 5ms/step - loss: 0.4011 - accuracy: 0.8238\n",
            "Epoch 549/800\n",
            "6/6 [==============================] - 0s 5ms/step - loss: 0.4027 - accuracy: 0.8238\n",
            "Epoch 550/800\n",
            "6/6 [==============================] - 0s 5ms/step - loss: 0.4010 - accuracy: 0.8283\n",
            "Epoch 551/800\n",
            "6/6 [==============================] - 0s 4ms/step - loss: 0.4021 - accuracy: 0.8238\n",
            "Epoch 552/800\n",
            "6/6 [==============================] - 0s 4ms/step - loss: 0.4037 - accuracy: 0.8253\n",
            "Epoch 553/800\n",
            "6/6 [==============================] - 0s 6ms/step - loss: 0.4002 - accuracy: 0.8268\n",
            "Epoch 554/800\n",
            "6/6 [==============================] - 0s 4ms/step - loss: 0.4028 - accuracy: 0.8238\n",
            "Epoch 555/800\n",
            "6/6 [==============================] - 0s 4ms/step - loss: 0.4031 - accuracy: 0.8253\n",
            "Epoch 556/800\n",
            "6/6 [==============================] - 0s 4ms/step - loss: 0.4014 - accuracy: 0.8223\n",
            "Epoch 557/800\n",
            "6/6 [==============================] - 0s 5ms/step - loss: 0.4011 - accuracy: 0.8253\n",
            "Epoch 558/800\n",
            "6/6 [==============================] - 0s 6ms/step - loss: 0.4013 - accuracy: 0.8253\n",
            "Epoch 559/800\n",
            "6/6 [==============================] - 0s 6ms/step - loss: 0.4011 - accuracy: 0.8298\n",
            "Epoch 560/800\n",
            "6/6 [==============================] - 0s 5ms/step - loss: 0.4016 - accuracy: 0.8298\n",
            "Epoch 561/800\n",
            "6/6 [==============================] - 0s 5ms/step - loss: 0.4015 - accuracy: 0.8313\n",
            "Epoch 562/800\n",
            "6/6 [==============================] - 0s 5ms/step - loss: 0.4023 - accuracy: 0.8298\n",
            "Epoch 563/800\n",
            "6/6 [==============================] - 0s 5ms/step - loss: 0.4021 - accuracy: 0.8238\n",
            "Epoch 564/800\n",
            "6/6 [==============================] - 0s 4ms/step - loss: 0.4023 - accuracy: 0.8313\n",
            "Epoch 565/800\n",
            "6/6 [==============================] - 0s 4ms/step - loss: 0.4019 - accuracy: 0.8268\n",
            "Epoch 566/800\n",
            "6/6 [==============================] - 0s 5ms/step - loss: 0.4012 - accuracy: 0.8253\n",
            "Epoch 567/800\n",
            "6/6 [==============================] - 0s 4ms/step - loss: 0.4016 - accuracy: 0.8283\n",
            "Epoch 568/800\n",
            "6/6 [==============================] - 0s 5ms/step - loss: 0.4017 - accuracy: 0.8283\n",
            "Epoch 569/800\n",
            "6/6 [==============================] - 0s 4ms/step - loss: 0.4010 - accuracy: 0.8253\n",
            "Epoch 570/800\n",
            "6/6 [==============================] - 0s 5ms/step - loss: 0.4010 - accuracy: 0.8283\n",
            "Epoch 571/800\n",
            "6/6 [==============================] - 0s 4ms/step - loss: 0.4019 - accuracy: 0.8253\n",
            "Epoch 572/800\n",
            "6/6 [==============================] - 0s 4ms/step - loss: 0.4011 - accuracy: 0.8253\n",
            "Epoch 573/800\n",
            "6/6 [==============================] - 0s 5ms/step - loss: 0.4008 - accuracy: 0.8283\n",
            "Epoch 574/800\n",
            "6/6 [==============================] - 0s 6ms/step - loss: 0.4013 - accuracy: 0.8283\n",
            "Epoch 575/800\n",
            "6/6 [==============================] - 0s 5ms/step - loss: 0.4011 - accuracy: 0.8283\n",
            "Epoch 576/800\n",
            "6/6 [==============================] - 0s 5ms/step - loss: 0.4034 - accuracy: 0.8238\n",
            "Epoch 577/800\n",
            "6/6 [==============================] - 0s 5ms/step - loss: 0.4024 - accuracy: 0.8238\n",
            "Epoch 578/800\n",
            "6/6 [==============================] - 0s 4ms/step - loss: 0.4029 - accuracy: 0.8238\n",
            "Epoch 579/800\n",
            "6/6 [==============================] - 0s 5ms/step - loss: 0.4037 - accuracy: 0.8238\n",
            "Epoch 580/800\n",
            "6/6 [==============================] - 0s 4ms/step - loss: 0.4013 - accuracy: 0.8223\n",
            "Epoch 581/800\n",
            "6/6 [==============================] - 0s 4ms/step - loss: 0.4003 - accuracy: 0.8298\n",
            "Epoch 582/800\n",
            "6/6 [==============================] - 0s 4ms/step - loss: 0.4009 - accuracy: 0.8298\n",
            "Epoch 583/800\n",
            "6/6 [==============================] - 0s 5ms/step - loss: 0.4014 - accuracy: 0.8268\n",
            "Epoch 584/800\n",
            "6/6 [==============================] - 0s 5ms/step - loss: 0.4026 - accuracy: 0.8253\n",
            "Epoch 585/800\n",
            "6/6 [==============================] - 0s 5ms/step - loss: 0.4002 - accuracy: 0.8268\n",
            "Epoch 586/800\n",
            "6/6 [==============================] - 0s 6ms/step - loss: 0.4007 - accuracy: 0.8283\n",
            "Epoch 587/800\n",
            "6/6 [==============================] - 0s 4ms/step - loss: 0.4009 - accuracy: 0.8283\n",
            "Epoch 588/800\n",
            "6/6 [==============================] - 0s 6ms/step - loss: 0.4016 - accuracy: 0.8253\n",
            "Epoch 589/800\n",
            "6/6 [==============================] - 0s 5ms/step - loss: 0.4001 - accuracy: 0.8268\n",
            "Epoch 590/800\n",
            "6/6 [==============================] - 0s 4ms/step - loss: 0.4002 - accuracy: 0.8283\n",
            "Epoch 591/800\n",
            "6/6 [==============================] - 0s 4ms/step - loss: 0.3999 - accuracy: 0.8313\n",
            "Epoch 592/800\n",
            "6/6 [==============================] - 0s 5ms/step - loss: 0.4002 - accuracy: 0.8268\n",
            "Epoch 593/800\n",
            "6/6 [==============================] - 0s 5ms/step - loss: 0.4003 - accuracy: 0.8238\n",
            "Epoch 594/800\n",
            "6/6 [==============================] - 0s 5ms/step - loss: 0.4016 - accuracy: 0.8253\n",
            "Epoch 595/800\n",
            "6/6 [==============================] - 0s 6ms/step - loss: 0.4017 - accuracy: 0.8283\n",
            "Epoch 596/800\n",
            "6/6 [==============================] - 0s 5ms/step - loss: 0.4002 - accuracy: 0.8268\n",
            "Epoch 597/800\n",
            "6/6 [==============================] - 0s 5ms/step - loss: 0.4008 - accuracy: 0.8268\n",
            "Epoch 598/800\n",
            "6/6 [==============================] - 0s 4ms/step - loss: 0.4013 - accuracy: 0.8268\n",
            "Epoch 599/800\n",
            "6/6 [==============================] - 0s 4ms/step - loss: 0.3998 - accuracy: 0.8253\n",
            "Epoch 600/800\n",
            "6/6 [==============================] - 0s 5ms/step - loss: 0.3990 - accuracy: 0.8283\n",
            "Epoch 601/800\n",
            "6/6 [==============================] - 0s 4ms/step - loss: 0.3993 - accuracy: 0.8298\n",
            "Epoch 602/800\n",
            "6/6 [==============================] - 0s 4ms/step - loss: 0.3991 - accuracy: 0.8298\n",
            "Epoch 603/800\n",
            "6/6 [==============================] - 0s 5ms/step - loss: 0.4000 - accuracy: 0.8298\n",
            "Epoch 604/800\n",
            "6/6 [==============================] - 0s 4ms/step - loss: 0.4019 - accuracy: 0.8268\n",
            "Epoch 605/800\n",
            "6/6 [==============================] - 0s 5ms/step - loss: 0.4001 - accuracy: 0.8283\n",
            "Epoch 606/800\n",
            "6/6 [==============================] - 0s 4ms/step - loss: 0.3997 - accuracy: 0.8283\n",
            "Epoch 607/800\n",
            "6/6 [==============================] - 0s 5ms/step - loss: 0.3997 - accuracy: 0.8253\n",
            "Epoch 608/800\n",
            "6/6 [==============================] - 0s 4ms/step - loss: 0.3995 - accuracy: 0.8298\n",
            "Epoch 609/800\n",
            "6/6 [==============================] - 0s 5ms/step - loss: 0.3998 - accuracy: 0.8283\n",
            "Epoch 610/800\n",
            "6/6 [==============================] - 0s 5ms/step - loss: 0.4023 - accuracy: 0.8298\n",
            "Epoch 611/800\n",
            "6/6 [==============================] - 0s 6ms/step - loss: 0.4023 - accuracy: 0.8268\n",
            "Epoch 612/800\n",
            "6/6 [==============================] - 0s 5ms/step - loss: 0.4000 - accuracy: 0.8268\n",
            "Epoch 613/800\n",
            "6/6 [==============================] - 0s 6ms/step - loss: 0.4036 - accuracy: 0.8253\n",
            "Epoch 614/800\n",
            "6/6 [==============================] - 0s 6ms/step - loss: 0.3978 - accuracy: 0.8313\n",
            "Epoch 615/800\n",
            "6/6 [==============================] - 0s 6ms/step - loss: 0.4017 - accuracy: 0.8223\n",
            "Epoch 616/800\n",
            "6/6 [==============================] - 0s 5ms/step - loss: 0.3995 - accuracy: 0.8283\n",
            "Epoch 617/800\n",
            "6/6 [==============================] - 0s 8ms/step - loss: 0.3987 - accuracy: 0.8298\n",
            "Epoch 618/800\n",
            "6/6 [==============================] - 0s 5ms/step - loss: 0.3996 - accuracy: 0.8328\n",
            "Epoch 619/800\n",
            "6/6 [==============================] - 0s 5ms/step - loss: 0.3999 - accuracy: 0.8313\n",
            "Epoch 620/800\n",
            "6/6 [==============================] - 0s 5ms/step - loss: 0.4002 - accuracy: 0.8328\n",
            "Epoch 621/800\n",
            "6/6 [==============================] - 0s 5ms/step - loss: 0.3989 - accuracy: 0.8328\n",
            "Epoch 622/800\n",
            "6/6 [==============================] - 0s 6ms/step - loss: 0.3990 - accuracy: 0.8343\n",
            "Epoch 623/800\n",
            "6/6 [==============================] - 0s 5ms/step - loss: 0.3986 - accuracy: 0.8298\n",
            "Epoch 624/800\n",
            "6/6 [==============================] - 0s 4ms/step - loss: 0.3995 - accuracy: 0.8283\n",
            "Epoch 625/800\n",
            "6/6 [==============================] - 0s 5ms/step - loss: 0.4019 - accuracy: 0.8253\n",
            "Epoch 626/800\n",
            "6/6 [==============================] - 0s 6ms/step - loss: 0.4011 - accuracy: 0.8268\n",
            "Epoch 627/800\n",
            "6/6 [==============================] - 0s 5ms/step - loss: 0.4003 - accuracy: 0.8343\n",
            "Epoch 628/800\n",
            "6/6 [==============================] - 0s 5ms/step - loss: 0.3994 - accuracy: 0.8253\n",
            "Epoch 629/800\n",
            "6/6 [==============================] - 0s 5ms/step - loss: 0.3988 - accuracy: 0.8313\n",
            "Epoch 630/800\n",
            "6/6 [==============================] - 0s 5ms/step - loss: 0.4005 - accuracy: 0.8283\n",
            "Epoch 631/800\n",
            "6/6 [==============================] - 0s 6ms/step - loss: 0.3987 - accuracy: 0.8313\n",
            "Epoch 632/800\n",
            "6/6 [==============================] - 0s 5ms/step - loss: 0.3998 - accuracy: 0.8268\n",
            "Epoch 633/800\n",
            "6/6 [==============================] - 0s 5ms/step - loss: 0.3981 - accuracy: 0.8328\n",
            "Epoch 634/800\n",
            "6/6 [==============================] - 0s 6ms/step - loss: 0.4006 - accuracy: 0.8238\n",
            "Epoch 635/800\n",
            "6/6 [==============================] - 0s 5ms/step - loss: 0.4004 - accuracy: 0.8283\n",
            "Epoch 636/800\n",
            "6/6 [==============================] - 0s 5ms/step - loss: 0.3988 - accuracy: 0.8298\n",
            "Epoch 637/800\n",
            "6/6 [==============================] - 0s 5ms/step - loss: 0.4020 - accuracy: 0.8238\n",
            "Epoch 638/800\n",
            "6/6 [==============================] - 0s 5ms/step - loss: 0.4009 - accuracy: 0.8298\n",
            "Epoch 639/800\n",
            "6/6 [==============================] - 0s 5ms/step - loss: 0.4005 - accuracy: 0.8313\n",
            "Epoch 640/800\n",
            "6/6 [==============================] - 0s 7ms/step - loss: 0.4053 - accuracy: 0.8268\n",
            "Epoch 641/800\n",
            "6/6 [==============================] - 0s 5ms/step - loss: 0.4004 - accuracy: 0.8298\n",
            "Epoch 642/800\n",
            "6/6 [==============================] - 0s 5ms/step - loss: 0.3994 - accuracy: 0.8253\n",
            "Epoch 643/800\n",
            "6/6 [==============================] - 0s 5ms/step - loss: 0.3985 - accuracy: 0.8298\n",
            "Epoch 644/800\n",
            "6/6 [==============================] - 0s 5ms/step - loss: 0.3987 - accuracy: 0.8328\n",
            "Epoch 645/800\n",
            "6/6 [==============================] - 0s 6ms/step - loss: 0.3987 - accuracy: 0.8283\n",
            "Epoch 646/800\n",
            "6/6 [==============================] - 0s 6ms/step - loss: 0.3998 - accuracy: 0.8313\n",
            "Epoch 647/800\n",
            "6/6 [==============================] - 0s 5ms/step - loss: 0.3981 - accuracy: 0.8268\n",
            "Epoch 648/800\n",
            "6/6 [==============================] - 0s 5ms/step - loss: 0.4004 - accuracy: 0.8238\n",
            "Epoch 649/800\n",
            "6/6 [==============================] - 0s 5ms/step - loss: 0.3992 - accuracy: 0.8313\n",
            "Epoch 650/800\n",
            "6/6 [==============================] - 0s 6ms/step - loss: 0.4014 - accuracy: 0.8268\n",
            "Epoch 651/800\n",
            "6/6 [==============================] - 0s 5ms/step - loss: 0.3976 - accuracy: 0.8253\n",
            "Epoch 652/800\n",
            "6/6 [==============================] - 0s 4ms/step - loss: 0.4004 - accuracy: 0.8253\n",
            "Epoch 653/800\n",
            "6/6 [==============================] - 0s 5ms/step - loss: 0.3965 - accuracy: 0.8298\n",
            "Epoch 654/800\n",
            "6/6 [==============================] - 0s 5ms/step - loss: 0.4034 - accuracy: 0.8283\n",
            "Epoch 655/800\n",
            "6/6 [==============================] - 0s 5ms/step - loss: 0.3989 - accuracy: 0.8298\n",
            "Epoch 656/800\n",
            "6/6 [==============================] - 0s 5ms/step - loss: 0.4032 - accuracy: 0.8268\n",
            "Epoch 657/800\n",
            "6/6 [==============================] - 0s 5ms/step - loss: 0.3992 - accuracy: 0.8313\n",
            "Epoch 658/800\n",
            "6/6 [==============================] - 0s 5ms/step - loss: 0.3992 - accuracy: 0.8298\n",
            "Epoch 659/800\n",
            "6/6 [==============================] - 0s 5ms/step - loss: 0.3994 - accuracy: 0.8298\n",
            "Epoch 660/800\n",
            "6/6 [==============================] - 0s 5ms/step - loss: 0.3995 - accuracy: 0.8283\n",
            "Epoch 661/800\n",
            "6/6 [==============================] - 0s 4ms/step - loss: 0.3982 - accuracy: 0.8298\n",
            "Epoch 662/800\n",
            "6/6 [==============================] - 0s 5ms/step - loss: 0.3982 - accuracy: 0.8298\n",
            "Epoch 663/800\n",
            "6/6 [==============================] - 0s 4ms/step - loss: 0.3991 - accuracy: 0.8283\n",
            "Epoch 664/800\n",
            "6/6 [==============================] - 0s 4ms/step - loss: 0.3985 - accuracy: 0.8328\n",
            "Epoch 665/800\n",
            "6/6 [==============================] - 0s 4ms/step - loss: 0.3976 - accuracy: 0.8283\n",
            "Epoch 666/800\n",
            "6/6 [==============================] - 0s 5ms/step - loss: 0.3995 - accuracy: 0.8283\n",
            "Epoch 667/800\n",
            "6/6 [==============================] - 0s 5ms/step - loss: 0.3986 - accuracy: 0.8283\n",
            "Epoch 668/800\n",
            "6/6 [==============================] - 0s 5ms/step - loss: 0.3986 - accuracy: 0.8298\n",
            "Epoch 669/800\n",
            "6/6 [==============================] - 0s 5ms/step - loss: 0.3991 - accuracy: 0.8313\n",
            "Epoch 670/800\n",
            "6/6 [==============================] - 0s 5ms/step - loss: 0.3976 - accuracy: 0.8343\n",
            "Epoch 671/800\n",
            "6/6 [==============================] - 0s 5ms/step - loss: 0.3997 - accuracy: 0.8208\n",
            "Epoch 672/800\n",
            "6/6 [==============================] - 0s 5ms/step - loss: 0.4010 - accuracy: 0.8238\n",
            "Epoch 673/800\n",
            "6/6 [==============================] - 0s 6ms/step - loss: 0.3976 - accuracy: 0.8298\n",
            "Epoch 674/800\n",
            "6/6 [==============================] - 0s 5ms/step - loss: 0.3969 - accuracy: 0.8283\n",
            "Epoch 675/800\n",
            "6/6 [==============================] - 0s 6ms/step - loss: 0.3975 - accuracy: 0.8298\n",
            "Epoch 676/800\n",
            "6/6 [==============================] - 0s 6ms/step - loss: 0.3982 - accuracy: 0.8328\n",
            "Epoch 677/800\n",
            "6/6 [==============================] - 0s 4ms/step - loss: 0.3978 - accuracy: 0.8223\n",
            "Epoch 678/800\n",
            "6/6 [==============================] - 0s 5ms/step - loss: 0.3992 - accuracy: 0.8223\n",
            "Epoch 679/800\n",
            "6/6 [==============================] - 0s 5ms/step - loss: 0.3973 - accuracy: 0.8283\n",
            "Epoch 680/800\n",
            "6/6 [==============================] - 0s 6ms/step - loss: 0.3986 - accuracy: 0.8283\n",
            "Epoch 681/800\n",
            "6/6 [==============================] - 0s 7ms/step - loss: 0.3979 - accuracy: 0.8283\n",
            "Epoch 682/800\n",
            "6/6 [==============================] - 0s 5ms/step - loss: 0.3987 - accuracy: 0.8208\n",
            "Epoch 683/800\n",
            "6/6 [==============================] - 0s 6ms/step - loss: 0.3989 - accuracy: 0.8223\n",
            "Epoch 684/800\n",
            "6/6 [==============================] - 0s 5ms/step - loss: 0.3986 - accuracy: 0.8238\n",
            "Epoch 685/800\n",
            "6/6 [==============================] - 0s 5ms/step - loss: 0.4037 - accuracy: 0.8238\n",
            "Epoch 686/800\n",
            "6/6 [==============================] - 0s 6ms/step - loss: 0.3973 - accuracy: 0.8298\n",
            "Epoch 687/800\n",
            "6/6 [==============================] - 0s 6ms/step - loss: 0.4011 - accuracy: 0.8268\n",
            "Epoch 688/800\n",
            "6/6 [==============================] - 0s 8ms/step - loss: 0.4004 - accuracy: 0.8283\n",
            "Epoch 689/800\n",
            "6/6 [==============================] - 0s 6ms/step - loss: 0.3977 - accuracy: 0.8313\n",
            "Epoch 690/800\n",
            "6/6 [==============================] - 0s 7ms/step - loss: 0.3998 - accuracy: 0.8283\n",
            "Epoch 691/800\n",
            "6/6 [==============================] - 0s 5ms/step - loss: 0.3981 - accuracy: 0.8268\n",
            "Epoch 692/800\n",
            "6/6 [==============================] - 0s 6ms/step - loss: 0.4001 - accuracy: 0.8223\n",
            "Epoch 693/800\n",
            "6/6 [==============================] - 0s 6ms/step - loss: 0.3979 - accuracy: 0.8253\n",
            "Epoch 694/800\n",
            "6/6 [==============================] - 0s 7ms/step - loss: 0.3965 - accuracy: 0.8298\n",
            "Epoch 695/800\n",
            "6/6 [==============================] - 0s 6ms/step - loss: 0.3968 - accuracy: 0.8313\n",
            "Epoch 696/800\n",
            "6/6 [==============================] - 0s 5ms/step - loss: 0.3966 - accuracy: 0.8328\n",
            "Epoch 697/800\n",
            "6/6 [==============================] - 0s 6ms/step - loss: 0.3972 - accuracy: 0.8298\n",
            "Epoch 698/800\n",
            "6/6 [==============================] - 0s 5ms/step - loss: 0.3976 - accuracy: 0.8268\n",
            "Epoch 699/800\n",
            "6/6 [==============================] - 0s 6ms/step - loss: 0.3986 - accuracy: 0.8223\n",
            "Epoch 700/800\n",
            "6/6 [==============================] - 0s 5ms/step - loss: 0.3979 - accuracy: 0.8283\n",
            "Epoch 701/800\n",
            "6/6 [==============================] - 0s 4ms/step - loss: 0.3968 - accuracy: 0.8328\n",
            "Epoch 702/800\n",
            "6/6 [==============================] - 0s 5ms/step - loss: 0.3963 - accuracy: 0.8313\n",
            "Epoch 703/800\n",
            "6/6 [==============================] - 0s 5ms/step - loss: 0.3965 - accuracy: 0.8283\n",
            "Epoch 704/800\n",
            "6/6 [==============================] - 0s 5ms/step - loss: 0.3967 - accuracy: 0.8283\n",
            "Epoch 705/800\n",
            "6/6 [==============================] - 0s 4ms/step - loss: 0.3969 - accuracy: 0.8253\n",
            "Epoch 706/800\n",
            "6/6 [==============================] - 0s 7ms/step - loss: 0.3960 - accuracy: 0.8313\n",
            "Epoch 707/800\n",
            "6/6 [==============================] - 0s 5ms/step - loss: 0.3977 - accuracy: 0.8283\n",
            "Epoch 708/800\n",
            "6/6 [==============================] - 0s 5ms/step - loss: 0.3968 - accuracy: 0.8283\n",
            "Epoch 709/800\n",
            "6/6 [==============================] - 0s 4ms/step - loss: 0.4006 - accuracy: 0.8238\n",
            "Epoch 710/800\n",
            "6/6 [==============================] - 0s 5ms/step - loss: 0.3985 - accuracy: 0.8283\n",
            "Epoch 711/800\n",
            "6/6 [==============================] - 0s 5ms/step - loss: 0.3992 - accuracy: 0.8238\n",
            "Epoch 712/800\n",
            "6/6 [==============================] - 0s 4ms/step - loss: 0.3990 - accuracy: 0.8268\n",
            "Epoch 713/800\n",
            "6/6 [==============================] - 0s 5ms/step - loss: 0.3996 - accuracy: 0.8253\n",
            "Epoch 714/800\n",
            "6/6 [==============================] - 0s 5ms/step - loss: 0.3956 - accuracy: 0.8298\n",
            "Epoch 715/800\n",
            "6/6 [==============================] - 0s 5ms/step - loss: 0.3994 - accuracy: 0.8298\n",
            "Epoch 716/800\n",
            "6/6 [==============================] - 0s 5ms/step - loss: 0.3988 - accuracy: 0.8313\n",
            "Epoch 717/800\n",
            "6/6 [==============================] - 0s 4ms/step - loss: 0.3966 - accuracy: 0.8328\n",
            "Epoch 718/800\n",
            "6/6 [==============================] - 0s 5ms/step - loss: 0.3960 - accuracy: 0.8298\n",
            "Epoch 719/800\n",
            "6/6 [==============================] - 0s 6ms/step - loss: 0.3957 - accuracy: 0.8313\n",
            "Epoch 720/800\n",
            "6/6 [==============================] - 0s 6ms/step - loss: 0.3960 - accuracy: 0.8313\n",
            "Epoch 721/800\n",
            "6/6 [==============================] - 0s 7ms/step - loss: 0.4001 - accuracy: 0.8313\n",
            "Epoch 722/800\n",
            "6/6 [==============================] - 0s 5ms/step - loss: 0.3974 - accuracy: 0.8343\n",
            "Epoch 723/800\n",
            "6/6 [==============================] - 0s 6ms/step - loss: 0.3961 - accuracy: 0.8298\n",
            "Epoch 724/800\n",
            "6/6 [==============================] - 0s 6ms/step - loss: 0.3963 - accuracy: 0.8298\n",
            "Epoch 725/800\n",
            "6/6 [==============================] - 0s 5ms/step - loss: 0.3959 - accuracy: 0.8343\n",
            "Epoch 726/800\n",
            "6/6 [==============================] - 0s 6ms/step - loss: 0.3957 - accuracy: 0.8268\n",
            "Epoch 727/800\n",
            "6/6 [==============================] - 0s 5ms/step - loss: 0.3967 - accuracy: 0.8238\n",
            "Epoch 728/800\n",
            "6/6 [==============================] - 0s 5ms/step - loss: 0.3957 - accuracy: 0.8298\n",
            "Epoch 729/800\n",
            "6/6 [==============================] - 0s 7ms/step - loss: 0.3970 - accuracy: 0.8328\n",
            "Epoch 730/800\n",
            "6/6 [==============================] - 0s 5ms/step - loss: 0.3965 - accuracy: 0.8328\n",
            "Epoch 731/800\n",
            "6/6 [==============================] - 0s 5ms/step - loss: 0.3958 - accuracy: 0.8343\n",
            "Epoch 732/800\n",
            "6/6 [==============================] - 0s 5ms/step - loss: 0.3955 - accuracy: 0.8298\n",
            "Epoch 733/800\n",
            "6/6 [==============================] - 0s 5ms/step - loss: 0.3958 - accuracy: 0.8313\n",
            "Epoch 734/800\n",
            "6/6 [==============================] - 0s 7ms/step - loss: 0.3957 - accuracy: 0.8298\n",
            "Epoch 735/800\n",
            "6/6 [==============================] - 0s 7ms/step - loss: 0.3966 - accuracy: 0.8253\n",
            "Epoch 736/800\n",
            "6/6 [==============================] - 0s 5ms/step - loss: 0.3955 - accuracy: 0.8283\n",
            "Epoch 737/800\n",
            "6/6 [==============================] - 0s 5ms/step - loss: 0.3960 - accuracy: 0.8313\n",
            "Epoch 738/800\n",
            "6/6 [==============================] - 0s 6ms/step - loss: 0.3971 - accuracy: 0.8298\n",
            "Epoch 739/800\n",
            "6/6 [==============================] - 0s 6ms/step - loss: 0.3957 - accuracy: 0.8328\n",
            "Epoch 740/800\n",
            "6/6 [==============================] - 0s 5ms/step - loss: 0.3957 - accuracy: 0.8268\n",
            "Epoch 741/800\n",
            "6/6 [==============================] - 0s 6ms/step - loss: 0.3959 - accuracy: 0.8313\n",
            "Epoch 742/800\n",
            "6/6 [==============================] - 0s 7ms/step - loss: 0.3968 - accuracy: 0.8298\n",
            "Epoch 743/800\n",
            "6/6 [==============================] - 0s 6ms/step - loss: 0.3956 - accuracy: 0.8343\n",
            "Epoch 744/800\n",
            "6/6 [==============================] - 0s 6ms/step - loss: 0.3953 - accuracy: 0.8328\n",
            "Epoch 745/800\n",
            "6/6 [==============================] - 0s 6ms/step - loss: 0.3969 - accuracy: 0.8268\n",
            "Epoch 746/800\n",
            "6/6 [==============================] - 0s 5ms/step - loss: 0.3971 - accuracy: 0.8268\n",
            "Epoch 747/800\n",
            "6/6 [==============================] - 0s 5ms/step - loss: 0.3967 - accuracy: 0.8328\n",
            "Epoch 748/800\n",
            "6/6 [==============================] - 0s 5ms/step - loss: 0.3957 - accuracy: 0.8313\n",
            "Epoch 749/800\n",
            "6/6 [==============================] - 0s 6ms/step - loss: 0.3972 - accuracy: 0.8328\n",
            "Epoch 750/800\n",
            "6/6 [==============================] - 0s 4ms/step - loss: 0.3959 - accuracy: 0.8283\n",
            "Epoch 751/800\n",
            "6/6 [==============================] - 0s 5ms/step - loss: 0.3961 - accuracy: 0.8223\n",
            "Epoch 752/800\n",
            "6/6 [==============================] - 0s 4ms/step - loss: 0.3962 - accuracy: 0.8268\n",
            "Epoch 753/800\n",
            "6/6 [==============================] - 0s 4ms/step - loss: 0.3954 - accuracy: 0.8298\n",
            "Epoch 754/800\n",
            "6/6 [==============================] - 0s 6ms/step - loss: 0.3957 - accuracy: 0.8253\n",
            "Epoch 755/800\n",
            "6/6 [==============================] - 0s 5ms/step - loss: 0.3949 - accuracy: 0.8298\n",
            "Epoch 756/800\n",
            "6/6 [==============================] - 0s 5ms/step - loss: 0.3974 - accuracy: 0.8328\n",
            "Epoch 757/800\n",
            "6/6 [==============================] - 0s 5ms/step - loss: 0.3970 - accuracy: 0.8358\n",
            "Epoch 758/800\n",
            "6/6 [==============================] - 0s 6ms/step - loss: 0.3959 - accuracy: 0.8343\n",
            "Epoch 759/800\n",
            "6/6 [==============================] - 0s 5ms/step - loss: 0.3962 - accuracy: 0.8253\n",
            "Epoch 760/800\n",
            "6/6 [==============================] - 0s 6ms/step - loss: 0.3952 - accuracy: 0.8343\n",
            "Epoch 761/800\n",
            "6/6 [==============================] - 0s 5ms/step - loss: 0.3947 - accuracy: 0.8328\n",
            "Epoch 762/800\n",
            "6/6 [==============================] - 0s 5ms/step - loss: 0.3947 - accuracy: 0.8298\n",
            "Epoch 763/800\n",
            "6/6 [==============================] - 0s 5ms/step - loss: 0.3947 - accuracy: 0.8298\n",
            "Epoch 764/800\n",
            "6/6 [==============================] - 0s 5ms/step - loss: 0.3963 - accuracy: 0.8298\n",
            "Epoch 765/800\n",
            "6/6 [==============================] - 0s 5ms/step - loss: 0.3940 - accuracy: 0.8298\n",
            "Epoch 766/800\n",
            "6/6 [==============================] - 0s 6ms/step - loss: 0.3976 - accuracy: 0.8253\n",
            "Epoch 767/800\n",
            "6/6 [==============================] - 0s 5ms/step - loss: 0.3927 - accuracy: 0.8298\n",
            "Epoch 768/800\n",
            "6/6 [==============================] - 0s 6ms/step - loss: 0.3991 - accuracy: 0.8283\n",
            "Epoch 769/800\n",
            "6/6 [==============================] - 0s 5ms/step - loss: 0.3942 - accuracy: 0.8253\n",
            "Epoch 770/800\n",
            "6/6 [==============================] - 0s 6ms/step - loss: 0.3968 - accuracy: 0.8238\n",
            "Epoch 771/800\n",
            "6/6 [==============================] - 0s 6ms/step - loss: 0.3959 - accuracy: 0.8268\n",
            "Epoch 772/800\n",
            "6/6 [==============================] - 0s 5ms/step - loss: 0.3981 - accuracy: 0.8298\n",
            "Epoch 773/800\n",
            "6/6 [==============================] - 0s 6ms/step - loss: 0.3958 - accuracy: 0.8298\n",
            "Epoch 774/800\n",
            "6/6 [==============================] - 0s 6ms/step - loss: 0.3956 - accuracy: 0.8253\n",
            "Epoch 775/800\n",
            "6/6 [==============================] - 0s 5ms/step - loss: 0.4018 - accuracy: 0.8253\n",
            "Epoch 776/800\n",
            "6/6 [==============================] - 0s 5ms/step - loss: 0.3933 - accuracy: 0.8298\n",
            "Epoch 777/800\n",
            "6/6 [==============================] - 0s 4ms/step - loss: 0.3972 - accuracy: 0.8283\n",
            "Epoch 778/800\n",
            "6/6 [==============================] - 0s 5ms/step - loss: 0.3956 - accuracy: 0.8313\n",
            "Epoch 779/800\n",
            "6/6 [==============================] - 0s 5ms/step - loss: 0.3935 - accuracy: 0.8298\n",
            "Epoch 780/800\n",
            "6/6 [==============================] - 0s 5ms/step - loss: 0.3954 - accuracy: 0.8343\n",
            "Epoch 781/800\n",
            "6/6 [==============================] - 0s 5ms/step - loss: 0.3943 - accuracy: 0.8328\n",
            "Epoch 782/800\n",
            "6/6 [==============================] - 0s 5ms/step - loss: 0.3944 - accuracy: 0.8253\n",
            "Epoch 783/800\n",
            "6/6 [==============================] - 0s 5ms/step - loss: 0.3942 - accuracy: 0.8268\n",
            "Epoch 784/800\n",
            "6/6 [==============================] - 0s 5ms/step - loss: 0.3934 - accuracy: 0.8298\n",
            "Epoch 785/800\n",
            "6/6 [==============================] - 0s 5ms/step - loss: 0.3930 - accuracy: 0.8313\n",
            "Epoch 786/800\n",
            "6/6 [==============================] - 0s 5ms/step - loss: 0.3941 - accuracy: 0.8268\n",
            "Epoch 787/800\n",
            "6/6 [==============================] - 0s 5ms/step - loss: 0.3947 - accuracy: 0.8253\n",
            "Epoch 788/800\n",
            "6/6 [==============================] - 0s 5ms/step - loss: 0.3939 - accuracy: 0.8253\n",
            "Epoch 789/800\n",
            "6/6 [==============================] - 0s 5ms/step - loss: 0.3936 - accuracy: 0.8238\n",
            "Epoch 790/800\n",
            "6/6 [==============================] - 0s 5ms/step - loss: 0.3927 - accuracy: 0.8313\n",
            "Epoch 791/800\n",
            "6/6 [==============================] - 0s 5ms/step - loss: 0.3941 - accuracy: 0.8223\n",
            "Epoch 792/800\n",
            "6/6 [==============================] - 0s 4ms/step - loss: 0.3948 - accuracy: 0.8238\n",
            "Epoch 793/800\n",
            "6/6 [==============================] - 0s 5ms/step - loss: 0.3943 - accuracy: 0.8253\n",
            "Epoch 794/800\n",
            "6/6 [==============================] - 0s 4ms/step - loss: 0.3928 - accuracy: 0.8298\n",
            "Epoch 795/800\n",
            "6/6 [==============================] - 0s 4ms/step - loss: 0.3947 - accuracy: 0.8283\n",
            "Epoch 796/800\n",
            "6/6 [==============================] - 0s 6ms/step - loss: 0.3948 - accuracy: 0.8268\n",
            "Epoch 797/800\n",
            "6/6 [==============================] - 0s 5ms/step - loss: 0.3932 - accuracy: 0.8298\n",
            "Epoch 798/800\n",
            "6/6 [==============================] - 0s 5ms/step - loss: 0.3943 - accuracy: 0.8253\n",
            "Epoch 799/800\n",
            "6/6 [==============================] - 0s 5ms/step - loss: 0.3947 - accuracy: 0.8238\n",
            "Epoch 800/800\n",
            "6/6 [==============================] - 0s 5ms/step - loss: 0.3935 - accuracy: 0.8268\n"
          ]
        }
      ]
    },
    {
      "cell_type": "markdown",
      "source": [
        "# Evaluating the models"
      ],
      "metadata": {
        "id": "Bj2buNMBKqDm"
      }
    },
    {
      "cell_type": "markdown",
      "source": [
        "1. Usar `model.evaluate` para avaliar o x_test\n",
        "2. Usar o `model.predicts` para gerar predições para o x_test"
      ],
      "metadata": {
        "id": "cmZ8sLJcK7n7"
      }
    },
    {
      "cell_type": "markdown",
      "source": [
        "## Arquitetura 1"
      ],
      "metadata": {
        "id": "ZgxEcAo4Kx-d"
      }
    },
    {
      "cell_type": "code",
      "source": [
        "evaluate = model_1.evaluate(x_test, y_test)"
      ],
      "metadata": {
        "colab": {
          "base_uri": "https://localhost:8080/"
        },
        "id": "R_a1utnwK483",
        "outputId": "7f38cd3e-e6c4-4a02-c7d6-915fc462b0f1"
      },
      "execution_count": null,
      "outputs": [
        {
          "output_type": "stream",
          "name": "stdout",
          "text": [
            "6/6 [==============================] - 0s 7ms/step - loss: 0.6351 - accuracy: 0.7952\n"
          ]
        }
      ]
    },
    {
      "cell_type": "markdown",
      "source": [
        "3. Mostrar gráficos de acurácia e perda"
      ],
      "metadata": {
        "id": "OhraNZR8LIqH"
      }
    },
    {
      "cell_type": "code",
      "source": [
        "# Gráfico de Acurácia:\n",
        "plt.plot(history_1.history['accuracy'])\n",
        "plt.title('Model Accuracy')\n",
        "plt.ylabel('Accuracy')\n",
        "plt.xlabel('Epochs')\n",
        "plt.legend(['train'], loc='upper left')\n",
        "plt.show()\n",
        "\n",
        "# Gráfico de Perda:\n",
        "plt.plot(history_1.history['loss'])\n",
        "plt.title('Model Loss')\n",
        "plt.ylabel('Loss')\n",
        "plt.xlabel('Epoch')\n",
        "plt.legend(['train'], loc='upper left')\n",
        "plt.show()"
      ],
      "metadata": {
        "colab": {
          "base_uri": "https://localhost:8080/",
          "height": 927
        },
        "id": "Q7HNsfj4LMtD",
        "outputId": "c2be0ff6-070d-47a4-d19e-c20f9990ea79"
      },
      "execution_count": null,
      "outputs": [
        {
          "output_type": "display_data",
          "data": {
            "text/plain": [
              "<Figure size 640x480 with 1 Axes>"
            ],
            "image/png": "[encoded data removed]"
          },
          "metadata": {}
        },
        {
          "output_type": "display_data",
          "data": {
            "text/plain": [
              "<Figure size 640x480 with 1 Axes>"
            ],
            "image/png": "[encoded data removed]"
          },
          "metadata": {}
        }
      ]
    },
    {
      "cell_type": "markdown",
      "source": [
        "Para ver como o modelo treinado está se comportando, farei previsões padrão ouro e verei o que o modelo retorna"
      ],
      "metadata": {
        "id": "FZBoX9xqR3D1"
      }
    },
    {
      "cell_type": "code",
      "source": [
        "predictions_1 = model_1.predict(x_test)\n",
        "predictions_1"
      ],
      "metadata": {
        "colab": {
          "base_uri": "https://localhost:8080/"
        },
        "id": "1aufvPAjMlYL",
        "outputId": "bfaa1000-203c-4b2d-a74c-0a1c8c491ed4"
      },
      "execution_count": null,
      "outputs": [
        {
          "output_type": "stream",
          "name": "stderr",
          "text": [
            "WARNING:tensorflow:5 out of the last 12 calls to <function Model.make_predict_function.<locals>.predict_function at 0x7eeac05871c0> triggered tf.function retracing. Tracing is expensive and the excessive number of tracings could be due to (1) creating @tf.function repeatedly in a loop, (2) passing tensors with different shapes, (3) passing Python objects instead of tensors. For (1), please define your @tf.function outside of the loop. For (2), @tf.function has reduce_retracing=True option that can avoid unnecessary retracing. For (3), please refer to https://www.tensorflow.org/guide/function#controlling_retracing and https://www.tensorflow.org/api_docs/python/tf/function for  more details.\n"
          ]
        },
        {
          "output_type": "stream",
          "name": "stdout",
          "text": [
            "6/6 [==============================] - 0s 6ms/step\n"
          ]
        },
        {
          "output_type": "execute_result",
          "data": {
            "text/plain": [
              "array([[9.07311559e-01],\n",
              "       [8.65069032e-03],\n",
              "       [7.51962066e-01],\n",
              "       [1.16014667e-01],\n",
              "       [2.80774049e-02],\n",
              "       [9.99372363e-01],\n",
              "       [9.21656370e-01],\n",
              "       [8.99524271e-01],\n",
              "       [8.69907498e-01],\n",
              "       [1.24279954e-01],\n",
              "       [1.70055002e-01],\n",
              "       [9.78493273e-01],\n",
              "       [9.15688038e-01],\n",
              "       [1.60845980e-01],\n",
              "       [7.34440982e-01],\n",
              "       [1.38094842e-01],\n",
              "       [8.88922572e-01],\n",
              "       [9.99777138e-01],\n",
              "       [8.41009393e-02],\n",
              "       [8.88922572e-01],\n",
              "       [9.97353137e-01],\n",
              "       [9.98450756e-01],\n",
              "       [4.90669399e-01],\n",
              "       [6.50131226e-01],\n",
              "       [9.24232543e-01],\n",
              "       [8.89316916e-01],\n",
              "       [1.14167757e-01],\n",
              "       [6.49238765e-01],\n",
              "       [8.41886699e-01],\n",
              "       [1.08046256e-01],\n",
              "       [6.72049999e-01],\n",
              "       [9.27064657e-01],\n",
              "       [3.60044502e-02],\n",
              "       [8.69907498e-01],\n",
              "       [7.97865272e-01],\n",
              "       [4.09598231e-01],\n",
              "       [6.63365662e-01],\n",
              "       [3.31895286e-03],\n",
              "       [9.24364030e-02],\n",
              "       [9.87002432e-01],\n",
              "       [1.60845980e-01],\n",
              "       [6.21138513e-01],\n",
              "       [9.53115761e-01],\n",
              "       [2.57441134e-05],\n",
              "       [9.18121934e-01],\n",
              "       [9.74322334e-02],\n",
              "       [1.03094578e-01],\n",
              "       [3.41075361e-01],\n",
              "       [6.45814419e-01],\n",
              "       [8.34142983e-01],\n",
              "       [9.76981640e-01],\n",
              "       [8.16280186e-01],\n",
              "       [1.16014667e-01],\n",
              "       [9.74322334e-02],\n",
              "       [3.29711055e-03],\n",
              "       [1.47677451e-01],\n",
              "       [9.01667297e-01],\n",
              "       [1.08046256e-01],\n",
              "       [4.99127507e-01],\n",
              "       [8.45299602e-01],\n",
              "       [6.80994868e-01],\n",
              "       [2.24640399e-01],\n",
              "       [1.94017962e-01],\n",
              "       [2.98442482e-03],\n",
              "       [9.99191046e-01],\n",
              "       [8.57931197e-01],\n",
              "       [1.32923618e-01],\n",
              "       [7.82296896e-01],\n",
              "       [7.60879219e-01],\n",
              "       [3.47237475e-03],\n",
              "       [2.91740429e-03],\n",
              "       [7.51085758e-01],\n",
              "       [1.16014667e-01],\n",
              "       [7.85568833e-01],\n",
              "       [8.17014813e-01],\n",
              "       [1.21961482e-01],\n",
              "       [4.31636542e-01],\n",
              "       [2.95203319e-03],\n",
              "       [8.75320315e-01],\n",
              "       [1.10209323e-01],\n",
              "       [1.21927783e-01],\n",
              "       [2.02591848e-02],\n",
              "       [8.69907498e-01],\n",
              "       [9.95635569e-01],\n",
              "       [7.51962066e-01],\n",
              "       [1.14881213e-05],\n",
              "       [1.33622512e-01],\n",
              "       [5.53520476e-05],\n",
              "       [8.01345587e-01],\n",
              "       [4.86655504e-01],\n",
              "       [7.54596591e-01],\n",
              "       [8.62289786e-01],\n",
              "       [1.24279954e-01],\n",
              "       [9.99998093e-01],\n",
              "       [1.08046241e-01],\n",
              "       [9.55231905e-01],\n",
              "       [3.77523596e-03],\n",
              "       [9.23194140e-02],\n",
              "       [8.41009393e-02],\n",
              "       [2.84327399e-02],\n",
              "       [9.94526207e-01],\n",
              "       [4.19784244e-03],\n",
              "       [1.60679847e-01],\n",
              "       [8.88922572e-01],\n",
              "       [1.16387546e-01],\n",
              "       [8.56248736e-01],\n",
              "       [8.14538419e-01],\n",
              "       [9.99568820e-01],\n",
              "       [9.84973192e-01],\n",
              "       [7.73684382e-01],\n",
              "       [2.36256570e-01],\n",
              "       [1.38631508e-01],\n",
              "       [9.94526207e-01],\n",
              "       [1.60845980e-01],\n",
              "       [1.36823565e-01],\n",
              "       [7.58220792e-01],\n",
              "       [6.63365662e-01],\n",
              "       [3.87998939e-01],\n",
              "       [4.12286930e-02],\n",
              "       [9.47675586e-01],\n",
              "       [7.43092537e-01],\n",
              "       [7.62124419e-01],\n",
              "       [8.02258216e-03],\n",
              "       [4.05797571e-01],\n",
              "       [8.62289786e-01],\n",
              "       [1.03094578e-01],\n",
              "       [9.82128859e-01],\n",
              "       [1.60845980e-01],\n",
              "       [1.48196161e-01],\n",
              "       [4.56098825e-01],\n",
              "       [1.20356001e-01],\n",
              "       [1.35567650e-01],\n",
              "       [3.13954443e-01],\n",
              "       [8.22675645e-01],\n",
              "       [9.57113802e-01],\n",
              "       [1.34415835e-01],\n",
              "       [9.98894930e-01],\n",
              "       [7.16805577e-01],\n",
              "       [1.67748064e-01],\n",
              "       [2.24292278e-01],\n",
              "       [8.89316916e-01],\n",
              "       [2.21891742e-06],\n",
              "       [9.37457502e-01],\n",
              "       [5.28308284e-03],\n",
              "       [9.55231905e-01],\n",
              "       [7.97978997e-01],\n",
              "       [1.60845980e-01],\n",
              "       [9.98450756e-01],\n",
              "       [9.99568820e-01],\n",
              "       [8.89316916e-01],\n",
              "       [6.93649590e-01],\n",
              "       [7.16805577e-01],\n",
              "       [8.11188281e-01],\n",
              "       [7.01223791e-01],\n",
              "       [1.21276118e-01],\n",
              "       [9.51143354e-02],\n",
              "       [4.27619409e-04],\n",
              "       [8.41009393e-02],\n",
              "       [2.14896932e-01],\n",
              "       [8.50597173e-02],\n",
              "       [6.99186265e-01],\n",
              "       [7.36395299e-01],\n",
              "       [1.34527653e-01],\n",
              "       [7.97865272e-01],\n",
              "       [9.94678140e-01],\n",
              "       [2.24640399e-01]], dtype=float32)"
            ]
          },
          "metadata": {},
          "execution_count": 574
        }
      ]
    },
    {
      "cell_type": "code",
      "source": [
        "print(predictions_1[25])\n",
        "print(y_test[25])"
      ],
      "metadata": {
        "colab": {
          "base_uri": "https://localhost:8080/"
        },
        "id": "B9a-FoTJMtPu",
        "outputId": "3c31f6d1-040d-4173-c5bb-36fc4049c8d1"
      },
      "execution_count": null,
      "outputs": [
        {
          "output_type": "stream",
          "name": "stdout",
          "text": [
            "[0.8893169]\n",
            "1\n"
          ]
        }
      ]
    },
    {
      "cell_type": "code",
      "source": [
        "predictions_1.shape"
      ],
      "metadata": {
        "colab": {
          "base_uri": "https://localhost:8080/"
        },
        "id": "X4RMK_VtMr10",
        "outputId": "619a97ab-ea46-43b4-d5b1-0a03e8873dfe"
      },
      "execution_count": null,
      "outputs": [
        {
          "output_type": "execute_result",
          "data": {
            "text/plain": [
              "(166, 1)"
            ]
          },
          "metadata": {},
          "execution_count": 576
        }
      ]
    },
    {
      "cell_type": "markdown",
      "source": [
        "Já que se trata de uma classificação binária, podemos traçar um **limiar**. Definir um limiar é importante para transformar probabilidades contínuas em previsões discretas, tornando o modelo capaz de fazer escolhas e tomar decisões de classificação"
      ],
      "metadata": {
        "id": "aCOfYwA_QtQW"
      }
    },
    {
      "cell_type": "code",
      "source": [
        "limiar = 0.5\n",
        "y_pred_1 = np.where(predictions_1 > limiar, 1, 0)\n",
        "y_pred_1"
      ],
      "metadata": {
        "colab": {
          "base_uri": "https://localhost:8080/"
        },
        "id": "YeSWvepGQ1dM",
        "outputId": "0fa15e3c-17c3-4019-99be-cf54facbf717"
      },
      "execution_count": null,
      "outputs": [
        {
          "output_type": "execute_result",
          "data": {
            "text/plain": [
              "array([[1],\n",
              "       [0],\n",
              "       [1],\n",
              "       [0],\n",
              "       [0],\n",
              "       [1],\n",
              "       [1],\n",
              "       [1],\n",
              "       [1],\n",
              "       [0],\n",
              "       [0],\n",
              "       [1],\n",
              "       [1],\n",
              "       [0],\n",
              "       [1],\n",
              "       [0],\n",
              "       [1],\n",
              "       [1],\n",
              "       [0],\n",
              "       [1],\n",
              "       [1],\n",
              "       [1],\n",
              "       [0],\n",
              "       [1],\n",
              "       [1],\n",
              "       [1],\n",
              "       [0],\n",
              "       [1],\n",
              "       [1],\n",
              "       [0],\n",
              "       [1],\n",
              "       [1],\n",
              "       [0],\n",
              "       [1],\n",
              "       [1],\n",
              "       [0],\n",
              "       [1],\n",
              "       [0],\n",
              "       [0],\n",
              "       [1],\n",
              "       [0],\n",
              "       [1],\n",
              "       [1],\n",
              "       [0],\n",
              "       [1],\n",
              "       [0],\n",
              "       [0],\n",
              "       [0],\n",
              "       [1],\n",
              "       [1],\n",
              "       [1],\n",
              "       [1],\n",
              "       [0],\n",
              "       [0],\n",
              "       [0],\n",
              "       [0],\n",
              "       [1],\n",
              "       [0],\n",
              "       [0],\n",
              "       [1],\n",
              "       [1],\n",
              "       [0],\n",
              "       [0],\n",
              "       [0],\n",
              "       [1],\n",
              "       [1],\n",
              "       [0],\n",
              "       [1],\n",
              "       [1],\n",
              "       [0],\n",
              "       [0],\n",
              "       [1],\n",
              "       [0],\n",
              "       [1],\n",
              "       [1],\n",
              "       [0],\n",
              "       [0],\n",
              "       [0],\n",
              "       [1],\n",
              "       [0],\n",
              "       [0],\n",
              "       [0],\n",
              "       [1],\n",
              "       [1],\n",
              "       [1],\n",
              "       [0],\n",
              "       [0],\n",
              "       [0],\n",
              "       [1],\n",
              "       [0],\n",
              "       [1],\n",
              "       [1],\n",
              "       [0],\n",
              "       [1],\n",
              "       [0],\n",
              "       [1],\n",
              "       [0],\n",
              "       [0],\n",
              "       [0],\n",
              "       [0],\n",
              "       [1],\n",
              "       [0],\n",
              "       [0],\n",
              "       [1],\n",
              "       [0],\n",
              "       [1],\n",
              "       [1],\n",
              "       [1],\n",
              "       [1],\n",
              "       [1],\n",
              "       [0],\n",
              "       [0],\n",
              "       [1],\n",
              "       [0],\n",
              "       [0],\n",
              "       [1],\n",
              "       [1],\n",
              "       [0],\n",
              "       [0],\n",
              "       [1],\n",
              "       [1],\n",
              "       [1],\n",
              "       [0],\n",
              "       [0],\n",
              "       [1],\n",
              "       [0],\n",
              "       [1],\n",
              "       [0],\n",
              "       [0],\n",
              "       [0],\n",
              "       [0],\n",
              "       [0],\n",
              "       [0],\n",
              "       [1],\n",
              "       [1],\n",
              "       [0],\n",
              "       [1],\n",
              "       [1],\n",
              "       [0],\n",
              "       [0],\n",
              "       [1],\n",
              "       [0],\n",
              "       [1],\n",
              "       [0],\n",
              "       [1],\n",
              "       [1],\n",
              "       [0],\n",
              "       [1],\n",
              "       [1],\n",
              "       [1],\n",
              "       [1],\n",
              "       [1],\n",
              "       [1],\n",
              "       [1],\n",
              "       [0],\n",
              "       [0],\n",
              "       [0],\n",
              "       [0],\n",
              "       [0],\n",
              "       [0],\n",
              "       [1],\n",
              "       [1],\n",
              "       [0],\n",
              "       [1],\n",
              "       [1],\n",
              "       [0]])"
            ]
          },
          "metadata": {},
          "execution_count": 577
        }
      ]
    },
    {
      "cell_type": "code",
      "source": [
        "y_test"
      ],
      "metadata": {
        "colab": {
          "base_uri": "https://localhost:8080/"
        },
        "id": "JM6VaUEVQ6Z4",
        "outputId": "0069c156-41e5-4a85-93fe-bd22543d5a1d"
      },
      "execution_count": null,
      "outputs": [
        {
          "output_type": "execute_result",
          "data": {
            "text/plain": [
              "array([0, 0, 1, 0, 0, 1, 1, 1, 1, 0, 0, 1, 1, 0, 1, 1, 1, 1, 1, 1, 1, 1,\n",
              "       0, 0, 0, 1, 1, 1, 0, 0, 0, 0, 0, 1, 1, 1, 1, 0, 0, 1, 0, 1, 1, 0,\n",
              "       1, 0, 0, 0, 1, 1, 1, 1, 0, 0, 0, 0, 1, 0, 0, 1, 1, 0, 0, 0, 0, 0,\n",
              "       0, 1, 1, 0, 0, 1, 0, 1, 0, 0, 0, 0, 0, 0, 0, 0, 1, 1, 0, 0, 0, 0,\n",
              "       1, 0, 1, 1, 0, 1, 0, 1, 1, 0, 0, 0, 1, 1, 0, 1, 0, 1, 1, 1, 1, 1,\n",
              "       1, 1, 1, 0, 1, 0, 0, 0, 0, 1, 1, 1, 0, 1, 1, 0, 1, 0, 0, 0, 0, 0,\n",
              "       0, 0, 1, 0, 0, 0, 0, 0, 0, 0, 1, 0, 0, 0, 1, 1, 0, 1, 1, 1, 1, 1,\n",
              "       0, 1, 0, 0, 0, 0, 0, 1, 0, 0, 1, 0])"
            ]
          },
          "metadata": {},
          "execution_count": 578
        }
      ]
    },
    {
      "cell_type": "code",
      "source": [
        "y_test.shape"
      ],
      "metadata": {
        "colab": {
          "base_uri": "https://localhost:8080/"
        },
        "id": "ysyWY9RyRCZs",
        "outputId": "ffbd1dbc-3a85-4047-be21-d06960ecdfa7"
      },
      "execution_count": null,
      "outputs": [
        {
          "output_type": "execute_result",
          "data": {
            "text/plain": [
              "(166,)"
            ]
          },
          "metadata": {},
          "execution_count": 579
        }
      ]
    },
    {
      "cell_type": "code",
      "source": [
        "y_pred_1.shape"
      ],
      "metadata": {
        "colab": {
          "base_uri": "https://localhost:8080/"
        },
        "id": "90HER_peREzg",
        "outputId": "26b54a20-18ea-46ab-f1fe-5aa68ea8b057"
      },
      "execution_count": null,
      "outputs": [
        {
          "output_type": "execute_result",
          "data": {
            "text/plain": [
              "(166, 1)"
            ]
          },
          "metadata": {},
          "execution_count": 580
        }
      ]
    },
    {
      "cell_type": "markdown",
      "source": [
        "Com as respostas preditas e as respostas padrão ouro, pode-se analisar a **matriz de confusão**"
      ],
      "metadata": {
        "id": "6BRq5uMORZNS"
      }
    },
    {
      "cell_type": "code",
      "source": [
        "cm_1 = confusion_matrix(y_test, y_pred_1)\n",
        "cm_1"
      ],
      "metadata": {
        "colab": {
          "base_uri": "https://localhost:8080/"
        },
        "id": "8N0YPEqpRKMK",
        "outputId": "ea7fb4bb-a6ee-4696-b9e3-b84a21eb1f10"
      },
      "execution_count": null,
      "outputs": [
        {
          "output_type": "execute_result",
          "data": {
            "text/plain": [
              "array([[69, 22],\n",
              "       [12, 63]])"
            ]
          },
          "metadata": {},
          "execution_count": 581
        }
      ]
    },
    {
      "cell_type": "markdown",
      "source": [
        "Novas previsões"
      ],
      "metadata": {
        "id": "9ZMqkrg4oJd3"
      }
    },
    {
      "cell_type": "code",
      "source": [
        "x_new = np.array([[74,4,5,3]]) # saída esperada é 1 (nº 120)\n",
        "x_new.shape"
      ],
      "metadata": {
        "colab": {
          "base_uri": "https://localhost:8080/"
        },
        "id": "PQiaCCVSsGXr",
        "outputId": "a0fa3b5c-d44e-4589-8579-f84e3af247ef"
      },
      "execution_count": null,
      "outputs": [
        {
          "output_type": "execute_result",
          "data": {
            "text/plain": [
              "(1, 4)"
            ]
          },
          "metadata": {},
          "execution_count": 582
        }
      ]
    },
    {
      "cell_type": "code",
      "source": [
        "y_new = model_1.predict(x_new)\n",
        "y_new\n",
        "\n",
        "limiar = 0.5\n",
        "y_pred_new = np.where(y_new > limiar, 1, 0)\n",
        "y_pred_new"
      ],
      "metadata": {
        "colab": {
          "base_uri": "https://localhost:8080/"
        },
        "id": "rlSV0a5EsLSg",
        "outputId": "72fe5903-e08d-4262-d542-b1f570a73f25"
      },
      "execution_count": null,
      "outputs": [
        {
          "output_type": "stream",
          "name": "stdout",
          "text": [
            "1/1 [==============================] - 0s 140ms/step\n"
          ]
        },
        {
          "output_type": "execute_result",
          "data": {
            "text/plain": [
              "array([[1]])"
            ]
          },
          "metadata": {},
          "execution_count": 583
        }
      ]
    },
    {
      "cell_type": "code",
      "source": [
        "x_new = np.array([[48,4,4,3]]) # a saída esperada é 0 (nº 137)\n",
        "y_new = model_1.predict(x_new)\n",
        "y_new\n",
        "\n",
        "limiar = 0.7\n",
        "y_pred_new = np.where(y_new > limiar, 1, 0)\n",
        "y_pred_new"
      ],
      "metadata": {
        "colab": {
          "base_uri": "https://localhost:8080/"
        },
        "id": "6g0OnaIYsQKU",
        "outputId": "dd35910b-ee30-4fde-ae6f-86ef70aaa057"
      },
      "execution_count": null,
      "outputs": [
        {
          "output_type": "stream",
          "name": "stdout",
          "text": [
            "1/1 [==============================] - 0s 33ms/step\n"
          ]
        },
        {
          "output_type": "execute_result",
          "data": {
            "text/plain": [
              "array([[1]])"
            ]
          },
          "metadata": {},
          "execution_count": 584
        }
      ]
    },
    {
      "cell_type": "markdown",
      "source": [
        "O modelo está respondendo bem a verdadeiros positivos e verdadeiros negativos (TP e TN), mas ainda está apresentando um número consideravelmente alto de falsos negativos, sendo preciso aumentar o limiar para diminuir os erros FP\n",
        "\n",
        "Entretanto, isso pode levar a um aumento nos falsos negativos, diminuindo a sensibilidade e potencialmente resultando em pacientes com malignidades não detectadas"
      ],
      "metadata": {
        "id": "-4GUZk_jyLDq"
      }
    },
    {
      "cell_type": "markdown",
      "source": [
        "## Arquitetura 2"
      ],
      "metadata": {
        "id": "jirTLvBmKzxf"
      }
    },
    {
      "cell_type": "code",
      "source": [
        "evaluate = model_2.evaluate(x_test, y_test)"
      ],
      "metadata": {
        "colab": {
          "base_uri": "https://localhost:8080/"
        },
        "id": "NMSlcOe-y-YG",
        "outputId": "ad977cfb-4e23-4be0-c801-ff9bfa2fbb92"
      },
      "execution_count": null,
      "outputs": [
        {
          "output_type": "stream",
          "name": "stdout",
          "text": [
            "6/6 [==============================] - 0s 3ms/step - loss: 0.4977 - accuracy: 0.7711\n"
          ]
        }
      ]
    },
    {
      "cell_type": "code",
      "source": [
        "# Gráfico de Acurácia:\n",
        "plt.plot(history_2.history['accuracy'])\n",
        "plt.title('Model Accuracy')\n",
        "plt.ylabel('Accuracy')\n",
        "plt.xlabel('Epochs')\n",
        "plt.legend(['train'], loc='upper left')\n",
        "plt.show()\n",
        "\n",
        "# Gráfico de Perda:\n",
        "plt.plot(history_2.history['loss'])\n",
        "plt.title('Model Loss')\n",
        "plt.ylabel('Loss')\n",
        "plt.xlabel('Epoch')\n",
        "plt.legend(['train'], loc='upper left')\n",
        "plt.show()"
      ],
      "metadata": {
        "colab": {
          "base_uri": "https://localhost:8080/",
          "height": 927
        },
        "id": "zk_E5BubzCM2",
        "outputId": "78889f45-1cab-41da-f7eb-be17c2c83586"
      },
      "execution_count": null,
      "outputs": [
        {
          "output_type": "display_data",
          "data": {
            "text/plain": [
              "<Figure size 640x480 with 1 Axes>"
            ],
            "image/png": "[encoded data removed]"
          },
          "metadata": {}
        },
        {
          "output_type": "display_data",
          "data": {
            "text/plain": [
              "<Figure size 640x480 with 1 Axes>"
            ],
            "image/png": "[encoded data removed]"
          },
          "metadata": {}
        }
      ]
    },
    {
      "cell_type": "code",
      "source": [
        "predictions_2 = model_2.predict(x_test)\n",
        "predictions_2"
      ],
      "metadata": {
        "colab": {
          "base_uri": "https://localhost:8080/"
        },
        "id": "jramphKJzaJW",
        "outputId": "8ad939da-1b0b-42b8-ae26-a3027d7b9b2d"
      },
      "execution_count": null,
      "outputs": [
        {
          "output_type": "stream",
          "name": "stdout",
          "text": [
            "6/6 [==============================] - 0s 3ms/step\n"
          ]
        },
        {
          "output_type": "execute_result",
          "data": {
            "text/plain": [
              "array([[0.87652165],\n",
              "       [0.23173739],\n",
              "       [0.7965216 ],\n",
              "       [0.12111867],\n",
              "       [0.12111867],\n",
              "       [0.9587154 ],\n",
              "       [0.8921265 ],\n",
              "       [0.8247518 ],\n",
              "       [0.8614789 ],\n",
              "       [0.12111867],\n",
              "       [0.12111867],\n",
              "       [0.75711656],\n",
              "       [0.8093538 ],\n",
              "       [0.13593604],\n",
              "       [0.78559256],\n",
              "       [0.12111867],\n",
              "       [0.8691837 ],\n",
              "       [0.9751573 ],\n",
              "       [0.38338795],\n",
              "       [0.8691837 ],\n",
              "       [0.71942854],\n",
              "       [0.95867765],\n",
              "       [0.12111867],\n",
              "       [0.7049068 ],\n",
              "       [0.88350296],\n",
              "       [0.8790753 ],\n",
              "       [0.12111867],\n",
              "       [0.717361  ],\n",
              "       [0.84867847],\n",
              "       [0.12111867],\n",
              "       [0.63901526],\n",
              "       [0.52488875],\n",
              "       [0.18544886],\n",
              "       [0.8614789 ],\n",
              "       [0.8126485 ],\n",
              "       [0.14243698],\n",
              "       [0.44833577],\n",
              "       [0.12111867],\n",
              "       [0.12111867],\n",
              "       [0.93689823],\n",
              "       [0.13593604],\n",
              "       [0.60566443],\n",
              "       [0.91219735],\n",
              "       [0.12111867],\n",
              "       [0.37981325],\n",
              "       [0.12111867],\n",
              "       [0.12111867],\n",
              "       [0.40280783],\n",
              "       [0.66893214],\n",
              "       [0.47006327],\n",
              "       [0.77509135],\n",
              "       [0.8360638 ],\n",
              "       [0.12111867],\n",
              "       [0.12111867],\n",
              "       [0.12111867],\n",
              "       [0.12111867],\n",
              "       [0.88329935],\n",
              "       [0.12111867],\n",
              "       [0.44460124],\n",
              "       [0.4370295 ],\n",
              "       [0.7502901 ],\n",
              "       [0.12111867],\n",
              "       [0.12111867],\n",
              "       [0.13108031],\n",
              "       [0.9574435 ],\n",
              "       [0.6299703 ],\n",
              "       [0.12111867],\n",
              "       [0.5434632 ],\n",
              "       [0.8012847 ],\n",
              "       [0.12111867],\n",
              "       [0.12111867],\n",
              "       [0.7690186 ],\n",
              "       [0.12111867],\n",
              "       [0.80237085],\n",
              "       [0.5150952 ],\n",
              "       [0.12111867],\n",
              "       [0.54273856],\n",
              "       [0.12111867],\n",
              "       [0.64524966],\n",
              "       [0.12111867],\n",
              "       [0.16427098],\n",
              "       [0.12111867],\n",
              "       [0.8614789 ],\n",
              "       [0.936346  ],\n",
              "       [0.7965216 ],\n",
              "       [0.12111867],\n",
              "       [0.12111867],\n",
              "       [0.12111867],\n",
              "       [0.82679695],\n",
              "       [0.12111867],\n",
              "       [0.6321482 ],\n",
              "       [0.85877734],\n",
              "       [0.12111867],\n",
              "       [0.9742561 ],\n",
              "       [0.12111867],\n",
              "       [0.6970116 ],\n",
              "       [0.12847461],\n",
              "       [0.12111867],\n",
              "       [0.38338795],\n",
              "       [0.12111867],\n",
              "       [0.93995637],\n",
              "       [0.15055431],\n",
              "       [0.12111867],\n",
              "       [0.8691837 ],\n",
              "       [0.1834446 ],\n",
              "       [0.856934  ],\n",
              "       [0.5671111 ],\n",
              "       [0.9694355 ],\n",
              "       [0.9278028 ],\n",
              "       [0.79167384],\n",
              "       [0.12111867],\n",
              "       [0.12111867],\n",
              "       [0.93995637],\n",
              "       [0.13593604],\n",
              "       [0.12111867],\n",
              "       [0.6150226 ],\n",
              "       [0.44833577],\n",
              "       [0.44257233],\n",
              "       [0.12111867],\n",
              "       [0.8964414 ],\n",
              "       [0.7570631 ],\n",
              "       [0.7805565 ],\n",
              "       [0.12111867],\n",
              "       [0.12111867],\n",
              "       [0.85877734],\n",
              "       [0.12111867],\n",
              "       [0.92179805],\n",
              "       [0.13593605],\n",
              "       [0.12111867],\n",
              "       [0.38913697],\n",
              "       [0.17047678],\n",
              "       [0.12111867],\n",
              "       [0.12561776],\n",
              "       [0.5687886 ],\n",
              "       [0.9080321 ],\n",
              "       [0.12111867],\n",
              "       [0.5123471 ],\n",
              "       [0.77424306],\n",
              "       [0.13078938],\n",
              "       [0.12111867],\n",
              "       [0.8790753 ],\n",
              "       [0.12111867],\n",
              "       [0.8901389 ],\n",
              "       [0.12111867],\n",
              "       [0.69701165],\n",
              "       [0.5826566 ],\n",
              "       [0.13593604],\n",
              "       [0.95867765],\n",
              "       [0.9694355 ],\n",
              "       [0.8790753 ],\n",
              "       [0.67546505],\n",
              "       [0.77424306],\n",
              "       [0.8225099 ],\n",
              "       [0.7732451 ],\n",
              "       [0.12111867],\n",
              "       [0.21162088],\n",
              "       [0.12111867],\n",
              "       [0.38338795],\n",
              "       [0.12111867],\n",
              "       [0.12111867],\n",
              "       [0.76247454],\n",
              "       [0.64738786],\n",
              "       [0.15240557],\n",
              "       [0.8126485 ],\n",
              "       [0.94666517],\n",
              "       [0.12111867]], dtype=float32)"
            ]
          },
          "metadata": {},
          "execution_count": 587
        }
      ]
    },
    {
      "cell_type": "code",
      "source": [
        "predictions_2[25]\n",
        "y_test[25]"
      ],
      "metadata": {
        "colab": {
          "base_uri": "https://localhost:8080/"
        },
        "id": "JNLwJ2NZzeUU",
        "outputId": "0a461c9c-118f-4582-91b6-2bfa8c4747a2"
      },
      "execution_count": null,
      "outputs": [
        {
          "output_type": "execute_result",
          "data": {
            "text/plain": [
              "1"
            ]
          },
          "metadata": {},
          "execution_count": 588
        }
      ]
    },
    {
      "cell_type": "code",
      "source": [
        "predictions_2.shape"
      ],
      "metadata": {
        "colab": {
          "base_uri": "https://localhost:8080/"
        },
        "id": "RQ8eLHFxzhSh",
        "outputId": "47eb77fc-f12e-4056-d2d6-57712d621d3c"
      },
      "execution_count": null,
      "outputs": [
        {
          "output_type": "execute_result",
          "data": {
            "text/plain": [
              "(166, 1)"
            ]
          },
          "metadata": {},
          "execution_count": 589
        }
      ]
    },
    {
      "cell_type": "code",
      "source": [
        "limiar = 0.5\n",
        "y_pred_2 = np.where(predictions_2 > limiar, 1, 0)\n",
        "y_pred_2"
      ],
      "metadata": {
        "colab": {
          "base_uri": "https://localhost:8080/"
        },
        "id": "Eg7RO_Z8zj79",
        "outputId": "8bd6012f-535c-4dec-c1fa-3cc03d6ff940"
      },
      "execution_count": null,
      "outputs": [
        {
          "output_type": "execute_result",
          "data": {
            "text/plain": [
              "array([[1],\n",
              "       [0],\n",
              "       [1],\n",
              "       [0],\n",
              "       [0],\n",
              "       [1],\n",
              "       [1],\n",
              "       [1],\n",
              "       [1],\n",
              "       [0],\n",
              "       [0],\n",
              "       [1],\n",
              "       [1],\n",
              "       [0],\n",
              "       [1],\n",
              "       [0],\n",
              "       [1],\n",
              "       [1],\n",
              "       [0],\n",
              "       [1],\n",
              "       [1],\n",
              "       [1],\n",
              "       [0],\n",
              "       [1],\n",
              "       [1],\n",
              "       [1],\n",
              "       [0],\n",
              "       [1],\n",
              "       [1],\n",
              "       [0],\n",
              "       [1],\n",
              "       [1],\n",
              "       [0],\n",
              "       [1],\n",
              "       [1],\n",
              "       [0],\n",
              "       [0],\n",
              "       [0],\n",
              "       [0],\n",
              "       [1],\n",
              "       [0],\n",
              "       [1],\n",
              "       [1],\n",
              "       [0],\n",
              "       [0],\n",
              "       [0],\n",
              "       [0],\n",
              "       [0],\n",
              "       [1],\n",
              "       [0],\n",
              "       [1],\n",
              "       [1],\n",
              "       [0],\n",
              "       [0],\n",
              "       [0],\n",
              "       [0],\n",
              "       [1],\n",
              "       [0],\n",
              "       [0],\n",
              "       [0],\n",
              "       [1],\n",
              "       [0],\n",
              "       [0],\n",
              "       [0],\n",
              "       [1],\n",
              "       [1],\n",
              "       [0],\n",
              "       [1],\n",
              "       [1],\n",
              "       [0],\n",
              "       [0],\n",
              "       [1],\n",
              "       [0],\n",
              "       [1],\n",
              "       [1],\n",
              "       [0],\n",
              "       [1],\n",
              "       [0],\n",
              "       [1],\n",
              "       [0],\n",
              "       [0],\n",
              "       [0],\n",
              "       [1],\n",
              "       [1],\n",
              "       [1],\n",
              "       [0],\n",
              "       [0],\n",
              "       [0],\n",
              "       [1],\n",
              "       [0],\n",
              "       [1],\n",
              "       [1],\n",
              "       [0],\n",
              "       [1],\n",
              "       [0],\n",
              "       [1],\n",
              "       [0],\n",
              "       [0],\n",
              "       [0],\n",
              "       [0],\n",
              "       [1],\n",
              "       [0],\n",
              "       [0],\n",
              "       [1],\n",
              "       [0],\n",
              "       [1],\n",
              "       [1],\n",
              "       [1],\n",
              "       [1],\n",
              "       [1],\n",
              "       [0],\n",
              "       [0],\n",
              "       [1],\n",
              "       [0],\n",
              "       [0],\n",
              "       [1],\n",
              "       [0],\n",
              "       [0],\n",
              "       [0],\n",
              "       [1],\n",
              "       [1],\n",
              "       [1],\n",
              "       [0],\n",
              "       [0],\n",
              "       [1],\n",
              "       [0],\n",
              "       [1],\n",
              "       [0],\n",
              "       [0],\n",
              "       [0],\n",
              "       [0],\n",
              "       [0],\n",
              "       [0],\n",
              "       [1],\n",
              "       [1],\n",
              "       [0],\n",
              "       [1],\n",
              "       [1],\n",
              "       [0],\n",
              "       [0],\n",
              "       [1],\n",
              "       [0],\n",
              "       [1],\n",
              "       [0],\n",
              "       [1],\n",
              "       [1],\n",
              "       [0],\n",
              "       [1],\n",
              "       [1],\n",
              "       [1],\n",
              "       [1],\n",
              "       [1],\n",
              "       [1],\n",
              "       [1],\n",
              "       [0],\n",
              "       [0],\n",
              "       [0],\n",
              "       [0],\n",
              "       [0],\n",
              "       [0],\n",
              "       [1],\n",
              "       [1],\n",
              "       [0],\n",
              "       [1],\n",
              "       [1],\n",
              "       [0]])"
            ]
          },
          "metadata": {},
          "execution_count": 590
        }
      ]
    },
    {
      "cell_type": "code",
      "source": [
        "y_test.shape"
      ],
      "metadata": {
        "colab": {
          "base_uri": "https://localhost:8080/"
        },
        "id": "EYbvj0EEzm9X",
        "outputId": "18afeb9c-81ac-404b-ee78-e5a90920b3a1"
      },
      "execution_count": null,
      "outputs": [
        {
          "output_type": "execute_result",
          "data": {
            "text/plain": [
              "(166,)"
            ]
          },
          "metadata": {},
          "execution_count": 591
        }
      ]
    },
    {
      "cell_type": "code",
      "source": [
        "y_pred_2.shape"
      ],
      "metadata": {
        "colab": {
          "base_uri": "https://localhost:8080/"
        },
        "id": "svzV6hRozn__",
        "outputId": "9c3648c8-f0f4-4558-99bb-d5a739c3cc8c"
      },
      "execution_count": null,
      "outputs": [
        {
          "output_type": "execute_result",
          "data": {
            "text/plain": [
              "(166, 1)"
            ]
          },
          "metadata": {},
          "execution_count": 592
        }
      ]
    },
    {
      "cell_type": "code",
      "source": [
        "cm_2 = confusion_matrix(y_test, y_pred_2)\n",
        "cm_2"
      ],
      "metadata": {
        "colab": {
          "base_uri": "https://localhost:8080/"
        },
        "id": "JdVy9GAxzou1",
        "outputId": "88156a7b-52df-4e40-8ca5-7e0866a4668e"
      },
      "execution_count": null,
      "outputs": [
        {
          "output_type": "execute_result",
          "data": {
            "text/plain": [
              "array([[69, 22],\n",
              "       [16, 59]])"
            ]
          },
          "metadata": {},
          "execution_count": 593
        }
      ]
    },
    {
      "cell_type": "markdown",
      "source": [
        "80 - TP (verdadeiros positivos)\n",
        "\n",
        "11 - FN (falsos negativos)\n",
        "\n",
        "23 - FP (falsos positivos)\n",
        "\n",
        "52 - TN (verdadeiros negativos)"
      ],
      "metadata": {
        "id": "M9lBaHB29UTJ"
      }
    },
    {
      "cell_type": "code",
      "source": [
        "x_new = np.array([[74,4,5,3]]) # resposta esperada é 1 (nº 120)\n",
        "x_new.shape"
      ],
      "metadata": {
        "colab": {
          "base_uri": "https://localhost:8080/"
        },
        "id": "nI-mno5h9lxa",
        "outputId": "165d493c-7a64-4059-822e-d8d30ffc1f96"
      },
      "execution_count": null,
      "outputs": [
        {
          "output_type": "execute_result",
          "data": {
            "text/plain": [
              "(1, 4)"
            ]
          },
          "metadata": {},
          "execution_count": 594
        }
      ]
    },
    {
      "cell_type": "code",
      "source": [
        "y_new = model_2.predict(x_new)\n",
        "limiar = 0.5\n",
        "y_pred_new = np.where(y_new > limiar, 1, 0)\n",
        "y_pred_new"
      ],
      "metadata": {
        "colab": {
          "base_uri": "https://localhost:8080/"
        },
        "id": "xaKh_XC29s53",
        "outputId": "d44ce5dc-3aae-4b4a-a053-fcad27f2388d"
      },
      "execution_count": null,
      "outputs": [
        {
          "output_type": "stream",
          "name": "stdout",
          "text": [
            "1/1 [==============================] - 0s 156ms/step\n"
          ]
        },
        {
          "output_type": "execute_result",
          "data": {
            "text/plain": [
              "array([[1]])"
            ]
          },
          "metadata": {},
          "execution_count": 595
        }
      ]
    },
    {
      "cell_type": "code",
      "source": [
        "x_new = np.array([[48,4,4,3]]) # a saída esperada é 0 (nº 137)\n",
        "y_new = model_2.predict(x_new)\n",
        "y_new\n",
        "\n",
        "limiar = 0.7\n",
        "y_pred_new = np.where(y_new > limiar, 1, 0)\n",
        "y_pred_new"
      ],
      "metadata": {
        "colab": {
          "base_uri": "https://localhost:8080/"
        },
        "id": "PCS9XGsG9xld",
        "outputId": "02ab2645-2f3e-43ab-ae4d-970e280afeb8"
      },
      "execution_count": null,
      "outputs": [
        {
          "output_type": "stream",
          "name": "stdout",
          "text": [
            "1/1 [==============================] - 0s 38ms/step\n"
          ]
        },
        {
          "output_type": "execute_result",
          "data": {
            "text/plain": [
              "array([[1]])"
            ]
          },
          "metadata": {},
          "execution_count": 596
        }
      ]
    },
    {
      "cell_type": "markdown",
      "source": [
        "## Arquitetura 3"
      ],
      "metadata": {
        "id": "t982uNC8K1cE"
      }
    },
    {
      "cell_type": "code",
      "source": [
        "evaluate = model_3.evaluate(x_test, y_test)"
      ],
      "metadata": {
        "colab": {
          "base_uri": "https://localhost:8080/"
        },
        "id": "NnwVaS1F9k6W",
        "outputId": "53c3c6b2-5592-4f92-85d5-47777e470d1b"
      },
      "execution_count": null,
      "outputs": [
        {
          "output_type": "stream",
          "name": "stdout",
          "text": [
            "6/6 [==============================] - 0s 4ms/step - loss: 0.5104 - accuracy: 0.7892\n"
          ]
        }
      ]
    },
    {
      "cell_type": "code",
      "source": [
        "# Gráfico de Acurácia:\n",
        "plt.plot(history_3.history['accuracy'])\n",
        "plt.title('Model Accuracy')\n",
        "plt.ylabel('Accuracy')\n",
        "plt.xlabel('Epochs')\n",
        "plt.legend(['train'], loc='upper left')\n",
        "plt.show()\n",
        "\n",
        "# Gráfico de Perda:\n",
        "plt.plot(history_3.history['loss'])\n",
        "plt.title('Model Loss')\n",
        "plt.ylabel('Loss')\n",
        "plt.xlabel('Epoch')\n",
        "plt.legend(['train'], loc='upper left')\n",
        "plt.show()"
      ],
      "metadata": {
        "colab": {
          "base_uri": "https://localhost:8080/",
          "height": 927
        },
        "id": "JW_rlQpq-GKG",
        "outputId": "4ada861a-1adb-437c-a6fa-112c97766468"
      },
      "execution_count": null,
      "outputs": [
        {
          "output_type": "display_data",
          "data": {
            "text/plain": [
              "<Figure size 640x480 with 1 Axes>"
            ],
            "image/png": "[encoded data removed]"
          },
          "metadata": {}
        },
        {
          "output_type": "display_data",
          "data": {
            "text/plain": [
              "<Figure size 640x480 with 1 Axes>"
            ],
            "image/png": "[encoded data removed]"
          },
          "metadata": {}
        }
      ]
    },
    {
      "cell_type": "code",
      "source": [
        "predictions_3 = model_3.predict(x_test)\n",
        "predictions_3"
      ],
      "metadata": {
        "colab": {
          "base_uri": "https://localhost:8080/"
        },
        "id": "vkObXM7rEtNZ",
        "outputId": "1e8fad47-6fa1-4a26-b302-b011a1fa93de"
      },
      "execution_count": null,
      "outputs": [
        {
          "output_type": "stream",
          "name": "stdout",
          "text": [
            "6/6 [==============================] - 0s 3ms/step\n"
          ]
        },
        {
          "output_type": "execute_result",
          "data": {
            "text/plain": [
              "array([[0.8650584 ],\n",
              "       [0.06561226],\n",
              "       [0.7381109 ],\n",
              "       [0.09534696],\n",
              "       [0.0438428 ],\n",
              "       [0.9906332 ],\n",
              "       [0.8818564 ],\n",
              "       [0.8118711 ],\n",
              "       [0.825176  ],\n",
              "       [0.1340679 ],\n",
              "       [0.20082621],\n",
              "       [0.9276998 ],\n",
              "       [0.9044709 ],\n",
              "       [0.13550866],\n",
              "       [0.72902167],\n",
              "       [0.16392276],\n",
              "       [0.84617174],\n",
              "       [0.9940587 ],\n",
              "       [0.23843172],\n",
              "       [0.84617174],\n",
              "       [0.9583837 ],\n",
              "       [0.98386407],\n",
              "       [0.3257575 ],\n",
              "       [0.8313294 ],\n",
              "       [0.8819496 ],\n",
              "       [0.9002783 ],\n",
              "       [0.08728714],\n",
              "       [0.7245494 ],\n",
              "       [0.7991842 ],\n",
              "       [0.06651741],\n",
              "       [0.62514997],\n",
              "       [0.674781  ],\n",
              "       [0.09087051],\n",
              "       [0.825176  ],\n",
              "       [0.7890182 ],\n",
              "       [0.3118402 ],\n",
              "       [0.3582237 ],\n",
              "       [0.01885344],\n",
              "       [0.03805093],\n",
              "       [0.9662973 ],\n",
              "       [0.13550866],\n",
              "       [0.41481075],\n",
              "       [0.9411479 ],\n",
              "       [0.00362496],\n",
              "       [0.69271904],\n",
              "       [0.04592013],\n",
              "       [0.05532317],\n",
              "       [0.4237843 ],\n",
              "       [0.639932  ],\n",
              "       [0.810299  ],\n",
              "       [0.91020966],\n",
              "       [0.7724517 ],\n",
              "       [0.09534696],\n",
              "       [0.04592013],\n",
              "       [0.0177261 ],\n",
              "       [0.13280542],\n",
              "       [0.86138165],\n",
              "       [0.06651741],\n",
              "       [0.56010014],\n",
              "       [0.843874  ],\n",
              "       [0.70059633],\n",
              "       [0.22263125],\n",
              "       [0.14415585],\n",
              "       [0.02107873],\n",
              "       [0.9894178 ],\n",
              "       [0.69452935],\n",
              "       [0.11965759],\n",
              "       [0.59073734],\n",
              "       [0.7666971 ],\n",
              "       [0.01158313],\n",
              "       [0.01485542],\n",
              "       [0.7378776 ],\n",
              "       [0.09534696],\n",
              "       [0.77356   ],\n",
              "       [0.4987833 ],\n",
              "       [0.12363374],\n",
              "       [0.43172756],\n",
              "       [0.01460505],\n",
              "       [0.72350824],\n",
              "       [0.0728737 ],\n",
              "       [0.13670073],\n",
              "       [0.0117751 ],\n",
              "       [0.825176  ],\n",
              "       [0.9796653 ],\n",
              "       [0.7381109 ],\n",
              "       [0.00249312],\n",
              "       [0.11661899],\n",
              "       [0.00531566],\n",
              "       [0.7641734 ],\n",
              "       [0.29772034],\n",
              "       [0.7216151 ],\n",
              "       [0.8715175 ],\n",
              "       [0.1340679 ],\n",
              "       [0.9962181 ],\n",
              "       [0.06651743],\n",
              "       [0.8837225 ],\n",
              "       [0.07845207],\n",
              "       [0.02993491],\n",
              "       [0.23843172],\n",
              "       [0.01980544],\n",
              "       [0.97550285],\n",
              "       [0.10150026],\n",
              "       [0.13456133],\n",
              "       [0.84617174],\n",
              "       [0.14266053],\n",
              "       [0.81212544],\n",
              "       [0.68813276],\n",
              "       [0.9908876 ],\n",
              "       [0.9619617 ],\n",
              "       [0.7573175 ],\n",
              "       [0.105818  ],\n",
              "       [0.12566598],\n",
              "       [0.97550285],\n",
              "       [0.13550866],\n",
              "       [0.12282889],\n",
              "       [0.6993333 ],\n",
              "       [0.3582237 ],\n",
              "       [0.33603755],\n",
              "       [0.05234231],\n",
              "       [0.91028845],\n",
              "       [0.730781  ],\n",
              "       [0.7448525 ],\n",
              "       [0.01360192],\n",
              "       [0.27112603],\n",
              "       [0.8715175 ],\n",
              "       [0.05532317],\n",
              "       [0.9611637 ],\n",
              "       [0.13550864],\n",
              "       [0.18139234],\n",
              "       [0.29585898],\n",
              "       [0.13720219],\n",
              "       [0.12037095],\n",
              "       [0.23378658],\n",
              "       [0.75544703],\n",
              "       [0.9311837 ],\n",
              "       [0.1179556 ],\n",
              "       [0.9443084 ],\n",
              "       [0.71973664],\n",
              "       [0.13527134],\n",
              "       [0.13999365],\n",
              "       [0.9002783 ],\n",
              "       [0.00131291],\n",
              "       [0.89697844],\n",
              "       [0.01244958],\n",
              "       [0.88372254],\n",
              "       [0.607615  ],\n",
              "       [0.13550866],\n",
              "       [0.98386407],\n",
              "       [0.9908876 ],\n",
              "       [0.9002783 ],\n",
              "       [0.71390384],\n",
              "       [0.71973664],\n",
              "       [0.8036892 ],\n",
              "       [0.58088523],\n",
              "       [0.08881283],\n",
              "       [0.17048812],\n",
              "       [0.00813026],\n",
              "       [0.23843172],\n",
              "       [0.14811468],\n",
              "       [0.03148573],\n",
              "       [0.7102601 ],\n",
              "       [0.7132969 ],\n",
              "       [0.1362229 ],\n",
              "       [0.7890182 ],\n",
              "       [0.9748781 ],\n",
              "       [0.22263125]], dtype=float32)"
            ]
          },
          "metadata": {},
          "execution_count": 599
        }
      ]
    },
    {
      "cell_type": "code",
      "source": [
        "print(predictions_3[25])\n",
        "print(y_test[25])"
      ],
      "metadata": {
        "colab": {
          "base_uri": "https://localhost:8080/"
        },
        "id": "bmFi5GAAEu0l",
        "outputId": "bae47efe-fa13-4af1-9c9a-e380443d9721"
      },
      "execution_count": null,
      "outputs": [
        {
          "output_type": "stream",
          "name": "stdout",
          "text": [
            "[0.9002783]\n",
            "1\n"
          ]
        }
      ]
    },
    {
      "cell_type": "code",
      "source": [
        "predictions_3.shape"
      ],
      "metadata": {
        "colab": {
          "base_uri": "https://localhost:8080/"
        },
        "id": "p3KGqcb6E2rw",
        "outputId": "67b95796-37f1-45b8-a68b-358310cefe1a"
      },
      "execution_count": null,
      "outputs": [
        {
          "output_type": "execute_result",
          "data": {
            "text/plain": [
              "(166, 1)"
            ]
          },
          "metadata": {},
          "execution_count": 601
        }
      ]
    },
    {
      "cell_type": "code",
      "source": [
        "limiar = 0.5\n",
        "y_pred_3 = np.where(predictions_3 > limiar, 1, 0)\n",
        "y_pred_3"
      ],
      "metadata": {
        "colab": {
          "base_uri": "https://localhost:8080/"
        },
        "id": "GKELfH_QE43B",
        "outputId": "433a328f-9236-4645-92bf-cf11f3c48a6d"
      },
      "execution_count": null,
      "outputs": [
        {
          "output_type": "execute_result",
          "data": {
            "text/plain": [
              "array([[1],\n",
              "       [0],\n",
              "       [1],\n",
              "       [0],\n",
              "       [0],\n",
              "       [1],\n",
              "       [1],\n",
              "       [1],\n",
              "       [1],\n",
              "       [0],\n",
              "       [0],\n",
              "       [1],\n",
              "       [1],\n",
              "       [0],\n",
              "       [1],\n",
              "       [0],\n",
              "       [1],\n",
              "       [1],\n",
              "       [0],\n",
              "       [1],\n",
              "       [1],\n",
              "       [1],\n",
              "       [0],\n",
              "       [1],\n",
              "       [1],\n",
              "       [1],\n",
              "       [0],\n",
              "       [1],\n",
              "       [1],\n",
              "       [0],\n",
              "       [1],\n",
              "       [1],\n",
              "       [0],\n",
              "       [1],\n",
              "       [1],\n",
              "       [0],\n",
              "       [0],\n",
              "       [0],\n",
              "       [0],\n",
              "       [1],\n",
              "       [0],\n",
              "       [0],\n",
              "       [1],\n",
              "       [0],\n",
              "       [1],\n",
              "       [0],\n",
              "       [0],\n",
              "       [0],\n",
              "       [1],\n",
              "       [1],\n",
              "       [1],\n",
              "       [1],\n",
              "       [0],\n",
              "       [0],\n",
              "       [0],\n",
              "       [0],\n",
              "       [1],\n",
              "       [0],\n",
              "       [1],\n",
              "       [1],\n",
              "       [1],\n",
              "       [0],\n",
              "       [0],\n",
              "       [0],\n",
              "       [1],\n",
              "       [1],\n",
              "       [0],\n",
              "       [1],\n",
              "       [1],\n",
              "       [0],\n",
              "       [0],\n",
              "       [1],\n",
              "       [0],\n",
              "       [1],\n",
              "       [0],\n",
              "       [0],\n",
              "       [0],\n",
              "       [0],\n",
              "       [1],\n",
              "       [0],\n",
              "       [0],\n",
              "       [0],\n",
              "       [1],\n",
              "       [1],\n",
              "       [1],\n",
              "       [0],\n",
              "       [0],\n",
              "       [0],\n",
              "       [1],\n",
              "       [0],\n",
              "       [1],\n",
              "       [1],\n",
              "       [0],\n",
              "       [1],\n",
              "       [0],\n",
              "       [1],\n",
              "       [0],\n",
              "       [0],\n",
              "       [0],\n",
              "       [0],\n",
              "       [1],\n",
              "       [0],\n",
              "       [0],\n",
              "       [1],\n",
              "       [0],\n",
              "       [1],\n",
              "       [1],\n",
              "       [1],\n",
              "       [1],\n",
              "       [1],\n",
              "       [0],\n",
              "       [0],\n",
              "       [1],\n",
              "       [0],\n",
              "       [0],\n",
              "       [1],\n",
              "       [0],\n",
              "       [0],\n",
              "       [0],\n",
              "       [1],\n",
              "       [1],\n",
              "       [1],\n",
              "       [0],\n",
              "       [0],\n",
              "       [1],\n",
              "       [0],\n",
              "       [1],\n",
              "       [0],\n",
              "       [0],\n",
              "       [0],\n",
              "       [0],\n",
              "       [0],\n",
              "       [0],\n",
              "       [1],\n",
              "       [1],\n",
              "       [0],\n",
              "       [1],\n",
              "       [1],\n",
              "       [0],\n",
              "       [0],\n",
              "       [1],\n",
              "       [0],\n",
              "       [1],\n",
              "       [0],\n",
              "       [1],\n",
              "       [1],\n",
              "       [0],\n",
              "       [1],\n",
              "       [1],\n",
              "       [1],\n",
              "       [1],\n",
              "       [1],\n",
              "       [1],\n",
              "       [1],\n",
              "       [0],\n",
              "       [0],\n",
              "       [0],\n",
              "       [0],\n",
              "       [0],\n",
              "       [0],\n",
              "       [1],\n",
              "       [1],\n",
              "       [0],\n",
              "       [1],\n",
              "       [1],\n",
              "       [0]])"
            ]
          },
          "metadata": {},
          "execution_count": 602
        }
      ]
    },
    {
      "cell_type": "code",
      "source": [
        "y_test"
      ],
      "metadata": {
        "colab": {
          "base_uri": "https://localhost:8080/"
        },
        "id": "I3zcn18tE8re",
        "outputId": "ebead3e9-832d-4f57-8a7a-4a659a5044f5"
      },
      "execution_count": null,
      "outputs": [
        {
          "output_type": "execute_result",
          "data": {
            "text/plain": [
              "array([0, 0, 1, 0, 0, 1, 1, 1, 1, 0, 0, 1, 1, 0, 1, 1, 1, 1, 1, 1, 1, 1,\n",
              "       0, 0, 0, 1, 1, 1, 0, 0, 0, 0, 0, 1, 1, 1, 1, 0, 0, 1, 0, 1, 1, 0,\n",
              "       1, 0, 0, 0, 1, 1, 1, 1, 0, 0, 0, 0, 1, 0, 0, 1, 1, 0, 0, 0, 0, 0,\n",
              "       0, 1, 1, 0, 0, 1, 0, 1, 0, 0, 0, 0, 0, 0, 0, 0, 1, 1, 0, 0, 0, 0,\n",
              "       1, 0, 1, 1, 0, 1, 0, 1, 1, 0, 0, 0, 1, 1, 0, 1, 0, 1, 1, 1, 1, 1,\n",
              "       1, 1, 1, 0, 1, 0, 0, 0, 0, 1, 1, 1, 0, 1, 1, 0, 1, 0, 0, 0, 0, 0,\n",
              "       0, 0, 1, 0, 0, 0, 0, 0, 0, 0, 1, 0, 0, 0, 1, 1, 0, 1, 1, 1, 1, 1,\n",
              "       0, 1, 0, 0, 0, 0, 0, 1, 0, 0, 1, 0])"
            ]
          },
          "metadata": {},
          "execution_count": 603
        }
      ]
    },
    {
      "cell_type": "code",
      "source": [
        "y_test.shape"
      ],
      "metadata": {
        "colab": {
          "base_uri": "https://localhost:8080/"
        },
        "id": "TkODVc0yE_S_",
        "outputId": "a70ed051-3dc6-4f19-9ed0-c0dfccc3d927"
      },
      "execution_count": null,
      "outputs": [
        {
          "output_type": "execute_result",
          "data": {
            "text/plain": [
              "(166,)"
            ]
          },
          "metadata": {},
          "execution_count": 604
        }
      ]
    },
    {
      "cell_type": "code",
      "source": [
        "y_pred_3.shape"
      ],
      "metadata": {
        "colab": {
          "base_uri": "https://localhost:8080/"
        },
        "id": "SJuIbo8lFARs",
        "outputId": "dda4a244-0802-4175-a56b-286aa8efb3a0"
      },
      "execution_count": null,
      "outputs": [
        {
          "output_type": "execute_result",
          "data": {
            "text/plain": [
              "(166, 1)"
            ]
          },
          "metadata": {},
          "execution_count": 605
        }
      ]
    },
    {
      "cell_type": "code",
      "source": [
        "cm_3 = confusion_matrix(y_test, y_pred_3)\n",
        "cm_3"
      ],
      "metadata": {
        "colab": {
          "base_uri": "https://localhost:8080/"
        },
        "id": "G9wZlS4UFCUi",
        "outputId": "47c5d2f5-67cf-4eb5-fe00-898385bc475f"
      },
      "execution_count": null,
      "outputs": [
        {
          "output_type": "execute_result",
          "data": {
            "text/plain": [
              "array([[70, 21],\n",
              "       [14, 61]])"
            ]
          },
          "metadata": {},
          "execution_count": 606
        }
      ]
    },
    {
      "cell_type": "markdown",
      "source": [
        "72 - TP\n",
        "\n",
        "19 - FN\n",
        "\n",
        "19 - FP\n",
        "\n",
        "56 - TN"
      ],
      "metadata": {
        "id": "klxbAkkTF1r-"
      }
    },
    {
      "cell_type": "code",
      "source": [
        "x_new = np.array([[74,4,5,3]]) # resposta esperada é 1 (nº 120)\n",
        "x_new.shape"
      ],
      "metadata": {
        "colab": {
          "base_uri": "https://localhost:8080/"
        },
        "id": "Yo6_ZxvdGWPD",
        "outputId": "18a1cd5e-fc87-44ce-fd43-311122f97e61"
      },
      "execution_count": null,
      "outputs": [
        {
          "output_type": "execute_result",
          "data": {
            "text/plain": [
              "(1, 4)"
            ]
          },
          "metadata": {},
          "execution_count": 607
        }
      ]
    },
    {
      "cell_type": "code",
      "source": [
        "y_new = model_3.predict(x_new)\n",
        "limiar = 0.5\n",
        "y_pred_new = np.where(y_new > limiar, 1, 0)\n",
        "y_pred_new"
      ],
      "metadata": {
        "colab": {
          "base_uri": "https://localhost:8080/"
        },
        "id": "M_CVL4qjHEhh",
        "outputId": "422d1930-43fb-4a6a-e23b-0307d3b2af99"
      },
      "execution_count": null,
      "outputs": [
        {
          "output_type": "stream",
          "name": "stdout",
          "text": [
            "1/1 [==============================] - 0s 73ms/step\n"
          ]
        },
        {
          "output_type": "execute_result",
          "data": {
            "text/plain": [
              "array([[1]])"
            ]
          },
          "metadata": {},
          "execution_count": 608
        }
      ]
    },
    {
      "cell_type": "code",
      "source": [
        "x_new = np.array([[48,4,4,3]]) # a saída esperada é 0 (nº 137)\n",
        "y_new = model_3.predict(x_new)\n",
        "y_new\n",
        "\n",
        "limiar = 0.7\n",
        "y_pred_new = np.where(y_new > limiar, 1, 0)\n",
        "y_pred_new"
      ],
      "metadata": {
        "colab": {
          "base_uri": "https://localhost:8080/"
        },
        "id": "zlvZQ-pFHHSm",
        "outputId": "070fb79f-dffb-47c5-ce85-06dde41ab3e7"
      },
      "execution_count": null,
      "outputs": [
        {
          "output_type": "stream",
          "name": "stdout",
          "text": [
            "1/1 [==============================] - 0s 27ms/step\n"
          ]
        },
        {
          "output_type": "execute_result",
          "data": {
            "text/plain": [
              "array([[1]])"
            ]
          },
          "metadata": {},
          "execution_count": 609
        }
      ]
    },
    {
      "cell_type": "markdown",
      "source": [
        "# Salving the models"
      ],
      "metadata": {
        "id": "NQVQEWQsPRBI"
      }
    },
    {
      "cell_type": "markdown",
      "source": [
        "1. Usar o `model.save` para salvar o modelo"
      ],
      "metadata": {
        "id": "jlLL748LP3hL"
      }
    },
    {
      "cell_type": "code",
      "source": [
        "model_1.save('model_32_200_mama.h5')\n",
        "model_2.save('model_64_400_mama.h5')\n",
        "model_3.save('model_128_800_mama.h5')"
      ],
      "metadata": {
        "id": "ZQLtqtP5Pp0s"
      },
      "execution_count": null,
      "outputs": []
    },
    {
      "cell_type": "markdown",
      "source": [
        "2. Usar o `tf.keras.models.load_model` para carregar o modelo"
      ],
      "metadata": {
        "id": "ETICYlPEP6Ib"
      }
    },
    {
      "cell_type": "code",
      "source": [
        "model_1 = tf.keras.models.load_model('model_32_200_mama.h5')\n",
        "model_2 = tf.keras.models.load_model('model_64_400_mama.h5')\n",
        "model_3 = tf.keras.models.load_model('model_128_800_mama.h5')"
      ],
      "metadata": {
        "id": "BbhscUXiP8pO"
      },
      "execution_count": null,
      "outputs": []
    },
    {
      "cell_type": "markdown",
      "source": [
        "3. Usar ```evaluate```para avaliar os modelos"
      ],
      "metadata": {
        "id": "4oskbOr_QgL8"
      }
    },
    {
      "cell_type": "code",
      "source": [
        "evaluation_results_1 = model_1.evaluate(x_test, y_test)\n",
        "print(evaluation_results_1)"
      ],
      "metadata": {
        "colab": {
          "base_uri": "https://localhost:8080/"
        },
        "id": "aFwwgoAXQj-l",
        "outputId": "39b03f96-27a2-4973-9108-950e1993a56a"
      },
      "execution_count": null,
      "outputs": [
        {
          "output_type": "stream",
          "name": "stdout",
          "text": [
            "6/6 [==============================] - 0s 5ms/step - loss: 0.6351 - accuracy: 0.7952\n",
            "[0.6351142525672913, 0.7951807379722595]\n"
          ]
        }
      ]
    },
    {
      "cell_type": "code",
      "source": [
        "y_new2 = model_1.predict(x_new)\n",
        "y_new2"
      ],
      "metadata": {
        "colab": {
          "base_uri": "https://localhost:8080/"
        },
        "id": "VcXwO96rQ0A4",
        "outputId": "d386afe4-afdb-4b53-a052-f35629c083c3"
      },
      "execution_count": null,
      "outputs": [
        {
          "output_type": "stream",
          "name": "stdout",
          "text": [
            "1/1 [==============================] - 0s 88ms/step\n"
          ]
        },
        {
          "output_type": "execute_result",
          "data": {
            "text/plain": [
              "array([[1.]], dtype=float32)"
            ]
          },
          "metadata": {},
          "execution_count": 613
        }
      ]
    },
    {
      "cell_type": "code",
      "source": [
        "evaluation_results_2 = model_2.evaluate(x_test, y_test)\n",
        "print(evaluation_results_2)"
      ],
      "metadata": {
        "colab": {
          "base_uri": "https://localhost:8080/"
        },
        "id": "xNb2uztzQvav",
        "outputId": "50f9bf26-430d-4669-d4ad-4d8cf5afa9d5"
      },
      "execution_count": null,
      "outputs": [
        {
          "output_type": "stream",
          "name": "stdout",
          "text": [
            "6/6 [==============================] - 0s 3ms/step - loss: 0.4977 - accuracy: 0.7711\n",
            "[0.49769219756126404, 0.7710843086242676]\n"
          ]
        }
      ]
    },
    {
      "cell_type": "code",
      "source": [
        "y_new2 = model_2.predict(x_new)\n",
        "y_new2"
      ],
      "metadata": {
        "colab": {
          "base_uri": "https://localhost:8080/"
        },
        "id": "0bZdJqwUQ5IO",
        "outputId": "a2bc5f0c-e5dd-491c-f66c-ecd65307912d"
      },
      "execution_count": null,
      "outputs": [
        {
          "output_type": "stream",
          "name": "stdout",
          "text": [
            "1/1 [==============================] - 0s 124ms/step\n"
          ]
        },
        {
          "output_type": "execute_result",
          "data": {
            "text/plain": [
              "array([[1.]], dtype=float32)"
            ]
          },
          "metadata": {},
          "execution_count": 615
        }
      ]
    },
    {
      "cell_type": "code",
      "source": [
        "evaluation_results_3 = model_3.evaluate(x_test, y_test)\n",
        "print(evaluation_results_3)"
      ],
      "metadata": {
        "colab": {
          "base_uri": "https://localhost:8080/"
        },
        "id": "mH4Ey4W4Q7pi",
        "outputId": "5066d72d-b806-4594-dd84-3698b90d7d4c"
      },
      "execution_count": null,
      "outputs": [
        {
          "output_type": "stream",
          "name": "stdout",
          "text": [
            "6/6 [==============================] - 0s 6ms/step - loss: 0.5104 - accuracy: 0.7892\n",
            "[0.510356605052948, 0.7891566157341003]\n"
          ]
        }
      ]
    },
    {
      "cell_type": "code",
      "source": [
        "y_new2 = model_3.predict(x_new)\n",
        "y_new2"
      ],
      "metadata": {
        "colab": {
          "base_uri": "https://localhost:8080/"
        },
        "id": "wPxlHOLgQ9wl",
        "outputId": "bc1ef207-54d3-4073-db25-626b0ea2f43e"
      },
      "execution_count": null,
      "outputs": [
        {
          "output_type": "stream",
          "name": "stdout",
          "text": [
            "1/1 [==============================] - 0s 125ms/step\n"
          ]
        },
        {
          "output_type": "execute_result",
          "data": {
            "text/plain": [
              "array([[1.]], dtype=float32)"
            ]
          },
          "metadata": {},
          "execution_count": 617
        }
      ]
    }
  ]
}